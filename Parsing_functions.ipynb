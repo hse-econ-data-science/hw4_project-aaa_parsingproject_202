{
 "cells": [
  {
   "cell_type": "code",
   "execution_count": 1,
   "metadata": {},
   "outputs": [],
   "source": [
    "import numpy as np\n",
    "import pandas as pd\n",
    "import requests      # Библиотека для отправки запросов\n",
    "import numpy as np   # Библиотека для матриц, векторов и линала\n",
    "import pandas as pd  # Библиотека для табличек\n",
    "import time\n",
    "from bs4 import BeautifulSoup\n",
    "from tqdm.notebook import tqdm\n",
    "from fake_useragent import UserAgent\n",
    "from collections import defaultdict"
   ]
  },
  {
   "cell_type": "markdown",
   "metadata": {},
   "source": [
    "Функция для сбора ссылок на авто"
   ]
  },
  {
   "cell_type": "code",
   "execution_count": 2,
   "metadata": {},
   "outputs": [],
   "source": [
    "def get_page(p):\n",
    "    car_links = []\n",
    "    try:   \n",
    "        url = 'https://auto.ru/odintsovo/cars/mercedes/all/?page={}'.format(p)\n",
    "        headers = {'User-Agent': UserAgent().chrome}\n",
    "        page = requests.get(url, headers=headers)\n",
    "        tree = BeautifulSoup(page.content, 'html.parser')\n",
    "        list_cars = tree.find_all('div', {'class' : 'ListingItem-module__container yfnNqZQFB37ZapTJ4ZqHrh9_jpc4V8kiq_ozCcSBi6A'})\n",
    "        for link in range(len(list_cars)):\n",
    "            one_car = list_cars[link].find('div', {'class': 'ListingItem-module__description'})\n",
    "            one_car = one_car.a.get('href')\n",
    "            car_links.append(one_car)\n",
    "    except:\n",
    "        print(response)\n",
    "    return car_links"
   ]
  },
  {
   "cell_type": "markdown",
   "metadata": {},
   "source": [
    "Непосредственно сбор сылок на авто с помощью цикла"
   ]
  },
  {
   "cell_type": "code",
   "execution_count": null,
   "metadata": {},
   "outputs": [],
   "source": [
    "all_links = []\n",
    "for pages in tqdm(range(1 ,101)):\n",
    "    time.sleep(3)\n",
    "    all_links.extend(get_page(pages))"
   ]
  },
  {
   "cell_type": "markdown",
   "metadata": {},
   "source": [
    "Функция для сбора данных по каждой машине"
   ]
  },
  {
   "cell_type": "code",
   "execution_count": 3,
   "metadata": {},
   "outputs": [],
   "source": [
    "lost_links = []\n",
    "def getData(car_link):\n",
    "    try:\n",
    "    \n",
    "        #car_link = 'https://auto.ru/cars/used/sale/mercedes/e_klasse_amg/1103623785-4d11f3da/'\n",
    "        response = requests.get(car_link, headers = {'User-Agent':UserAgent().chrome}, timeout = 15)\n",
    "        tree = BeautifulSoup(response.content, 'html.parser')\n",
    "        #Заголовок\n",
    "        head = tree.find('div', {'class': 'LayoutSidebar__content'})\n",
    "        name = head.find('div', {'class': 'CardSidebarActions'})\n",
    "        #Название авто\n",
    "        name = head.find('div', {'class': 'CardSidebarActions__title'}).text\n",
    "        #Цена\n",
    "        price = head.find('div', {'class': 'CardSidebarActions__price-caption'})\n",
    "        price = price.find('span', {'class': 'OfferPriceCaption__price'}).text[:-2]\n",
    "        price = price.replace(u'\\xa0', u'')\n",
    "        price# = int(price)\n",
    "\n",
    "        #Характеристики\n",
    "        characteristics = head.find('div', {'class': 'CardOfferBody__twoColumns'})\n",
    "        #Год выпуска\n",
    "        year = characteristics.find('li', {'class': 'CardInfoRow CardInfoRow_year'})\n",
    "        year = \"\" if not year else year.a.text\n",
    "        #Пробег\n",
    "        kilometres = characteristics.find('li', {'class': 'CardInfoRow CardInfoRow_kmAge'})\n",
    "        kilometres = kilometres.find_all('span', {'class': 'CardInfoRow__cell'})\n",
    "        kilometres = \"\" if not kilometres else kilometres[1].get_text()[:-3]\n",
    "        kilometres = kilometres.replace(u'\\xa0', u'')\n",
    "        kilometres  = int(kilometres)\n",
    "        #Кузов\n",
    "        body = characteristics.find('li', {'class': 'CardInfoRow CardInfoRow_bodytype'})\n",
    "        body = \"\" if not year else body.a.text\n",
    "        #Цвет\n",
    "        color = characteristics.find('li', {'class': 'CardInfoRow CardInfoRow_color'})\n",
    "        color = color.find_all('span', {'class': 'CardInfoRow__cell'})\n",
    "        color = \"\" if not color else color[1].get_text()\n",
    "        #Двигатель:\n",
    "        engine = characteristics.find('li', {'class': 'CardInfoRow CardInfoRow_engine'})\n",
    "        engine = engine.div.text.split('/')\n",
    "        #Объем двигателя\n",
    "        engine_volume = \"\" if not engine else float(engine[0][:-3])\n",
    "        #Мощность двигателя\n",
    "        engine_power = \"\" if not engine else int(engine[1].split()[0])\n",
    "        #Тип двигателя\n",
    "        engine_type = \"\" if not engine else engine[-1].split()[0]\n",
    "        #Налог\n",
    "        tax = characteristics.find('li', {'class': 'CardInfoRow CardInfoRow_transportTax'})\n",
    "        tax = tax.find_all('span', {'class': 'CardInfoRow__cell'})\n",
    "        tax = \"\" if not tax else int(tax[1].text.replace(u'\\xa0', u'').split('/')[0][:-2])\n",
    "        #Коробка передач\n",
    "        gears = characteristics.find('li', {'class': 'CardInfoRow CardInfoRow_transmission'})\n",
    "        gears = gears.find_all('span', {'class': 'CardInfoRow__cell'})\n",
    "        gears = \"\" if not gears else gears[1].get_text()\n",
    "        #Привод\n",
    "        actuator = characteristics.find('li', {'class': 'CardInfoRow CardInfoRow_drive'})\n",
    "        actuator = actuator.find_all('span', {'class': 'CardInfoRow__cell'})\n",
    "        actuator = \"\" if not actuator else actuator[1].get_text()\n",
    "        #Руль\n",
    "        wheel = characteristics.find('li', {'class': 'CardInfoRow CardInfoRow_wheel'})\n",
    "        wheel  = wheel.find_all('span', {'class': 'CardInfoRow__cell'})\n",
    "        wheel  = \"\" if not wheel  else wheel[1].get_text()\n",
    "        #Состояние\n",
    "        condition = characteristics.find('li', {'class': 'CardInfoRow CardInfoRow_state'})\n",
    "        condition  = condition.find_all('span', {'class': 'CardInfoRow__cell'})\n",
    "        condition  = \"\" if not condition  else condition[1].get_text()\n",
    "        #Владельцы\n",
    "        owners = characteristics.find('li', {'class': 'CardInfoRow CardInfoRow_ownersCount'})\n",
    "        owners  = owners.find_all('span', {'class': 'CardInfoRow__cell'})\n",
    "        owners  = \"\" if not owners  else owners[1].get_text().replace(u'\\xa0', u' ')\n",
    "        #Сумма по кредиту\n",
    "        try:\n",
    "            credit = int(characteristics.find_all('div', {'class': 'CreditCalculatorDesktop__field-value'})[1].text.split('/')[0].replace(u'\\xa0' , u'')[:-2])\n",
    "            credit = \"\" if not credit else credit\n",
    "        except:\n",
    "            credit = '-'\n",
    "        #Создадим первый словарь для будущей таблицы с описанием количества параметров\n",
    "\n",
    "        first_table = defaultdict()\n",
    "        columns = ['Комфорт', 'Безопасность', 'Мультимедиа', 'Салон', 'Обзор', 'Защита от угона', 'Элементы экстерьера']\n",
    "        try:\n",
    "            all_features = characteristics.find_all('div', {'class': 'AccordionSection ComplectationGroups__group'})\n",
    "\n",
    "            #Создаем словарь с количеством описательных признаков\n",
    "            for item in all_features:\n",
    "                try:\n",
    "                    feature = item.find('div', {'class': 'ComplectationGroups__item'})\n",
    "                except:\n",
    "                    first_table['wrong_findings'] = '-'\n",
    "                try:\n",
    "                    feature_name  = feature.find('span', {'class': 'ComplectationGroups__itemName'}).text\n",
    "                    if feature_name in columns:\n",
    "                        feature_quantity = int(feature.find('span', {'class': 'ComplectationGroups__itemCount'}).text)\n",
    "                        first_table[feature_name] = feature_quantity\n",
    "                except:\n",
    "                    first_table[feature_table] = '-'\n",
    "        except:\n",
    "            for i in columns:\n",
    "                first_table[i] = '-'\n",
    "\n",
    "        #Создадим финальный словарь\n",
    "        data_row = {\"Название авто\":name, \"Цена\":price, \n",
    "                         \"Год выпуска\":year, \n",
    "                        \"Пробег\":kilometres,\n",
    "                        \"Кузов\":body,\"Цвет\":color, \"Объем двигателя\":engine_volume, \n",
    "                        \"Мощность двигателя\":engine_power, \"Тип двигателя\":engine_type, \"Налог\":tax, \"Коробка передач\":gears,\n",
    "                        \"Привод\":actuator, \"Руль\":wheel, \"Состояние\":condition,\"Владельцы\":owners,\"Сумма по кредиту\":credit}\n",
    "        first_table.update(data_row)\n",
    "        return first_table\n",
    "    except:\n",
    "        pass\n",
    "        lost_links.append(car_link)\n",
    "        return 'no'   "
   ]
  },
  {
   "cell_type": "markdown",
   "metadata": {},
   "source": [
    "Непосредственный сбор данных по каждому авто: характеристики собираются, стакаются в табличку ,и обновленная табличка сразу же сохраняется в файл."
   ]
  },
  {
   "cell_type": "code",
   "execution_count": null,
   "metadata": {},
   "outputs": [],
   "source": [
    "for car_link in tqdm(links_final):\n",
    "    time.sleep(3)\n",
    "    data = getData(car_link)\n",
    "    if data == None:\n",
    "        print(data)\n",
    "    else:\n",
    "        final_df = final_df.append(data, ignore_index=True)\n",
    "        final_df.to_csv('FINALCAR_DATA', 'w')"
   ]
  },
  {
   "cell_type": "markdown",
   "metadata": {},
   "source": [
    "В конце считываем данные из файла, получаяя итоговую таблицу со данными."
   ]
  },
  {
   "cell_type": "code",
   "execution_count": null,
   "metadata": {},
   "outputs": [],
   "source": [
    "df = pd.read_csv('FINALCAR_DATA.csv', delimiter='w')\n",
    "df"
   ]
  },
  {
   "cell_type": "code",
   "execution_count": null,
   "metadata": {},
   "outputs": [],
   "source": []
  },
  {
   "cell_type": "code",
   "execution_count": null,
   "metadata": {},
   "outputs": [],
   "source": []
  }
 ],
 "metadata": {
  "kernelspec": {
   "display_name": "Python 3",
   "language": "python",
   "name": "python3"
  },
  "language_info": {
   "codemirror_mode": {
    "name": "ipython",
    "version": 3
   },
   "file_extension": ".py",
   "mimetype": "text/x-python",
   "name": "python",
   "nbconvert_exporter": "python",
   "pygments_lexer": "ipython3",
   "version": "3.8.5"
  }
 },
 "nbformat": 4,
 "nbformat_minor": 4
}
