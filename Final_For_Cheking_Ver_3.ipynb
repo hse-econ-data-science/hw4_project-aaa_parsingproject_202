{
 "cells": [
  {
   "cell_type": "markdown",
   "metadata": {},
   "source": [
    "# Команда: Филатова Анна, Павлова Арина, Копейкин Александр"
   ]
  },
  {
   "cell_type": "markdown",
   "metadata": {},
   "source": [
    "# Шаг 1"
   ]
  },
  {
   "cell_type": "markdown",
   "metadata": {},
   "source": [
    "Сначала будет представлен код для парсинга"
   ]
  },
  {
   "cell_type": "code",
   "execution_count": 1,
   "metadata": {},
   "outputs": [],
   "source": [
    "# Так назыавется файл с исходными даннымми в гите: FINAL_CAR_DATA.csv"
   ]
  },
  {
   "cell_type": "code",
   "execution_count": 1,
   "metadata": {},
   "outputs": [],
   "source": [
    "import numpy as np\n",
    "import pandas as pd\n",
    "import requests      # Библиотека для отправки запросов\n",
    "import numpy as np   # Библиотека для матриц, векторов и линала\n",
    "import pandas as pd  # Библиотека для табличек\n",
    "import time\n",
    "from bs4 import BeautifulSoup\n",
    "from tqdm.notebook import tqdm\n",
    "from fake_useragent import UserAgent\n",
    "from collections import defaultdict\n",
    "import matplotlib.pyplot as plt\n",
    "import seaborn as sns"
   ]
  },
  {
   "cell_type": "markdown",
   "metadata": {},
   "source": [
    "Функция для сбора ссылок на авто"
   ]
  },
  {
   "cell_type": "code",
   "execution_count": 2,
   "metadata": {},
   "outputs": [],
   "source": [
    "def get_page(p):\n",
    "    car_links = []\n",
    "    try:   \n",
    "        url = 'https://auto.ru/odintsovo/cars/mercedes/all/?page={}'.format(p)\n",
    "        headers = {'User-Agent': UserAgent().chrome}\n",
    "        page = requests.get(url, headers=headers)\n",
    "        tree = BeautifulSoup(page.content, 'html.parser')\n",
    "        list_cars = tree.find_all('div', {'class' : 'ListingItem-module__container yfnNqZQFB37ZapTJ4ZqHrh9_jpc4V8kiq_ozCcSBi6A'})\n",
    "        for link in range(len(list_cars)):\n",
    "            one_car = list_cars[link].find('div', {'class': 'ListingItem-module__description'})\n",
    "            one_car = one_car.a.get('href')\n",
    "            car_links.append(one_car)\n",
    "    except:\n",
    "        print(response)\n",
    "    return car_links"
   ]
  },
  {
   "cell_type": "markdown",
   "metadata": {},
   "source": [
    "Непосредственно сбор сылок на авто с помощью цикла"
   ]
  },
  {
   "cell_type": "code",
   "execution_count": null,
   "metadata": {},
   "outputs": [],
   "source": [
    "all_links = []\n",
    "for pages in tqdm(range(1 ,101)):\n",
    "    time.sleep(3)\n",
    "    all_links.extend(get_page(pages))"
   ]
  },
  {
   "cell_type": "markdown",
   "metadata": {},
   "source": [
    "Функция для сбора данных по каждой машине"
   ]
  },
  {
   "cell_type": "code",
   "execution_count": null,
   "metadata": {},
   "outputs": [],
   "source": [
    "lost_links = []\n",
    "def getData(car_link):\n",
    "    try:\n",
    "    \n",
    "        #car_link = 'https://auto.ru/cars/used/sale/mercedes/e_klasse_amg/1103623785-4d11f3da/'\n",
    "        response = requests.get(car_link, headers = {'User-Agent':UserAgent().chrome}, timeout = 15)\n",
    "        tree = BeautifulSoup(response.content, 'html.parser')\n",
    "        #Заголовок\n",
    "        head = tree.find('div', {'class': 'LayoutSidebar__content'})\n",
    "        name = head.find('div', {'class': 'CardSidebarActions'})\n",
    "        #Название авто\n",
    "        name = head.find('div', {'class': 'CardSidebarActions__title'}).text\n",
    "        #Цена\n",
    "        price = head.find('div', {'class': 'CardSidebarActions__price-caption'})\n",
    "        price = price.find('span', {'class': 'OfferPriceCaption__price'}).text[:-2]\n",
    "        price = price.replace(u'\\xa0', u'')\n",
    "        price# = int(price)\n",
    "\n",
    "        #Характеристики\n",
    "        characteristics = head.find('div', {'class': 'CardOfferBody__twoColumns'})\n",
    "        #Год выпуска\n",
    "        year = characteristics.find('li', {'class': 'CardInfoRow CardInfoRow_year'})\n",
    "        year = \"\" if not year else year.a.text\n",
    "        #Пробег\n",
    "        kilometres = characteristics.find('li', {'class': 'CardInfoRow CardInfoRow_kmAge'})\n",
    "        kilometres = kilometres.find_all('span', {'class': 'CardInfoRow__cell'})\n",
    "        kilometres = \"\" if not kilometres else kilometres[1].get_text()[:-3]\n",
    "        kilometres = kilometres.replace(u'\\xa0', u'')\n",
    "        kilometres  = int(kilometres)\n",
    "        #Кузов\n",
    "        body = characteristics.find('li', {'class': 'CardInfoRow CardInfoRow_bodytype'})\n",
    "        body = \"\" if not year else body.a.text\n",
    "        #Цвет\n",
    "        color = characteristics.find('li', {'class': 'CardInfoRow CardInfoRow_color'})\n",
    "        color = color.find_all('span', {'class': 'CardInfoRow__cell'})\n",
    "        color = \"\" if not color else color[1].get_text()\n",
    "        #Двигатель:\n",
    "        engine = characteristics.find('li', {'class': 'CardInfoRow CardInfoRow_engine'})\n",
    "        engine = engine.div.text.split('/')\n",
    "        #Объем двигателя\n",
    "        engine_volume = \"\" if not engine else float(engine[0][:-3])\n",
    "        #Мощность двигателя\n",
    "        engine_power = \"\" if not engine else int(engine[1].split()[0])\n",
    "        #Тип двигателя\n",
    "        engine_type = \"\" if not engine else engine[-1].split()[0]\n",
    "        #Налог\n",
    "        tax = characteristics.find('li', {'class': 'CardInfoRow CardInfoRow_transportTax'})\n",
    "        tax = tax.find_all('span', {'class': 'CardInfoRow__cell'})\n",
    "        tax = \"\" if not tax else int(tax[1].text.replace(u'\\xa0', u'').split('/')[0][:-2])\n",
    "        #Коробка передач\n",
    "        gears = characteristics.find('li', {'class': 'CardInfoRow CardInfoRow_transmission'})\n",
    "        gears = gears.find_all('span', {'class': 'CardInfoRow__cell'})\n",
    "        gears = \"\" if not gears else gears[1].get_text()\n",
    "        #Привод\n",
    "        actuator = characteristics.find('li', {'class': 'CardInfoRow CardInfoRow_drive'})\n",
    "        actuator = actuator.find_all('span', {'class': 'CardInfoRow__cell'})\n",
    "        actuator = \"\" if not actuator else actuator[1].get_text()\n",
    "        #Руль\n",
    "        wheel = characteristics.find('li', {'class': 'CardInfoRow CardInfoRow_wheel'})\n",
    "        wheel  = wheel.find_all('span', {'class': 'CardInfoRow__cell'})\n",
    "        wheel  = \"\" if not wheel  else wheel[1].get_text()\n",
    "        #Состояние\n",
    "        condition = characteristics.find('li', {'class': 'CardInfoRow CardInfoRow_state'})\n",
    "        condition  = condition.find_all('span', {'class': 'CardInfoRow__cell'})\n",
    "        condition  = \"\" if not condition  else condition[1].get_text()\n",
    "        #Владельцы\n",
    "        owners = characteristics.find('li', {'class': 'CardInfoRow CardInfoRow_ownersCount'})\n",
    "        owners  = owners.find_all('span', {'class': 'CardInfoRow__cell'})\n",
    "        owners  = \"\" if not owners  else owners[1].get_text().replace(u'\\xa0', u' ')\n",
    "        #Сумма по кредиту\n",
    "        try:\n",
    "            credit = int(characteristics.find_all('div', {'class': 'CreditCalculatorDesktop__field-value'})[1].text.split('/')[0].replace(u'\\xa0' , u'')[:-2])\n",
    "            credit = \"\" if not credit else credit\n",
    "        except:\n",
    "            credit = '-'\n",
    "        #Создадим первый словарь для будущей таблицы с описанием количества параметров\n",
    "\n",
    "        first_table = defaultdict()\n",
    "        columns = ['Комфорт', 'Безопасность', 'Мультимедиа', 'Салон', 'Обзор', 'Защита от угона', 'Элементы экстерьера']\n",
    "        try:\n",
    "            all_features = characteristics.find_all('div', {'class': 'AccordionSection ComplectationGroups__group'})\n",
    "\n",
    "            #Создаем словарь с количеством описательных признаков\n",
    "            for item in all_features:\n",
    "                try:\n",
    "                    feature = item.find('div', {'class': 'ComplectationGroups__item'})\n",
    "                except:\n",
    "                    first_table['wrong_findings'] = '-'\n",
    "                try:\n",
    "                    feature_name  = feature.find('span', {'class': 'ComplectationGroups__itemName'}).text\n",
    "                    if feature_name in columns:\n",
    "                        feature_quantity = int(feature.find('span', {'class': 'ComplectationGroups__itemCount'}).text)\n",
    "                        first_table[feature_name] = feature_quantity\n",
    "                except:\n",
    "                    first_table[feature_table] = '-'\n",
    "        except:\n",
    "            for i in columns:\n",
    "                first_table[i] = '-'\n",
    "\n",
    "        #Создадим финальный словарь\n",
    "        data_row = {\"Название авто\":name, \"Цена\":price, \n",
    "                         \"Год выпуска\":year, \n",
    "                        \"Пробег\":kilometres,\n",
    "                        \"Кузов\":body,\"Цвет\":color, \"Объем двигателя\":engine_volume, \n",
    "                        \"Мощность двигателя\":engine_power, \"Тип двигателя\":engine_type, \"Налог\":tax, \"Коробка передач\":gears,\n",
    "                        \"Привод\":actuator, \"Руль\":wheel, \"Состояние\":condition,\"Владельцы\":owners,\"Сумма по кредиту\":credit}\n",
    "        first_table.update(data_row)\n",
    "        return first_table\n",
    "    except:\n",
    "        pass\n",
    "        lost_links.append(car_link)\n",
    "        return 'no' "
   ]
  },
  {
   "cell_type": "markdown",
   "metadata": {},
   "source": [
    "Непосредственный сбор данных по каждому авто: характеристики собираются, стакаются в табличку ,и обновленная табличка сразу же сохраняется в файл."
   ]
  },
  {
   "cell_type": "code",
   "execution_count": null,
   "metadata": {},
   "outputs": [],
   "source": [
    "for car_link in tqdm(links_final):\n",
    "    time.sleep(3)\n",
    "    data = getData(car_link)\n",
    "    if data == None:\n",
    "        print(data)\n",
    "    else:\n",
    "        final_df = final_df.append(data, ignore_index=True)\n",
    "        final_df.to_csv('FINALCAR_DATA', 'w')"
   ]
  },
  {
   "cell_type": "markdown",
   "metadata": {},
   "source": [
    "В конце считываем данные из файла, получаяя итоговую таблицу со данными."
   ]
  },
  {
   "cell_type": "code",
   "execution_count": 2,
   "metadata": {},
   "outputs": [],
   "source": [
    "df = pd.read_csv('FINALCAR_DATA.csv', delimiter='w')\n"
   ]
  },
  {
   "cell_type": "code",
   "execution_count": 3,
   "metadata": {},
   "outputs": [
    {
     "data": {
      "text/html": [
       "<div>\n",
       "<style scoped>\n",
       "    .dataframe tbody tr th:only-of-type {\n",
       "        vertical-align: middle;\n",
       "    }\n",
       "\n",
       "    .dataframe tbody tr th {\n",
       "        vertical-align: top;\n",
       "    }\n",
       "\n",
       "    .dataframe thead th {\n",
       "        text-align: right;\n",
       "    }\n",
       "</style>\n",
       "<table border=\"1\" class=\"dataframe\">\n",
       "  <thead>\n",
       "    <tr style=\"text-align: right;\">\n",
       "      <th></th>\n",
       "      <th>Название авто</th>\n",
       "      <th>Цена</th>\n",
       "      <th>Год выпуска</th>\n",
       "      <th>Пробег</th>\n",
       "      <th>Кузов</th>\n",
       "      <th>Цвет</th>\n",
       "      <th>Объем двигателя</th>\n",
       "      <th>Мощность двигателя</th>\n",
       "      <th>Тип двигателя</th>\n",
       "      <th>Налог</th>\n",
       "      <th>...</th>\n",
       "      <th>Состояние</th>\n",
       "      <th>Владельцы</th>\n",
       "      <th>Сумма по кредиту</th>\n",
       "      <th>Безопасность</th>\n",
       "      <th>Защита от угона</th>\n",
       "      <th>Комфорт</th>\n",
       "      <th>Мультимедиа</th>\n",
       "      <th>Обзор</th>\n",
       "      <th>Салон</th>\n",
       "      <th>Элементы экстерьера</th>\n",
       "    </tr>\n",
       "  </thead>\n",
       "  <tbody>\n",
       "    <tr>\n",
       "      <th>0</th>\n",
       "      <td>Mercedes-Benz E-Класс IV (W212, S212, C207)</td>\n",
       "      <td>1175000</td>\n",
       "      <td>2011</td>\n",
       "      <td>153000</td>\n",
       "      <td>седан</td>\n",
       "      <td>белый</td>\n",
       "      <td>3.5</td>\n",
       "      <td>272</td>\n",
       "      <td>Бензин</td>\n",
       "      <td>40800</td>\n",
       "      <td>...</td>\n",
       "      <td>Не требует ремонта</td>\n",
       "      <td>3 или более</td>\n",
       "      <td>22650</td>\n",
       "      <td>9.0</td>\n",
       "      <td>4.0</td>\n",
       "      <td>15.0</td>\n",
       "      <td>5.0</td>\n",
       "      <td>8.0</td>\n",
       "      <td>14.0</td>\n",
       "      <td>2.0</td>\n",
       "    </tr>\n",
       "    <tr>\n",
       "      <th>1</th>\n",
       "      <td>Mercedes-Benz AMG GT I Рестайлинг</td>\n",
       "      <td>7890000</td>\n",
       "      <td>2019</td>\n",
       "      <td>21000</td>\n",
       "      <td>лифтбек</td>\n",
       "      <td>чёрный</td>\n",
       "      <td>3.0</td>\n",
       "      <td>367</td>\n",
       "      <td>Бензин</td>\n",
       "      <td>110100</td>\n",
       "      <td>...</td>\n",
       "      <td>Не требует ремонта</td>\n",
       "      <td>1 владелец</td>\n",
       "      <td>96200</td>\n",
       "      <td>13.0</td>\n",
       "      <td>4.0</td>\n",
       "      <td>23.0</td>\n",
       "      <td>9.0</td>\n",
       "      <td>8.0</td>\n",
       "      <td>14.0</td>\n",
       "      <td>3.0</td>\n",
       "    </tr>\n",
       "    <tr>\n",
       "      <th>2</th>\n",
       "      <td>Mercedes-Benz V-Класс II</td>\n",
       "      <td>20995000</td>\n",
       "      <td>2020</td>\n",
       "      <td>1</td>\n",
       "      <td>минивэн</td>\n",
       "      <td>чёрный</td>\n",
       "      <td>2.1</td>\n",
       "      <td>190</td>\n",
       "      <td>Дизель</td>\n",
       "      <td>10450</td>\n",
       "      <td>...</td>\n",
       "      <td>Не требует ремонта</td>\n",
       "      <td>1 владелец</td>\n",
       "      <td>-</td>\n",
       "      <td>13.0</td>\n",
       "      <td>4.0</td>\n",
       "      <td>13.0</td>\n",
       "      <td>5.0</td>\n",
       "      <td>6.0</td>\n",
       "      <td>10.0</td>\n",
       "      <td>4.0</td>\n",
       "    </tr>\n",
       "    <tr>\n",
       "      <th>3</th>\n",
       "      <td>Mercedes-Benz R-Класс I Рестайлинг</td>\n",
       "      <td>830000</td>\n",
       "      <td>2009</td>\n",
       "      <td>184000</td>\n",
       "      <td>минивэн</td>\n",
       "      <td>чёрный</td>\n",
       "      <td>3.5</td>\n",
       "      <td>272</td>\n",
       "      <td>Бензин</td>\n",
       "      <td>40800</td>\n",
       "      <td>...</td>\n",
       "      <td>Не требует ремонта</td>\n",
       "      <td>3 или более</td>\n",
       "      <td>16000</td>\n",
       "      <td>1.0</td>\n",
       "      <td>NaN</td>\n",
       "      <td>5.0</td>\n",
       "      <td>NaN</td>\n",
       "      <td>1.0</td>\n",
       "      <td>4.0</td>\n",
       "      <td>1.0</td>\n",
       "    </tr>\n",
       "    <tr>\n",
       "      <th>4</th>\n",
       "      <td>Mercedes-Benz E-Класс IV (W212, S212, C207) Ре...</td>\n",
       "      <td>1750000</td>\n",
       "      <td>2013</td>\n",
       "      <td>80000</td>\n",
       "      <td>купе-хардтоп</td>\n",
       "      <td>коричневый</td>\n",
       "      <td>3.5</td>\n",
       "      <td>306</td>\n",
       "      <td>Бензин</td>\n",
       "      <td>45900</td>\n",
       "      <td>...</td>\n",
       "      <td>Не требует ремонта</td>\n",
       "      <td>3 или более</td>\n",
       "      <td>33700</td>\n",
       "      <td>13.0</td>\n",
       "      <td>3.0</td>\n",
       "      <td>15.0</td>\n",
       "      <td>5.0</td>\n",
       "      <td>6.0</td>\n",
       "      <td>12.0</td>\n",
       "      <td>2.0</td>\n",
       "    </tr>\n",
       "    <tr>\n",
       "      <th>...</th>\n",
       "      <td>...</td>\n",
       "      <td>...</td>\n",
       "      <td>...</td>\n",
       "      <td>...</td>\n",
       "      <td>...</td>\n",
       "      <td>...</td>\n",
       "      <td>...</td>\n",
       "      <td>...</td>\n",
       "      <td>...</td>\n",
       "      <td>...</td>\n",
       "      <td>...</td>\n",
       "      <td>...</td>\n",
       "      <td>...</td>\n",
       "      <td>...</td>\n",
       "      <td>...</td>\n",
       "      <td>...</td>\n",
       "      <td>...</td>\n",
       "      <td>...</td>\n",
       "      <td>...</td>\n",
       "      <td>...</td>\n",
       "      <td>...</td>\n",
       "    </tr>\n",
       "    <tr>\n",
       "      <th>1736</th>\n",
       "      <td>Mercedes-Benz GLK-Класс I (X204)</td>\n",
       "      <td>850000</td>\n",
       "      <td>2009</td>\n",
       "      <td>187000</td>\n",
       "      <td>внедорожник 5 дв.</td>\n",
       "      <td>чёрный</td>\n",
       "      <td>3.0</td>\n",
       "      <td>231</td>\n",
       "      <td>Бензин</td>\n",
       "      <td>17325</td>\n",
       "      <td>...</td>\n",
       "      <td>Не требует ремонта</td>\n",
       "      <td>3 или более</td>\n",
       "      <td>16400</td>\n",
       "      <td>NaN</td>\n",
       "      <td>NaN</td>\n",
       "      <td>NaN</td>\n",
       "      <td>NaN</td>\n",
       "      <td>NaN</td>\n",
       "      <td>NaN</td>\n",
       "      <td>NaN</td>\n",
       "    </tr>\n",
       "    <tr>\n",
       "      <th>1737</th>\n",
       "      <td>Mercedes-Benz S-Класс III (W140) Рестайлинг</td>\n",
       "      <td>530000</td>\n",
       "      <td>1995</td>\n",
       "      <td>345000</td>\n",
       "      <td>седан</td>\n",
       "      <td>чёрный</td>\n",
       "      <td>2.8</td>\n",
       "      <td>193</td>\n",
       "      <td>Бензин</td>\n",
       "      <td>9457</td>\n",
       "      <td>...</td>\n",
       "      <td>Не требует ремонта</td>\n",
       "      <td>3 или более</td>\n",
       "      <td>-</td>\n",
       "      <td>5.0</td>\n",
       "      <td>2.0</td>\n",
       "      <td>10.0</td>\n",
       "      <td>3.0</td>\n",
       "      <td>2.0</td>\n",
       "      <td>8.0</td>\n",
       "      <td>1.0</td>\n",
       "    </tr>\n",
       "    <tr>\n",
       "      <th>1738</th>\n",
       "      <td>Mercedes-Benz SL-Класс IV (R129) Рестайлинг 2</td>\n",
       "      <td>3000000</td>\n",
       "      <td>1999</td>\n",
       "      <td>200000</td>\n",
       "      <td>родстер</td>\n",
       "      <td>чёрный</td>\n",
       "      <td>5.0</td>\n",
       "      <td>306</td>\n",
       "      <td>Бензин</td>\n",
       "      <td>45900</td>\n",
       "      <td>...</td>\n",
       "      <td>Не требует ремонта</td>\n",
       "      <td>2 владельца</td>\n",
       "      <td>-</td>\n",
       "      <td>NaN</td>\n",
       "      <td>NaN</td>\n",
       "      <td>NaN</td>\n",
       "      <td>NaN</td>\n",
       "      <td>NaN</td>\n",
       "      <td>2.0</td>\n",
       "      <td>1.0</td>\n",
       "    </tr>\n",
       "    <tr>\n",
       "      <th>1739</th>\n",
       "      <td>Mercedes-Benz CLA I (C117, X117)</td>\n",
       "      <td>1700000</td>\n",
       "      <td>2016</td>\n",
       "      <td>54000</td>\n",
       "      <td>седан</td>\n",
       "      <td>фиолетовый</td>\n",
       "      <td>1.6</td>\n",
       "      <td>156</td>\n",
       "      <td>Бензин</td>\n",
       "      <td>7644</td>\n",
       "      <td>...</td>\n",
       "      <td>Не требует ремонта</td>\n",
       "      <td>1 владелец</td>\n",
       "      <td>32750</td>\n",
       "      <td>NaN</td>\n",
       "      <td>NaN</td>\n",
       "      <td>NaN</td>\n",
       "      <td>NaN</td>\n",
       "      <td>NaN</td>\n",
       "      <td>NaN</td>\n",
       "      <td>NaN</td>\n",
       "    </tr>\n",
       "    <tr>\n",
       "      <th>1740</th>\n",
       "      <td>Mercedes-Benz G-Класс II (W463) Рестайлинг 2</td>\n",
       "      <td>2900000</td>\n",
       "      <td>2010</td>\n",
       "      <td>229000</td>\n",
       "      <td>внедорожник 5 дв.</td>\n",
       "      <td>чёрный</td>\n",
       "      <td>5.5</td>\n",
       "      <td>388</td>\n",
       "      <td>Бензин</td>\n",
       "      <td>58200</td>\n",
       "      <td>...</td>\n",
       "      <td>Не требует ремонта</td>\n",
       "      <td>2 владельца</td>\n",
       "      <td>55800</td>\n",
       "      <td>3.0</td>\n",
       "      <td>4.0</td>\n",
       "      <td>16.0</td>\n",
       "      <td>6.0</td>\n",
       "      <td>11.0</td>\n",
       "      <td>12.0</td>\n",
       "      <td>2.0</td>\n",
       "    </tr>\n",
       "  </tbody>\n",
       "</table>\n",
       "<p>1741 rows × 23 columns</p>\n",
       "</div>"
      ],
      "text/plain": [
       "                                          Название авто      Цена  \\\n",
       "0           Mercedes-Benz E-Класс IV (W212, S212, C207)   1175000   \n",
       "1                     Mercedes-Benz AMG GT I Рестайлинг   7890000   \n",
       "2                              Mercedes-Benz V-Класс II  20995000   \n",
       "3                    Mercedes-Benz R-Класс I Рестайлинг    830000   \n",
       "4     Mercedes-Benz E-Класс IV (W212, S212, C207) Ре...   1750000   \n",
       "...                                                 ...       ...   \n",
       "1736                   Mercedes-Benz GLK-Класс I (X204)    850000   \n",
       "1737        Mercedes-Benz S-Класс III (W140) Рестайлинг    530000   \n",
       "1738      Mercedes-Benz SL-Класс IV (R129) Рестайлинг 2   3000000   \n",
       "1739                   Mercedes-Benz CLA I (C117, X117)   1700000   \n",
       "1740       Mercedes-Benz G-Класс II (W463) Рестайлинг 2   2900000   \n",
       "\n",
       "      Год выпуска  Пробег              Кузов        Цвет  Объем двигателя  \\\n",
       "0            2011  153000              седан       белый              3.5   \n",
       "1            2019   21000            лифтбек      чёрный              3.0   \n",
       "2            2020       1            минивэн      чёрный              2.1   \n",
       "3            2009  184000            минивэн      чёрный              3.5   \n",
       "4            2013   80000       купе-хардтоп  коричневый              3.5   \n",
       "...           ...     ...                ...         ...              ...   \n",
       "1736         2009  187000  внедорожник 5 дв.      чёрный              3.0   \n",
       "1737         1995  345000              седан      чёрный              2.8   \n",
       "1738         1999  200000            родстер      чёрный              5.0   \n",
       "1739         2016   54000              седан  фиолетовый              1.6   \n",
       "1740         2010  229000  внедорожник 5 дв.      чёрный              5.5   \n",
       "\n",
       "      Мощность двигателя Тип двигателя   Налог  ...           Состояние  \\\n",
       "0                    272        Бензин   40800  ...  Не требует ремонта   \n",
       "1                    367        Бензин  110100  ...  Не требует ремонта   \n",
       "2                    190        Дизель   10450  ...  Не требует ремонта   \n",
       "3                    272        Бензин   40800  ...  Не требует ремонта   \n",
       "4                    306        Бензин   45900  ...  Не требует ремонта   \n",
       "...                  ...           ...     ...  ...                 ...   \n",
       "1736                 231        Бензин   17325  ...  Не требует ремонта   \n",
       "1737                 193        Бензин    9457  ...  Не требует ремонта   \n",
       "1738                 306        Бензин   45900  ...  Не требует ремонта   \n",
       "1739                 156        Бензин    7644  ...  Не требует ремонта   \n",
       "1740                 388        Бензин   58200  ...  Не требует ремонта   \n",
       "\n",
       "        Владельцы Сумма по кредиту Безопасность Защита от угона Комфорт  \\\n",
       "0     3 или более            22650          9.0             4.0    15.0   \n",
       "1      1 владелец            96200         13.0             4.0    23.0   \n",
       "2      1 владелец                -         13.0             4.0    13.0   \n",
       "3     3 или более            16000          1.0             NaN     5.0   \n",
       "4     3 или более            33700         13.0             3.0    15.0   \n",
       "...           ...              ...          ...             ...     ...   \n",
       "1736  3 или более            16400          NaN             NaN     NaN   \n",
       "1737  3 или более                -          5.0             2.0    10.0   \n",
       "1738  2 владельца                -          NaN             NaN     NaN   \n",
       "1739   1 владелец            32750          NaN             NaN     NaN   \n",
       "1740  2 владельца            55800          3.0             4.0    16.0   \n",
       "\n",
       "      Мультимедиа  Обзор  Салон  Элементы экстерьера  \n",
       "0             5.0    8.0   14.0                  2.0  \n",
       "1             9.0    8.0   14.0                  3.0  \n",
       "2             5.0    6.0   10.0                  4.0  \n",
       "3             NaN    1.0    4.0                  1.0  \n",
       "4             5.0    6.0   12.0                  2.0  \n",
       "...           ...    ...    ...                  ...  \n",
       "1736          NaN    NaN    NaN                  NaN  \n",
       "1737          3.0    2.0    8.0                  1.0  \n",
       "1738          NaN    NaN    2.0                  1.0  \n",
       "1739          NaN    NaN    NaN                  NaN  \n",
       "1740          6.0   11.0   12.0                  2.0  \n",
       "\n",
       "[1741 rows x 23 columns]"
      ]
     },
     "execution_count": 3,
     "metadata": {},
     "output_type": "execute_result"
    }
   ],
   "source": [
    "df = df.drop(['Unnamed: 0'], axis = 1)\n",
    "df"
   ]
  },
  {
   "cell_type": "code",
   "execution_count": null,
   "metadata": {},
   "outputs": [],
   "source": []
  },
  {
   "cell_type": "markdown",
   "metadata": {},
   "source": [
    "# Шаг 2"
   ]
  },
  {
   "cell_type": "markdown",
   "metadata": {},
   "source": [
    "Данные собраны успешно, поэтому пропуски имеются только в категориях: 'Безопасность',\n",
    "'Защита от угона', 'Комфорт', 'Мультимедиа', 'Обзор', 'Салон','Элементы экстерьера'. Это связано с тем, что в объявлении могут вообще не указывать количество особенностей по каждой из данных категорий или с тем, что в объявлении нет описания для некоторой категории, но есть описание по остальным.\n",
    "В таком случае самым разумным решением будет заменить Nan в категории на нулевое значение, потому что если в объявлении особенности не укзаны, значит, покупатель не может их анализировать и сравнивать с другими предложениями. Следовательно, он по умолчанию подразумевает, что у модели может не быть особенностей, которые не указаны на прямую.\n",
    "\n"
   ]
  },
  {
   "attachments": {
    "image.png": {
     "image/png": "[encoded data removed]"
    }
   },
   "cell_type": "markdown",
   "metadata": {},
   "source": [
    "![image.png](attachment:image.png)"
   ]
  },
  {
   "cell_type": "markdown",
   "metadata": {},
   "source": [
    "На фото доказывается то, что Nan есть только у перечисленных категорий."
   ]
  },
  {
   "cell_type": "code",
   "execution_count": null,
   "metadata": {},
   "outputs": [],
   "source": []
  },
  {
   "cell_type": "code",
   "execution_count": null,
   "metadata": {},
   "outputs": [],
   "source": []
  },
  {
   "cell_type": "code",
   "execution_count": 4,
   "metadata": {},
   "outputs": [],
   "source": [
    "df = df.fillna(0)"
   ]
  },
  {
   "cell_type": "markdown",
   "metadata": {},
   "source": [
    "# Шаг 3"
   ]
  },
  {
   "cell_type": "markdown",
   "metadata": {},
   "source": [
    "Добавляем новые признаки. Сначала обработаем год выпуска машины. Разобъем годы выпуска на диапазоны и для соответствующего диапазона дадим машине качественную характеристику, которая будет выражена численно. Это понадобится в дальнейшем для построения матрицы корреляций. Соответствие следующее: 0 - Старый. 1 - Устаревший. 2 - Средних лет. 3 - Новый. 4 - Новейший. "
   ]
  },
  {
   "cell_type": "code",
   "execution_count": 5,
   "metadata": {},
   "outputs": [
    {
     "data": {
      "text/plain": [
       "count    1741.000000\n",
       "mean     2014.049971\n",
       "std         5.619683\n",
       "min      1959.000000\n",
       "25%      2012.000000\n",
       "50%      2015.000000\n",
       "75%      2018.000000\n",
       "max      2021.000000\n",
       "Name: Год выпуска, dtype: float64"
      ]
     },
     "execution_count": 5,
     "metadata": {},
     "output_type": "execute_result"
    }
   ],
   "source": [
    "df['Год выпуска'].describe()"
   ]
  },
  {
   "cell_type": "code",
   "execution_count": 6,
   "metadata": {},
   "outputs": [],
   "source": [
    "values = []\n",
    "for year in df['Год выпуска']:\n",
    "    if year < 2000:\n",
    "        values.append(0)\n",
    "    elif 2000 <= year < 2005:        \n",
    "        values.append(1)\n",
    "    elif 2005 <= year < 2010:\n",
    "        values.append(2)\n",
    "    elif 2010 <= year < 2015:\n",
    "        values.append(3)\n",
    "    elif 2015 <= year <= 2021:\n",
    "        values.append(4)"
   ]
  },
  {
   "cell_type": "markdown",
   "metadata": {},
   "source": [
    "Добавим получившийся новый признак в таблицу.Далее все новые признаки также добавляются в таблицу."
   ]
  },
  {
   "cell_type": "code",
   "execution_count": 7,
   "metadata": {},
   "outputs": [],
   "source": [
    "df.insert(3, 'Новизна', values, True)"
   ]
  },
  {
   "cell_type": "code",
   "execution_count": 8,
   "metadata": {},
   "outputs": [
    {
     "data": {
      "text/plain": [
       "4    1002\n",
       "3     494\n",
       "2     145\n",
       "1      51\n",
       "0      49\n",
       "Name: Новизна, dtype: int64"
      ]
     },
     "execution_count": 8,
     "metadata": {},
     "output_type": "execute_result"
    }
   ],
   "source": [
    "df['Новизна'].value_counts()"
   ]
  },
  {
   "cell_type": "markdown",
   "metadata": {},
   "source": [
    "Всех больше авто категории \"Новейший\". Однако 49 машин даже до 2000 года. Посмотрним в долях."
   ]
  },
  {
   "cell_type": "code",
   "execution_count": 9,
   "metadata": {},
   "outputs": [
    {
     "data": {
      "text/plain": [
       "4    57.553130\n",
       "3    28.374497\n",
       "2     8.328547\n",
       "1     2.929351\n",
       "0     2.814474\n",
       "Name: Новизна, dtype: float64"
      ]
     },
     "execution_count": 9,
     "metadata": {},
     "output_type": "execute_result"
    }
   ],
   "source": [
    "df['Новизна'].value_counts(normalize = True) * 100"
   ]
  },
  {
   "cell_type": "markdown",
   "metadata": {},
   "source": [
    "Самых новых почти 60%"
   ]
  },
  {
   "cell_type": "markdown",
   "metadata": {},
   "source": [
    "В качестве продолжения к формированию предыдущего признака: теперь действительно обозначим качественную характеристику для каждого авто в зависимости от года выпуска. Это необходимо для лучшего восприятия."
   ]
  },
  {
   "cell_type": "code",
   "execution_count": 10,
   "metadata": {},
   "outputs": [],
   "source": [
    "values_names = []\n",
    "for year in df['Год выпуска']:\n",
    "    if year < 2000:\n",
    "        values_names.append('Старый')\n",
    "    elif 2000 <= year < 2005:        \n",
    "        values_names.append('Устаревший')\n",
    "    elif 2005 <= year < 2010:\n",
    "        values_names.append('Средних лет')\n",
    "    elif 2010 <= year < 2015:\n",
    "        values_names.append('Новый')\n",
    "    elif 2015 <= year <= 2021:\n",
    "        values_names.append('Новейший')"
   ]
  },
  {
   "cell_type": "code",
   "execution_count": 11,
   "metadata": {},
   "outputs": [],
   "source": [
    "df.insert(4, 'Степень новизны', values_names, True)"
   ]
  },
  {
   "cell_type": "markdown",
   "metadata": {},
   "source": [
    "Проанализируем остальные критерии."
   ]
  },
  {
   "cell_type": "code",
   "execution_count": 12,
   "metadata": {},
   "outputs": [
    {
     "data": {
      "text/plain": [
       "Не требует ремонта    1741\n",
       "Name: Состояние, dtype: int64"
      ]
     },
     "execution_count": 12,
     "metadata": {},
     "output_type": "execute_result"
    }
   ],
   "source": [
    "df['Состояние'].value_counts()"
   ]
  },
  {
   "cell_type": "markdown",
   "metadata": {},
   "source": [
    "По критерию \"Состояние\" все авто новые."
   ]
  },
  {
   "cell_type": "markdown",
   "metadata": {},
   "source": [
    "Создадим новый признак, основанный на разбиении значений пробега на диапазоны и введения качественной характеристики для его описания. "
   ]
  },
  {
   "cell_type": "code",
   "execution_count": 13,
   "metadata": {
    "scrolled": true
   },
   "outputs": [
    {
     "data": {
      "text/plain": [
       "count      1741.000000\n",
       "mean      99184.383688\n",
       "std       78317.645505\n",
       "min           1.000000\n",
       "25%       41000.000000\n",
       "50%       80226.000000\n",
       "75%      141000.000000\n",
       "max      530000.000000\n",
       "Name: Пробег, dtype: float64"
      ]
     },
     "execution_count": 13,
     "metadata": {},
     "output_type": "execute_result"
    }
   ],
   "source": [
    "df['Пробег'].describe()"
   ]
  },
  {
   "cell_type": "code",
   "execution_count": 14,
   "metadata": {},
   "outputs": [],
   "source": [
    "intensivity_names = []\n",
    "for kms in df['Пробег']:\n",
    "    if kms < 20000:\n",
    "        intensivity_names.append('Как новый')\n",
    "        #print(year)\n",
    "    elif 20000 <= kms < 41000:        \n",
    "        intensivity_names.append('Немного использованный')\n",
    "    elif 41000 <= kms < 80000:\n",
    "        intensivity_names.append('Средняя степень использования')\n",
    "        #print(year)\n",
    "    elif 80000 <= kms < 140000:\n",
    "        intensivity_names.append('Стандартный срок')\n",
    "    elif 140000 <= kms <= 530000:\n",
    "        intensivity_names.append('Большой пробег')"
   ]
  },
  {
   "cell_type": "code",
   "execution_count": 15,
   "metadata": {},
   "outputs": [],
   "source": [
    "df.insert(5, 'Оценка пробега', intensivity_names, True)"
   ]
  },
  {
   "cell_type": "code",
   "execution_count": 16,
   "metadata": {},
   "outputs": [
    {
     "data": {
      "text/plain": [
       "Большой пробег                   25.732338\n",
       "Стандартный срок                 24.755887\n",
       "Средняя степень использования    24.526134\n",
       "Как новый                        12.923607\n",
       "Немного использованный           12.062033\n",
       "Name: Оценка пробега, dtype: float64"
      ]
     },
     "execution_count": 16,
     "metadata": {},
     "output_type": "execute_result"
    }
   ],
   "source": [
    "df['Оценка пробега'].value_counts(normalize = True) * 100"
   ]
  },
  {
   "cell_type": "markdown",
   "metadata": {},
   "source": [
    "Более половины всех авто имеют пробег свыше 80 000 км."
   ]
  },
  {
   "cell_type": "markdown",
   "metadata": {},
   "source": [
    "Переведем значения цены в таблице в интовый тип"
   ]
  },
  {
   "cell_type": "code",
   "execution_count": 17,
   "metadata": {},
   "outputs": [],
   "source": [
    "price_list = []\n",
    "for price in df['Цена']:\n",
    "    if ' ' in price:\n",
    "        price = int(price.split(' ')[1])\n",
    "    else:\n",
    "        price = int(price)\n",
    "\n",
    "    price_list.append(price)"
   ]
  },
  {
   "cell_type": "code",
   "execution_count": 18,
   "metadata": {},
   "outputs": [],
   "source": [
    "df['Цена'] = price_list"
   ]
  },
  {
   "cell_type": "markdown",
   "metadata": {},
   "source": [
    "Вводим новый критерий оценки цены авто. Разбиваем цены по диапазонам и соответствующим образом озарактеризовываем каждую машину с помощью качественных переменных."
   ]
  },
  {
   "cell_type": "code",
   "execution_count": 19,
   "metadata": {},
   "outputs": [],
   "source": [
    "# Оценка стоимости\n",
    "\n",
    "a = np.zeros(shape=(1741,1)).astype(str)\n",
    "k = 0\n",
    "for i in df['Цена'].values:\n",
    "    if i <= 1500000:\n",
    "        a[k] = 'Бюджетный сегмент'\n",
    "    elif i > 1500000 and i <= 2500000:\n",
    "        a[k] = 'Средняя цена'\n",
    "    else:\n",
    "        a[k] = 'Повышенная стоимость'\n",
    "    k += 1\n",
    "df['Дороговизна'] = a"
   ]
  },
  {
   "cell_type": "markdown",
   "metadata": {},
   "source": [
    "Новый критерий, показывающий, какой налог придется заплать продавцу после реализации товара."
   ]
  },
  {
   "cell_type": "code",
   "execution_count": 20,
   "metadata": {},
   "outputs": [],
   "source": [
    "# налог на продажу\n",
    "\n",
    "a = np.zeros(shape=(1741,1)).astype(int)\n",
    "k = 0\n",
    "for sale_price in df['Цена'].values:\n",
    "    a[k] = sale_price * 0.13\n",
    "    k += 1\n",
    "df['Стандартный налог на продажу'] = a"
   ]
  },
  {
   "cell_type": "markdown",
   "metadata": {},
   "source": [
    "Еще один новый признак  - литровая мощность. Рассчитывается как отношение мощности двигателя к его объему. Для расчета переведем рассчитаем значение мощности в кВт."
   ]
  },
  {
   "cell_type": "code",
   "execution_count": 21,
   "metadata": {},
   "outputs": [
    {
     "data": {
      "text/plain": [
       "0        152750\n",
       "1       1025700\n",
       "2       2729350\n",
       "3        107900\n",
       "4        227500\n",
       "         ...   \n",
       "1736     110500\n",
       "1737      68900\n",
       "1738     390000\n",
       "1739     221000\n",
       "1740     377000\n",
       "Name: Стандартный налог на продажу, Length: 1741, dtype: int32"
      ]
     },
     "execution_count": 21,
     "metadata": {},
     "output_type": "execute_result"
    }
   ],
   "source": [
    "df['Стандартный налог на продажу']"
   ]
  },
  {
   "cell_type": "code",
   "execution_count": 22,
   "metadata": {
    "scrolled": true
   },
   "outputs": [],
   "source": [
    "# литровая мощность\n",
    "\n",
    "df['Литровая мощность двигателя'] = (df['Мощность двигателя'].values / 1.3783) / df['Объем двигателя'].values"
   ]
  },
  {
   "cell_type": "markdown",
   "metadata": {},
   "source": [
    "Итак, на 3 шаге мы создали несколько новых признаков, выраженных и качественными , и количественными переменными. Некоторые из них будут использованы при дальнейшем исследовании."
   ]
  },
  {
   "cell_type": "markdown",
   "metadata": {},
   "source": [
    "# Шаг 4"
   ]
  },
  {
   "cell_type": "markdown",
   "metadata": {},
   "source": [
    "График 1."
   ]
  },
  {
   "cell_type": "code",
   "execution_count": 25,
   "metadata": {
    "scrolled": true
   },
   "outputs": [
    {
     "data": {
      "application/vnd.plotly.v1+json": {
       "config": {
        "plotlyServerURL": "https://plot.ly"
       },
       "data": [
        {
         "alignmentgroup": "True",
         "bingroup": "x",
         "hovertemplate": "Цена=%{x}<br>count=%{y}<extra></extra>",
         "legendgroup": "",
         "marker": {
          "color": "#636efa"
         },
         "name": "",
         "offsetgroup": "",
         "orientation": "v",
         "showlegend": false,
         "type": "histogram",
         "x": [
          1175000,
          7890000,
          20995000,
          830000,
          1750000,
          8699000,
          1440000,
          1175000,
          214000,
          4450000,
          1070000,
          2150000,
          3769000,
          650000,
          620000,
          1724026,
          5500000,
          1900000,
          5150000,
          1315000,
          3450000,
          1300000,
          8500000,
          365000,
          415000,
          1470000,
          750000,
          4100000,
          1650000,
          1500000,
          2550000,
          2650000,
          1899000,
          650000,
          549000,
          410000,
          4490000,
          1050000,
          1150000,
          1220000,
          1200000,
          950000,
          1200000,
          3100000,
          6699000,
          3450000,
          8998000,
          1350000,
          4450000,
          1900000,
          3299000,
          2890000,
          5500000,
          8699000,
          3079000,
          7550000,
          5170000,
          2500000,
          2465000,
          1419000,
          1475000,
          310000,
          3070000,
          6699000,
          877000,
          17900000,
          2890000,
          398000,
          2310000,
          2839000,
          7490000,
          2441000,
          4699000,
          1019900,
          1020000,
          880000,
          550000,
          6249000,
          2397541,
          1690000,
          1070000,
          18600000,
          12350000,
          3769000,
          13970000,
          4525000,
          3330000,
          2264198,
          4200000,
          1200000,
          3442262,
          18850000,
          9999999,
          5500000,
          4799999,
          5500000,
          10750000,
          2750000,
          20330000,
          3190000,
          2285000,
          4840000,
          2545000,
          2990000,
          975000,
          868000,
          5150000,
          1215000,
          2729000,
          550000,
          2310000,
          850000,
          4070000,
          1700000,
          13097000,
          1599000,
          1040000,
          3570000,
          740000,
          1115000,
          525000,
          3519000,
          3797000,
          50000000,
          1950000,
          7859000,
          465000,
          2285000,
          2285000,
          1880000,
          1475000,
          1800000,
          2998000,
          850000,
          1899000,
          2369000,
          1295000,
          921000,
          4435000,
          1250000,
          3077000,
          3330000,
          8998000,
          2597000,
          845000,
          910000,
          3070000,
          2545000,
          4042000,
          3648000,
          1155000,
          3442262,
          4787000,
          3850000,
          878000,
          2399000,
          190000,
          4525000,
          2998000,
          7997000,
          2750000,
          2350000,
          210000,
          4400000,
          3750000,
          20330000,
          2700000,
          9797000,
          4500000,
          2830000,
          2998000,
          1299000,
          4998000,
          2430000,
          6950000,
          829000,
          1700000,
          1399000,
          528000,
          4680000,
          6249000,
          7500000,
          2950000,
          8429000,
          1908000,
          15750000,
          1500000,
          5950000,
          1519000,
          6498000,
          5340000,
          1895000,
          2560000,
          3619000,
          1249000,
          2920000,
          1299000,
          3348000,
          1150000,
          3150000,
          1250000,
          620000,
          1475000,
          2899000,
          2245000,
          3300000,
          3250000,
          4070000,
          2830000,
          4950000,
          1855000,
          4738000,
          3200000,
          11990000,
          1665000,
          4998000,
          5350000,
          4525000,
          310000,
          3648000,
          2929000,
          1908000,
          18850000,
          1439000,
          2655000,
          1348000,
          2998000,
          2690000,
          3350000,
          1279000,
          8390000,
          1159000,
          4499000,
          13970000,
          1690000,
          845000,
          2799000,
          1019000,
          4042000,
          7997000,
          5398000,
          1440000,
          2649000,
          1459000,
          9350000,
          8998000,
          320000,
          6950000,
          5098000,
          2290000,
          20000000,
          2998000,
          7800000,
          1375000,
          1337000,
          3248000,
          9998000,
          3070000,
          14000000,
          2430000,
          1315000,
          1220000,
          1035000,
          1000000,
          9147000,
          4409000,
          829000,
          4999000,
          2470000,
          2924000,
          3199000,
          2395000,
          3070000,
          1393000,
          4999000,
          1500000,
          1214100,
          2587000,
          5025000,
          883110,
          2749000,
          3300000,
          1050000,
          1000000,
          5398000,
          5099000,
          1249000,
          1250000,
          3997000,
          3530000,
          3840000,
          3199000,
          1500000,
          4617000,
          4325000,
          740000,
          3460000,
          14799000,
          597000,
          22500000,
          3698000,
          499000,
          5497000,
          1250000,
          3850000,
          845000,
          3997000,
          2699000,
          1250000,
          1215000,
          1250000,
          1060000,
          4275000,
          1250000,
          2550000,
          3349000,
          3759000,
          1538000,
          1439000,
          5099000,
          1019000,
          4500000,
          869000,
          14950000,
          1599000,
          1508000,
          5978500,
          1830000,
          2914000,
          1690000,
          4998000,
          3349000,
          869000,
          990000,
          2409000,
          11990000,
          16350000,
          898000,
          1398000,
          4500000,
          868000,
          1060000,
          1540000,
          2924000,
          818000,
          4199000,
          1959000,
          20995000,
          9147000,
          3732000,
          3990000,
          845000,
          1225000,
          1830000,
          2997000,
          1750000,
          3840000,
          3690000,
          2195000,
          1120000,
          3347680,
          20809000,
          7350000,
          2148000,
          2148000,
          3898000,
          709000,
          6950000,
          7859000,
          2655000,
          70000,
          2749000,
          1414900,
          4700000,
          8199000,
          7859000,
          1385000,
          4199000,
          6540000,
          2757000,
          2148000,
          2998000,
          1660000,
          10999999,
          1886000,
          210000,
          885000,
          2459000,
          3200000,
          3290000,
          1700000,
          3279000,
          7390000,
          18100000,
          7460000,
          1588000,
          2687000,
          4450000,
          3285000,
          2900000,
          1024900,
          4450000,
          2760000,
          1739000,
          2750000,
          214000,
          5025000,
          14297000,
          3490000,
          2812000,
          4450000,
          1040000,
          2551000,
          2997000,
          1794000,
          3400000,
          3900000,
          2948000,
          2690000,
          2698000,
          3720000,
          7350000,
          1200000,
          1727000,
          2551000,
          3285000,
          1070000,
          5700000,
          2899000,
          1260000,
          1114000,
          4774000,
          2870000,
          3090000,
          2450000,
          4728000,
          4749000,
          16575000,
          2390000,
          4850000,
          189000,
          1214100,
          990000,
          3388000,
          1398000,
          1585000,
          2815000,
          1399000,
          4490000,
          1800000,
          1070000,
          3169000,
          1190000,
          2948000,
          230000,
          2444000,
          8153000,
          6540000,
          997000,
          2948000,
          1500000,
          1998000,
          1997000,
          5550000,
          4728000,
          2698000,
          2697000,
          519000,
          3400000,
          3440000,
          2727000,
          450000,
          15000000,
          1435000,
          4500000,
          1980000,
          995000,
          4450000,
          1660000,
          2549000,
          1449000,
          3150000,
          4350000,
          18000000,
          2549000,
          1299000,
          2948000,
          1099000,
          2680000,
          3990000,
          1500000,
          600000,
          2550000,
          1898000,
          15999999,
          9147000,
          14799000,
          3600000,
          900000,
          929000,
          2512000,
          2649000,
          3027000,
          1279000,
          10999999,
          9147000,
          3954000,
          5950000,
          5550000,
          2890000,
          8199000,
          3349000,
          845000,
          3770000,
          13648000,
          3990000,
          18100000,
          3190000,
          1362000,
          1632000,
          3700000,
          3399000,
          2900000,
          1708000,
          5700000,
          1099000,
          2070000,
          1318000,
          3659000,
          1300000,
          2170000,
          3645000,
          830000,
          2099000,
          2599000,
          2459000,
          910000,
          4149000,
          1790000,
          2950000,
          900000,
          5500000,
          4799000,
          1298000,
          675000,
          4857000,
          2209000,
          1300000,
          2370000,
          900000,
          3798000,
          2238000,
          5600000,
          2099000,
          2399999,
          3589000,
          1221000,
          1579000,
          4859000,
          2198000,
          2998459,
          650000,
          2545000,
          4149000,
          395000,
          2792000,
          1745000,
          1188000,
          6750000,
          4350000,
          4100000,
          1035000,
          7959000,
          1061000,
          3350000,
          5950000,
          6349000,
          2870000,
          1114000,
          1449000,
          4099000,
          5700000,
          883110,
          4173000,
          699000,
          1850000,
          2719000,
          3500000,
          3599000,
          3599000,
          2697000,
          1850000,
          2999000,
          2195000,
          465000,
          4400000,
          1528000,
          6009000,
          2545000,
          2645546,
          2170000,
          7450000,
          1745000,
          2097000,
          1590000,
          2527680,
          1590000,
          2527680,
          1100000,
          1199000,
          4510000,
          1000000,
          2300000,
          2928000,
          267000,
          1549000,
          3999000,
          2295000,
          895000,
          3027000,
          2914000,
          1400000,
          4759000,
          3149000,
          100000,
          1198000,
          3900000,
          2668000,
          1588000,
          10800000,
          1078000,
          1350000,
          1669000,
          690000,
          1549000,
          8200000,
          1570000,
          7100000,
          2879000,
          995000,
          1589000,
          1989000,
          1499000,
          12500000,
          2789000,
          13990000,
          2390000,
          4400000,
          3500000,
          1248000,
          2898000,
          5450000,
          2645546,
          1549000,
          1465000,
          390000,
          3189000,
          2850000,
          7450000,
          740000,
          4200000,
          2099000,
          2690000,
          1999000,
          1188000,
          1375000,
          1400000,
          1399000,
          1250000,
          423310,
          5450000,
          2662000,
          3499000,
          2649000,
          975000,
          950000,
          7600000,
          2879000,
          370000,
          2279000,
          1390000,
          4198000,
          880000,
          5997000,
          3350000,
          2949000,
          2890000,
          1200000,
          3590000,
          6307000,
          4199000,
          2070000,
          7150000,
          797000,
          2359000,
          3189000,
          5312000,
          395000,
          650000,
          1248000,
          1288000,
          3750000,
          898000,
          2500000,
          1499000,
          1820000,
          1903000,
          1700000,
          2198000,
          5498888,
          3482000,
          3149000,
          1350000,
          490000,
          2500000,
          3799000,
          2950000,
          1990000,
          2700000,
          2750000,
          6450000,
          1669000,
          3495000,
          2668000,
          3755000,
          1090000,
          500000,
          4950000,
          2150000,
          845000,
          6900000,
          12500000,
          2572000,
          6900000,
          1289000,
          2998459,
          6098888,
          4440000,
          2898000,
          2850000,
          2550000,
          5500000,
          2313165,
          2662000,
          3954000,
          1800000,
          5380000,
          1699836,
          1950000,
          1530000,
          1950000,
          1530000,
          3479000,
          1290000,
          1739000,
          2622000,
          4020000,
          2099000,
          6288888,
          5498000,
          1249000,
          85000,
          3350000,
          4145000,
          13990000,
          2345000,
          1922000,
          2150000,
          100000,
          1762010,
          8200000,
          2116874,
          4698888,
          6750000,
          1162000,
          4047000,
          1475000,
          390000,
          7987000,
          2480000,
          2499000,
          2800000,
          2853000,
          2687000,
          15898000,
          3148000,
          1932000,
          4300000,
          1250000,
          6550000,
          1149000,
          5790000,
          8990000,
          3590000,
          937177,
          1592000,
          4580000,
          2515000,
          2225000,
          659000,
          1299000,
          400000,
          597000,
          3667000,
          3317000,
          2950000,
          6450000,
          4695000,
          1932000,
          100000,
          4062000,
          3940000,
          4200000,
          1329000,
          1149000,
          5498000,
          870000,
          1950000,
          1600000,
          3786000,
          4550000,
          3299000,
          3130000,
          2700000,
          3350000,
          290000,
          8990000,
          5250000,
          1498000,
          3590000,
          3991000,
          3298000,
          1399000,
          4199000,
          4148000,
          7987000,
          4888000,
          3999000,
          1530000,
          5500000,
          4548000,
          3199000,
          900000,
          6899000,
          2579000,
          3786000,
          2415000,
          1820000,
          691000,
          2450000,
          1399000,
          3999000,
          5470000,
          2220000,
          1720000,
          1525000,
          1850000,
          2329000,
          1697000,
          14900000,
          4199000,
          4888000,
          2789000,
          2452000,
          1390000,
          1329000,
          1050000,
          870000,
          4848000,
          924000,
          1600000,
          1099000,
          4100000,
          3298000,
          2948000,
          1997000,
          920000,
          3535000,
          3535000,
          3050000,
          3299000,
          3250000,
          3317000,
          290000,
          3991000,
          4148000,
          4548000,
          8498000,
          608000,
          3345000,
          3199141,
          1340000,
          3400000,
          2630000,
          1498000,
          4025000,
          4025000,
          1399000,
          3397000,
          3750000,
          549000,
          3319000,
          4800000,
          2298000,
          4150000,
          5330000,
          780000,
          3150000,
          1297000,
          2760000,
          5579000,
          5599000,
          820000,
          3440000,
          1695000,
          2580000,
          1515000,
          2430000,
          2050000,
          3249000,
          4277000,
          1549000,
          4599000,
          2995000,
          768990,
          4957000,
          1816000,
          3600000,
          4116000,
          2000000,
          1795000,
          3060000,
          595000,
          598000,
          639000,
          1048000,
          1825000,
          1584000,
          4227000,
          989000,
          1200000,
          2215000,
          2849000,
          1945000,
          864000,
          14000000,
          4950000,
          3645000,
          4350000,
          1529000,
          3777000,
          1187000,
          1187000,
          2648000,
          3099000,
          238000,
          3500000,
          2619000,
          2069000,
          2649000,
          5149000,
          1399000,
          799000,
          1499000,
          1577000,
          2900000,
          7240000,
          2384000,
          2899000,
          6318000,
          1479000,
          2120000,
          3482000,
          3779000,
          4900000,
          1649000,
          1699000,
          2299001,
          6100000,
          1518000,
          2588000,
          2100000,
          1849000,
          2540000,
          3799000,
          779000,
          3710000,
          813000,
          3288000,
          919000,
          3739000,
          688000,
          2929000,
          1019000,
          2700000,
          1075000,
          4797000,
          1519000,
          1225000,
          2215000,
          4049000,
          8161000,
          2349000,
          3275000,
          1248000,
          1386000,
          269999,
          269999,
          1827000,
          8900000,
          779000,
          2900000,
          2080000,
          3298000,
          12990000,
          4487000,
          2248000,
          745000,
          3097000,
          3780000,
          298000,
          2561245,
          4235000,
          1425000,
          2250000,
          727000,
          2198000,
          4606000,
          2487000,
          1330000,
          4084000,
          890000,
          3007000,
          2750000,
          3630000,
          2913000,
          3482000,
          4098000,
          3350000,
          2998000,
          4342000,
          2900000,
          5800000,
          2025000,
          937000,
          2293000,
          1078000,
          5800000,
          2697000,
          334000,
          1197000,
          3100000,
          7645000,
          3100000,
          2027000,
          8800000,
          3707000,
          775000,
          13509000,
          1875000,
          9879000,
          8300000,
          2536471,
          1806000,
          3059000,
          3490000,
          999000,
          10000000,
          2301120,
          1100000,
          1750000,
          9690000,
          2720000,
          6950000,
          3750000,
          14200000,
          2448000,
          2345000,
          5440000,
          3850000,
          1327000,
          2477000,
          3248000,
          2857000,
          3749000,
          15518000,
          770000,
          2549000,
          3493000,
          2248000,
          4580000,
          1199000,
          1279000,
          7027000,
          7700000,
          3551040,
          4749000,
          2512000,
          8550000,
          420000,
          3849000,
          520002,
          999000,
          15898000,
          4240000,
          3590000,
          3093000,
          4999000,
          2455000,
          3236237,
          3025000,
          3847000,
          979000,
          3770000,
          2627000,
          597000,
          3129000,
          16000000,
          7300000,
          18850000,
          2490000,
          3424000,
          1398000,
          4827000,
          2100000,
          3999000,
          1438000,
          3897000,
          1529000,
          3789000,
          2430000,
          2533000,
          1630000,
          3549000,
          2195000,
          2020000,
          459000,
          2790000,
          2740000,
          599000,
          7340000,
          14966000,
          1226000,
          4860000,
          3249000,
          3199000,
          3499000,
          2932000,
          2590000,
          16000000,
          1164900,
          965000,
          3699000,
          3699000,
          1560000,
          4690600,
          1950000,
          1995000,
          5498000,
          8850000,
          3149000,
          1265000,
          2937000,
          1050000,
          3649000,
          4555000,
          1724000,
          1950000,
          4979000,
          3160000,
          1609000,
          4250000,
          3232000,
          2877000,
          1050000,
          2998000,
          8209000,
          5800000,
          1167000,
          3394000,
          4768000,
          4529000,
          4748000,
          1584000,
          3994000,
          289000,
          12400000,
          1910400,
          6999000,
          6999000,
          1740000,
          935000,
          885000,
          2641000,
          974000,
          2699000,
          2398000,
          1336680,
          2719680,
          2324000,
          2998000,
          2961000,
          2799000,
          7608136,
          797760,
          4690932,
          5295000,
          7960002,
          3051000,
          897000,
          1360000,
          7999000,
          910000,
          3609000,
          3126440,
          1352000,
          774000,
          2452000,
          998000,
          1000000,
          1330000,
          3710000,
          9400000,
          4000000,
          5229000,
          5199000,
          1345000,
          2340000,
          2017000,
          3835000,
          2950000,
          3878000,
          3675000,
          2550000,
          1585000,
          890000,
          987000,
          4598000,
          3400000,
          539000,
          4775000,
          7890000,
          3269900,
          2390000,
          1000000,
          1495000,
          19918000,
          10200000,
          1797000,
          2347000,
          4099000,
          3849900,
          2992000,
          950000,
          4248000,
          360000,
          1850000,
          6000000,
          4149000,
          1677000,
          2500000,
          2428000,
          2195000,
          1157000,
          5787000,
          4279000,
          1215000,
          4100000,
          5090000,
          7990000,
          1350000,
          1270000,
          2150000,
          3215000,
          2900000,
          4625000,
          2390000,
          2390000,
          475000,
          1595000,
          2550000,
          1100000,
          3099000,
          7975000,
          1106000,
          3416916,
          457000,
          4000000,
          2225000,
          11790000,
          1545000,
          2510000,
          3700000,
          948177,
          5900000,
          2700000,
          450000,
          3990000,
          2379000,
          3349000,
          5340000,
          2220000,
          1300000,
          1419000,
          3181000,
          2850000,
          5717000,
          5549000,
          2933000,
          3998000,
          2725000,
          850000,
          1515000,
          8132000,
          1230000,
          3349000,
          979000,
          5414000,
          5414000,
          2470000,
          4838000,
          1200000,
          1716000,
          3198000,
          1310000,
          14920000,
          3300000,
          5297000,
          1431000,
          799000,
          1700000,
          1868000,
          630000,
          2798000,
          5349000,
          2717000,
          14549000,
          1500000,
          6498000,
          1259000,
          3199000,
          1511055,
          925000,
          2862000,
          4228000,
          2748000,
          2599000,
          2150000,
          850000,
          1870000,
          2899000,
          3100000,
          299000,
          1450000,
          1584000,
          3500000,
          5250000,
          1577000,
          9029000,
          2480000,
          1530000,
          5898000,
          2022000,
          1150000,
          1890000,
          2425000,
          1597000,
          4100000,
          2585000,
          3263040,
          2400000,
          1099000,
          1899000,
          5320000,
          3792000,
          1235000,
          2500000,
          115000,
          4019000,
          14649000,
          930000,
          2425000,
          4410000,
          2085000,
          4099001,
          2792000,
          970000,
          3376000,
          1410000,
          4263000,
          1150000,
          1595000,
          3017000,
          6398000,
          4675860,
          1180000,
          7549000,
          1200000,
          790000,
          3757000,
          1474000,
          2173500,
          2130000,
          2999000,
          1244900,
          4600000,
          1280000,
          1748000,
          3399000,
          500000,
          7548000,
          1072000,
          2800000,
          4450000,
          4012000,
          3674000,
          2160000,
          1950000,
          27100000,
          1525000,
          1980000,
          3299000,
          400000,
          2849000,
          2550000,
          700000,
          4590000,
          3578000,
          819000,
          3198000,
          250000,
          1700000,
          1190000,
          385000,
          4146000,
          1597000,
          3199000,
          829900,
          4950000,
          1730000,
          4000000,
          4400000,
          470000,
          3598000,
          6250000,
          3448000,
          300000,
          1150000,
          2745000,
          769900,
          8150000,
          600000,
          26000000,
          2735000,
          6390000,
          4400000,
          3949000,
          3050000,
          2189000,
          2219000,
          2105000,
          2499000,
          2400000,
          1900000,
          1750000,
          1300000,
          2870000,
          2999000,
          3874000,
          135000,
          2599000,
          210000,
          3149000,
          2570000,
          3789000,
          1869000,
          2019000,
          1997000,
          1698000,
          2558000,
          8100000,
          4216000,
          2500000,
          2999000,
          3249000,
          2258000,
          2449000,
          6290000,
          2649000,
          1132110,
          490000,
          650000,
          1820000,
          1429000,
          1200000,
          2698000,
          1595000,
          1440000,
          4550000,
          435000,
          155000,
          1078000,
          1760000,
          1090000,
          8300000,
          1699000,
          115000,
          3600000,
          1058000,
          5390000,
          1650000,
          3997000,
          940000,
          1098000,
          1580000,
          3030000,
          1599000,
          2749000,
          965000,
          814000,
          5550000,
          814000,
          1141440,
          2000000,
          5650000,
          1390000,
          1630000,
          1349000,
          809000,
          1570000,
          180000,
          12298000,
          2384000,
          11900000,
          675000,
          749000,
          3898000,
          1249000,
          4088000,
          3290000,
          2900000,
          946000,
          3990000,
          3848000,
          1350000,
          3500000,
          480000,
          1489000,
          3278000,
          1590000,
          1637000,
          3098000,
          4150000,
          842000,
          1790000,
          135000,
          435000,
          1110000,
          1250000,
          2000000,
          399999,
          1360000,
          3950000,
          3099900,
          3386000,
          480000,
          1748000,
          5450000,
          1317000,
          350000,
          2400000,
          3999000,
          1500000,
          1895000,
          2295000,
          5198000,
          7498000,
          2948000,
          1250000,
          394000,
          1550000,
          2980000,
          5000000,
          1899000,
          5199000,
          3400000,
          2598000,
          1338000,
          1200000,
          12350000,
          3559900,
          1900000,
          6690000,
          1360000,
          12500000,
          1840000,
          450000,
          3900000,
          50000,
          1849000,
          1519000,
          1698000,
          3650000,
          15398000,
          2550000,
          508000,
          1650000,
          800000,
          3990000,
          4010000,
          2598000,
          4628000,
          1648000,
          850000,
          1700000,
          780000,
          3198000,
          1748000,
          7000000,
          1250000,
          2500000,
          920000,
          5000000,
          5990000,
          8698000,
          11699900,
          2500000,
          1900000,
          2458000,
          1328000,
          2400000,
          1029000,
          360000,
          5990000,
          2500000,
          1998000,
          2140000,
          7500000,
          1950000,
          4050000,
          3078000,
          1699000,
          2349000,
          5810000,
          19999000,
          1680000,
          2180000,
          1660000,
          900000,
          1800000,
          1938000,
          2900000,
          1750000,
          15000000,
          14881000,
          1430000,
          3600000,
          880000,
          5748000,
          3828000,
          1290000,
          3480000,
          1450000,
          1089000,
          5290000,
          545000,
          8490000,
          1350000,
          950000,
          3200000,
          3047000,
          4299000,
          495000,
          2849000,
          8330000,
          1499000,
          3200000,
          5550000,
          2098000,
          3898000,
          3670000,
          3600000,
          1690000,
          7729000,
          1314000,
          1314000,
          1190000,
          3999999,
          3868000,
          4164000,
          600000,
          1684000,
          550000,
          3300000,
          2775000,
          4795000,
          1950000,
          2398000,
          3098000,
          1350000,
          7968000,
          2899000,
          2400000,
          590000,
          2650000,
          1525000,
          900000,
          2249000,
          1830000,
          4899000,
          1749000,
          9000000,
          2154000,
          6000000,
          989000,
          4385000,
          1749000,
          1695000,
          1870000,
          1650000,
          250000,
          1360000,
          4500000,
          990000,
          1465000,
          5300000,
          2990000,
          200000,
          980000,
          225000,
          600000,
          984000,
          2400000,
          4900000,
          850000,
          1080000,
          850000,
          530000,
          3000000,
          1700000,
          2900000
         ],
         "xaxis": "x",
         "yaxis": "y"
        }
       ],
       "layout": {
        "barmode": "relative",
        "legend": {
         "tracegroupgap": 0
        },
        "template": {
         "data": {
          "bar": [
           {
            "error_x": {
             "color": "#2a3f5f"
            },
            "error_y": {
             "color": "#2a3f5f"
            },
            "marker": {
             "line": {
              "color": "#E5ECF6",
              "width": 0.5
             }
            },
            "type": "bar"
           }
          ],
          "barpolar": [
           {
            "marker": {
             "line": {
              "color": "#E5ECF6",
              "width": 0.5
             }
            },
            "type": "barpolar"
           }
          ],
          "carpet": [
           {
            "aaxis": {
             "endlinecolor": "#2a3f5f",
             "gridcolor": "white",
             "linecolor": "white",
             "minorgridcolor": "white",
             "startlinecolor": "#2a3f5f"
            },
            "baxis": {
             "endlinecolor": "#2a3f5f",
             "gridcolor": "white",
             "linecolor": "white",
             "minorgridcolor": "white",
             "startlinecolor": "#2a3f5f"
            },
            "type": "carpet"
           }
          ],
          "choropleth": [
           {
            "colorbar": {
             "outlinewidth": 0,
             "ticks": ""
            },
            "type": "choropleth"
           }
          ],
          "contour": [
           {
            "colorbar": {
             "outlinewidth": 0,
             "ticks": ""
            },
            "colorscale": [
             [
              0,
              "#0d0887"
             ],
             [
              0.1111111111111111,
              "#46039f"
             ],
             [
              0.2222222222222222,
              "#7201a8"
             ],
             [
              0.3333333333333333,
              "#9c179e"
             ],
             [
              0.4444444444444444,
              "#bd3786"
             ],
             [
              0.5555555555555556,
              "#d8576b"
             ],
             [
              0.6666666666666666,
              "#ed7953"
             ],
             [
              0.7777777777777778,
              "#fb9f3a"
             ],
             [
              0.8888888888888888,
              "#fdca26"
             ],
             [
              1,
              "#f0f921"
             ]
            ],
            "type": "contour"
           }
          ],
          "contourcarpet": [
           {
            "colorbar": {
             "outlinewidth": 0,
             "ticks": ""
            },
            "type": "contourcarpet"
           }
          ],
          "heatmap": [
           {
            "colorbar": {
             "outlinewidth": 0,
             "ticks": ""
            },
            "colorscale": [
             [
              0,
              "#0d0887"
             ],
             [
              0.1111111111111111,
              "#46039f"
             ],
             [
              0.2222222222222222,
              "#7201a8"
             ],
             [
              0.3333333333333333,
              "#9c179e"
             ],
             [
              0.4444444444444444,
              "#bd3786"
             ],
             [
              0.5555555555555556,
              "#d8576b"
             ],
             [
              0.6666666666666666,
              "#ed7953"
             ],
             [
              0.7777777777777778,
              "#fb9f3a"
             ],
             [
              0.8888888888888888,
              "#fdca26"
             ],
             [
              1,
              "#f0f921"
             ]
            ],
            "type": "heatmap"
           }
          ],
          "heatmapgl": [
           {
            "colorbar": {
             "outlinewidth": 0,
             "ticks": ""
            },
            "colorscale": [
             [
              0,
              "#0d0887"
             ],
             [
              0.1111111111111111,
              "#46039f"
             ],
             [
              0.2222222222222222,
              "#7201a8"
             ],
             [
              0.3333333333333333,
              "#9c179e"
             ],
             [
              0.4444444444444444,
              "#bd3786"
             ],
             [
              0.5555555555555556,
              "#d8576b"
             ],
             [
              0.6666666666666666,
              "#ed7953"
             ],
             [
              0.7777777777777778,
              "#fb9f3a"
             ],
             [
              0.8888888888888888,
              "#fdca26"
             ],
             [
              1,
              "#f0f921"
             ]
            ],
            "type": "heatmapgl"
           }
          ],
          "histogram": [
           {
            "marker": {
             "colorbar": {
              "outlinewidth": 0,
              "ticks": ""
             }
            },
            "type": "histogram"
           }
          ],
          "histogram2d": [
           {
            "colorbar": {
             "outlinewidth": 0,
             "ticks": ""
            },
            "colorscale": [
             [
              0,
              "#0d0887"
             ],
             [
              0.1111111111111111,
              "#46039f"
             ],
             [
              0.2222222222222222,
              "#7201a8"
             ],
             [
              0.3333333333333333,
              "#9c179e"
             ],
             [
              0.4444444444444444,
              "#bd3786"
             ],
             [
              0.5555555555555556,
              "#d8576b"
             ],
             [
              0.6666666666666666,
              "#ed7953"
             ],
             [
              0.7777777777777778,
              "#fb9f3a"
             ],
             [
              0.8888888888888888,
              "#fdca26"
             ],
             [
              1,
              "#f0f921"
             ]
            ],
            "type": "histogram2d"
           }
          ],
          "histogram2dcontour": [
           {
            "colorbar": {
             "outlinewidth": 0,
             "ticks": ""
            },
            "colorscale": [
             [
              0,
              "#0d0887"
             ],
             [
              0.1111111111111111,
              "#46039f"
             ],
             [
              0.2222222222222222,
              "#7201a8"
             ],
             [
              0.3333333333333333,
              "#9c179e"
             ],
             [
              0.4444444444444444,
              "#bd3786"
             ],
             [
              0.5555555555555556,
              "#d8576b"
             ],
             [
              0.6666666666666666,
              "#ed7953"
             ],
             [
              0.7777777777777778,
              "#fb9f3a"
             ],
             [
              0.8888888888888888,
              "#fdca26"
             ],
             [
              1,
              "#f0f921"
             ]
            ],
            "type": "histogram2dcontour"
           }
          ],
          "mesh3d": [
           {
            "colorbar": {
             "outlinewidth": 0,
             "ticks": ""
            },
            "type": "mesh3d"
           }
          ],
          "parcoords": [
           {
            "line": {
             "colorbar": {
              "outlinewidth": 0,
              "ticks": ""
             }
            },
            "type": "parcoords"
           }
          ],
          "pie": [
           {
            "automargin": true,
            "type": "pie"
           }
          ],
          "scatter": [
           {
            "marker": {
             "colorbar": {
              "outlinewidth": 0,
              "ticks": ""
             }
            },
            "type": "scatter"
           }
          ],
          "scatter3d": [
           {
            "line": {
             "colorbar": {
              "outlinewidth": 0,
              "ticks": ""
             }
            },
            "marker": {
             "colorbar": {
              "outlinewidth": 0,
              "ticks": ""
             }
            },
            "type": "scatter3d"
           }
          ],
          "scattercarpet": [
           {
            "marker": {
             "colorbar": {
              "outlinewidth": 0,
              "ticks": ""
             }
            },
            "type": "scattercarpet"
           }
          ],
          "scattergeo": [
           {
            "marker": {
             "colorbar": {
              "outlinewidth": 0,
              "ticks": ""
             }
            },
            "type": "scattergeo"
           }
          ],
          "scattergl": [
           {
            "marker": {
             "colorbar": {
              "outlinewidth": 0,
              "ticks": ""
             }
            },
            "type": "scattergl"
           }
          ],
          "scattermapbox": [
           {
            "marker": {
             "colorbar": {
              "outlinewidth": 0,
              "ticks": ""
             }
            },
            "type": "scattermapbox"
           }
          ],
          "scatterpolar": [
           {
            "marker": {
             "colorbar": {
              "outlinewidth": 0,
              "ticks": ""
             }
            },
            "type": "scatterpolar"
           }
          ],
          "scatterpolargl": [
           {
            "marker": {
             "colorbar": {
              "outlinewidth": 0,
              "ticks": ""
             }
            },
            "type": "scatterpolargl"
           }
          ],
          "scatterternary": [
           {
            "marker": {
             "colorbar": {
              "outlinewidth": 0,
              "ticks": ""
             }
            },
            "type": "scatterternary"
           }
          ],
          "surface": [
           {
            "colorbar": {
             "outlinewidth": 0,
             "ticks": ""
            },
            "colorscale": [
             [
              0,
              "#0d0887"
             ],
             [
              0.1111111111111111,
              "#46039f"
             ],
             [
              0.2222222222222222,
              "#7201a8"
             ],
             [
              0.3333333333333333,
              "#9c179e"
             ],
             [
              0.4444444444444444,
              "#bd3786"
             ],
             [
              0.5555555555555556,
              "#d8576b"
             ],
             [
              0.6666666666666666,
              "#ed7953"
             ],
             [
              0.7777777777777778,
              "#fb9f3a"
             ],
             [
              0.8888888888888888,
              "#fdca26"
             ],
             [
              1,
              "#f0f921"
             ]
            ],
            "type": "surface"
           }
          ],
          "table": [
           {
            "cells": {
             "fill": {
              "color": "#EBF0F8"
             },
             "line": {
              "color": "white"
             }
            },
            "header": {
             "fill": {
              "color": "#C8D4E3"
             },
             "line": {
              "color": "white"
             }
            },
            "type": "table"
           }
          ]
         },
         "layout": {
          "annotationdefaults": {
           "arrowcolor": "#2a3f5f",
           "arrowhead": 0,
           "arrowwidth": 1
          },
          "autotypenumbers": "strict",
          "coloraxis": {
           "colorbar": {
            "outlinewidth": 0,
            "ticks": ""
           }
          },
          "colorscale": {
           "diverging": [
            [
             0,
             "#8e0152"
            ],
            [
             0.1,
             "#c51b7d"
            ],
            [
             0.2,
             "#de77ae"
            ],
            [
             0.3,
             "#f1b6da"
            ],
            [
             0.4,
             "#fde0ef"
            ],
            [
             0.5,
             "#f7f7f7"
            ],
            [
             0.6,
             "#e6f5d0"
            ],
            [
             0.7,
             "#b8e186"
            ],
            [
             0.8,
             "#7fbc41"
            ],
            [
             0.9,
             "#4d9221"
            ],
            [
             1,
             "#276419"
            ]
           ],
           "sequential": [
            [
             0,
             "#0d0887"
            ],
            [
             0.1111111111111111,
             "#46039f"
            ],
            [
             0.2222222222222222,
             "#7201a8"
            ],
            [
             0.3333333333333333,
             "#9c179e"
            ],
            [
             0.4444444444444444,
             "#bd3786"
            ],
            [
             0.5555555555555556,
             "#d8576b"
            ],
            [
             0.6666666666666666,
             "#ed7953"
            ],
            [
             0.7777777777777778,
             "#fb9f3a"
            ],
            [
             0.8888888888888888,
             "#fdca26"
            ],
            [
             1,
             "#f0f921"
            ]
           ],
           "sequentialminus": [
            [
             0,
             "#0d0887"
            ],
            [
             0.1111111111111111,
             "#46039f"
            ],
            [
             0.2222222222222222,
             "#7201a8"
            ],
            [
             0.3333333333333333,
             "#9c179e"
            ],
            [
             0.4444444444444444,
             "#bd3786"
            ],
            [
             0.5555555555555556,
             "#d8576b"
            ],
            [
             0.6666666666666666,
             "#ed7953"
            ],
            [
             0.7777777777777778,
             "#fb9f3a"
            ],
            [
             0.8888888888888888,
             "#fdca26"
            ],
            [
             1,
             "#f0f921"
            ]
           ]
          },
          "colorway": [
           "#636efa",
           "#EF553B",
           "#00cc96",
           "#ab63fa",
           "#FFA15A",
           "#19d3f3",
           "#FF6692",
           "#B6E880",
           "#FF97FF",
           "#FECB52"
          ],
          "font": {
           "color": "#2a3f5f"
          },
          "geo": {
           "bgcolor": "white",
           "lakecolor": "white",
           "landcolor": "#E5ECF6",
           "showlakes": true,
           "showland": true,
           "subunitcolor": "white"
          },
          "hoverlabel": {
           "align": "left"
          },
          "hovermode": "closest",
          "mapbox": {
           "style": "light"
          },
          "paper_bgcolor": "white",
          "plot_bgcolor": "#E5ECF6",
          "polar": {
           "angularaxis": {
            "gridcolor": "white",
            "linecolor": "white",
            "ticks": ""
           },
           "bgcolor": "#E5ECF6",
           "radialaxis": {
            "gridcolor": "white",
            "linecolor": "white",
            "ticks": ""
           }
          },
          "scene": {
           "xaxis": {
            "backgroundcolor": "#E5ECF6",
            "gridcolor": "white",
            "gridwidth": 2,
            "linecolor": "white",
            "showbackground": true,
            "ticks": "",
            "zerolinecolor": "white"
           },
           "yaxis": {
            "backgroundcolor": "#E5ECF6",
            "gridcolor": "white",
            "gridwidth": 2,
            "linecolor": "white",
            "showbackground": true,
            "ticks": "",
            "zerolinecolor": "white"
           },
           "zaxis": {
            "backgroundcolor": "#E5ECF6",
            "gridcolor": "white",
            "gridwidth": 2,
            "linecolor": "white",
            "showbackground": true,
            "ticks": "",
            "zerolinecolor": "white"
           }
          },
          "shapedefaults": {
           "line": {
            "color": "#2a3f5f"
           }
          },
          "ternary": {
           "aaxis": {
            "gridcolor": "white",
            "linecolor": "white",
            "ticks": ""
           },
           "baxis": {
            "gridcolor": "white",
            "linecolor": "white",
            "ticks": ""
           },
           "bgcolor": "#E5ECF6",
           "caxis": {
            "gridcolor": "white",
            "linecolor": "white",
            "ticks": ""
           }
          },
          "title": {
           "x": 0.05
          },
          "xaxis": {
           "automargin": true,
           "gridcolor": "white",
           "linecolor": "white",
           "ticks": "",
           "title": {
            "standoff": 15
           },
           "zerolinecolor": "white",
           "zerolinewidth": 2
          },
          "yaxis": {
           "automargin": true,
           "gridcolor": "white",
           "linecolor": "white",
           "ticks": "",
           "title": {
            "standoff": 15
           },
           "zerolinecolor": "white",
           "zerolinewidth": 2
          }
         }
        },
        "title": {
         "text": "Гистограмма распределения авто по цене"
        },
        "xaxis": {
         "anchor": "y",
         "domain": [
          0,
          1
         ],
         "title": {
          "text": "Цена"
         }
        },
        "yaxis": {
         "anchor": "x",
         "domain": [
          0,
          1
         ],
         "title": {
          "text": "count"
         }
        }
       }
      },
      "text/html": [
       "<div>                            <div id=\"ea060cd6-7cf2-471e-a9e8-17c9840eef17\" class=\"plotly-graph-div\" style=\"height:525px; width:100%;\"></div>            <script type=\"text/javascript\">                require([\"plotly\"], function(Plotly) {                    window.PLOTLYENV=window.PLOTLYENV || {};                                    if (document.getElementById(\"ea060cd6-7cf2-471e-a9e8-17c9840eef17\")) {                    Plotly.newPlot(                        \"ea060cd6-7cf2-471e-a9e8-17c9840eef17\",                        [{\"alignmentgroup\": \"True\", \"bingroup\": \"x\", \"hovertemplate\": \"\\u0426\\u0435\\u043d\\u0430=%{x}<br>count=%{y}<extra></extra>\", \"legendgroup\": \"\", \"marker\": {\"color\": \"#636efa\"}, \"name\": \"\", \"offsetgroup\": \"\", \"orientation\": \"v\", \"showlegend\": false, \"type\": \"histogram\", \"x\": [1175000, 7890000, 20995000, 830000, 1750000, 8699000, 1440000, 1175000, 214000, 4450000, 1070000, 2150000, 3769000, 650000, 620000, 1724026, 5500000, 1900000, 5150000, 1315000, 3450000, 1300000, 8500000, 365000, 415000, 1470000, 750000, 4100000, 1650000, 1500000, 2550000, 2650000, 1899000, 650000, 549000, 410000, 4490000, 1050000, 1150000, 1220000, 1200000, 950000, 1200000, 3100000, 6699000, 3450000, 8998000, 1350000, 4450000, 1900000, 3299000, 2890000, 5500000, 8699000, 3079000, 7550000, 5170000, 2500000, 2465000, 1419000, 1475000, 310000, 3070000, 6699000, 877000, 17900000, 2890000, 398000, 2310000, 2839000, 7490000, 2441000, 4699000, 1019900, 1020000, 880000, 550000, 6249000, 2397541, 1690000, 1070000, 18600000, 12350000, 3769000, 13970000, 4525000, 3330000, 2264198, 4200000, 1200000, 3442262, 18850000, 9999999, 5500000, 4799999, 5500000, 10750000, 2750000, 20330000, 3190000, 2285000, 4840000, 2545000, 2990000, 975000, 868000, 5150000, 1215000, 2729000, 550000, 2310000, 850000, 4070000, 1700000, 13097000, 1599000, 1040000, 3570000, 740000, 1115000, 525000, 3519000, 3797000, 50000000, 1950000, 7859000, 465000, 2285000, 2285000, 1880000, 1475000, 1800000, 2998000, 850000, 1899000, 2369000, 1295000, 921000, 4435000, 1250000, 3077000, 3330000, 8998000, 2597000, 845000, 910000, 3070000, 2545000, 4042000, 3648000, 1155000, 3442262, 4787000, 3850000, 878000, 2399000, 190000, 4525000, 2998000, 7997000, 2750000, 2350000, 210000, 4400000, 3750000, 20330000, 2700000, 9797000, 4500000, 2830000, 2998000, 1299000, 4998000, 2430000, 6950000, 829000, 1700000, 1399000, 528000, 4680000, 6249000, 7500000, 2950000, 8429000, 1908000, 15750000, 1500000, 5950000, 1519000, 6498000, 5340000, 1895000, 2560000, 3619000, 1249000, 2920000, 1299000, 3348000, 1150000, 3150000, 1250000, 620000, 1475000, 2899000, 2245000, 3300000, 3250000, 4070000, 2830000, 4950000, 1855000, 4738000, 3200000, 11990000, 1665000, 4998000, 5350000, 4525000, 310000, 3648000, 2929000, 1908000, 18850000, 1439000, 2655000, 1348000, 2998000, 2690000, 3350000, 1279000, 8390000, 1159000, 4499000, 13970000, 1690000, 845000, 2799000, 1019000, 4042000, 7997000, 5398000, 1440000, 2649000, 1459000, 9350000, 8998000, 320000, 6950000, 5098000, 2290000, 20000000, 2998000, 7800000, 1375000, 1337000, 3248000, 9998000, 3070000, 14000000, 2430000, 1315000, 1220000, 1035000, 1000000, 9147000, 4409000, 829000, 4999000, 2470000, 2924000, 3199000, 2395000, 3070000, 1393000, 4999000, 1500000, 1214100, 2587000, 5025000, 883110, 2749000, 3300000, 1050000, 1000000, 5398000, 5099000, 1249000, 1250000, 3997000, 3530000, 3840000, 3199000, 1500000, 4617000, 4325000, 740000, 3460000, 14799000, 597000, 22500000, 3698000, 499000, 5497000, 1250000, 3850000, 845000, 3997000, 2699000, 1250000, 1215000, 1250000, 1060000, 4275000, 1250000, 2550000, 3349000, 3759000, 1538000, 1439000, 5099000, 1019000, 4500000, 869000, 14950000, 1599000, 1508000, 5978500, 1830000, 2914000, 1690000, 4998000, 3349000, 869000, 990000, 2409000, 11990000, 16350000, 898000, 1398000, 4500000, 868000, 1060000, 1540000, 2924000, 818000, 4199000, 1959000, 20995000, 9147000, 3732000, 3990000, 845000, 1225000, 1830000, 2997000, 1750000, 3840000, 3690000, 2195000, 1120000, 3347680, 20809000, 7350000, 2148000, 2148000, 3898000, 709000, 6950000, 7859000, 2655000, 70000, 2749000, 1414900, 4700000, 8199000, 7859000, 1385000, 4199000, 6540000, 2757000, 2148000, 2998000, 1660000, 10999999, 1886000, 210000, 885000, 2459000, 3200000, 3290000, 1700000, 3279000, 7390000, 18100000, 7460000, 1588000, 2687000, 4450000, 3285000, 2900000, 1024900, 4450000, 2760000, 1739000, 2750000, 214000, 5025000, 14297000, 3490000, 2812000, 4450000, 1040000, 2551000, 2997000, 1794000, 3400000, 3900000, 2948000, 2690000, 2698000, 3720000, 7350000, 1200000, 1727000, 2551000, 3285000, 1070000, 5700000, 2899000, 1260000, 1114000, 4774000, 2870000, 3090000, 2450000, 4728000, 4749000, 16575000, 2390000, 4850000, 189000, 1214100, 990000, 3388000, 1398000, 1585000, 2815000, 1399000, 4490000, 1800000, 1070000, 3169000, 1190000, 2948000, 230000, 2444000, 8153000, 6540000, 997000, 2948000, 1500000, 1998000, 1997000, 5550000, 4728000, 2698000, 2697000, 519000, 3400000, 3440000, 2727000, 450000, 15000000, 1435000, 4500000, 1980000, 995000, 4450000, 1660000, 2549000, 1449000, 3150000, 4350000, 18000000, 2549000, 1299000, 2948000, 1099000, 2680000, 3990000, 1500000, 600000, 2550000, 1898000, 15999999, 9147000, 14799000, 3600000, 900000, 929000, 2512000, 2649000, 3027000, 1279000, 10999999, 9147000, 3954000, 5950000, 5550000, 2890000, 8199000, 3349000, 845000, 3770000, 13648000, 3990000, 18100000, 3190000, 1362000, 1632000, 3700000, 3399000, 2900000, 1708000, 5700000, 1099000, 2070000, 1318000, 3659000, 1300000, 2170000, 3645000, 830000, 2099000, 2599000, 2459000, 910000, 4149000, 1790000, 2950000, 900000, 5500000, 4799000, 1298000, 675000, 4857000, 2209000, 1300000, 2370000, 900000, 3798000, 2238000, 5600000, 2099000, 2399999, 3589000, 1221000, 1579000, 4859000, 2198000, 2998459, 650000, 2545000, 4149000, 395000, 2792000, 1745000, 1188000, 6750000, 4350000, 4100000, 1035000, 7959000, 1061000, 3350000, 5950000, 6349000, 2870000, 1114000, 1449000, 4099000, 5700000, 883110, 4173000, 699000, 1850000, 2719000, 3500000, 3599000, 3599000, 2697000, 1850000, 2999000, 2195000, 465000, 4400000, 1528000, 6009000, 2545000, 2645546, 2170000, 7450000, 1745000, 2097000, 1590000, 2527680, 1590000, 2527680, 1100000, 1199000, 4510000, 1000000, 2300000, 2928000, 267000, 1549000, 3999000, 2295000, 895000, 3027000, 2914000, 1400000, 4759000, 3149000, 100000, 1198000, 3900000, 2668000, 1588000, 10800000, 1078000, 1350000, 1669000, 690000, 1549000, 8200000, 1570000, 7100000, 2879000, 995000, 1589000, 1989000, 1499000, 12500000, 2789000, 13990000, 2390000, 4400000, 3500000, 1248000, 2898000, 5450000, 2645546, 1549000, 1465000, 390000, 3189000, 2850000, 7450000, 740000, 4200000, 2099000, 2690000, 1999000, 1188000, 1375000, 1400000, 1399000, 1250000, 423310, 5450000, 2662000, 3499000, 2649000, 975000, 950000, 7600000, 2879000, 370000, 2279000, 1390000, 4198000, 880000, 5997000, 3350000, 2949000, 2890000, 1200000, 3590000, 6307000, 4199000, 2070000, 7150000, 797000, 2359000, 3189000, 5312000, 395000, 650000, 1248000, 1288000, 3750000, 898000, 2500000, 1499000, 1820000, 1903000, 1700000, 2198000, 5498888, 3482000, 3149000, 1350000, 490000, 2500000, 3799000, 2950000, 1990000, 2700000, 2750000, 6450000, 1669000, 3495000, 2668000, 3755000, 1090000, 500000, 4950000, 2150000, 845000, 6900000, 12500000, 2572000, 6900000, 1289000, 2998459, 6098888, 4440000, 2898000, 2850000, 2550000, 5500000, 2313165, 2662000, 3954000, 1800000, 5380000, 1699836, 1950000, 1530000, 1950000, 1530000, 3479000, 1290000, 1739000, 2622000, 4020000, 2099000, 6288888, 5498000, 1249000, 85000, 3350000, 4145000, 13990000, 2345000, 1922000, 2150000, 100000, 1762010, 8200000, 2116874, 4698888, 6750000, 1162000, 4047000, 1475000, 390000, 7987000, 2480000, 2499000, 2800000, 2853000, 2687000, 15898000, 3148000, 1932000, 4300000, 1250000, 6550000, 1149000, 5790000, 8990000, 3590000, 937177, 1592000, 4580000, 2515000, 2225000, 659000, 1299000, 400000, 597000, 3667000, 3317000, 2950000, 6450000, 4695000, 1932000, 100000, 4062000, 3940000, 4200000, 1329000, 1149000, 5498000, 870000, 1950000, 1600000, 3786000, 4550000, 3299000, 3130000, 2700000, 3350000, 290000, 8990000, 5250000, 1498000, 3590000, 3991000, 3298000, 1399000, 4199000, 4148000, 7987000, 4888000, 3999000, 1530000, 5500000, 4548000, 3199000, 900000, 6899000, 2579000, 3786000, 2415000, 1820000, 691000, 2450000, 1399000, 3999000, 5470000, 2220000, 1720000, 1525000, 1850000, 2329000, 1697000, 14900000, 4199000, 4888000, 2789000, 2452000, 1390000, 1329000, 1050000, 870000, 4848000, 924000, 1600000, 1099000, 4100000, 3298000, 2948000, 1997000, 920000, 3535000, 3535000, 3050000, 3299000, 3250000, 3317000, 290000, 3991000, 4148000, 4548000, 8498000, 608000, 3345000, 3199141, 1340000, 3400000, 2630000, 1498000, 4025000, 4025000, 1399000, 3397000, 3750000, 549000, 3319000, 4800000, 2298000, 4150000, 5330000, 780000, 3150000, 1297000, 2760000, 5579000, 5599000, 820000, 3440000, 1695000, 2580000, 1515000, 2430000, 2050000, 3249000, 4277000, 1549000, 4599000, 2995000, 768990, 4957000, 1816000, 3600000, 4116000, 2000000, 1795000, 3060000, 595000, 598000, 639000, 1048000, 1825000, 1584000, 4227000, 989000, 1200000, 2215000, 2849000, 1945000, 864000, 14000000, 4950000, 3645000, 4350000, 1529000, 3777000, 1187000, 1187000, 2648000, 3099000, 238000, 3500000, 2619000, 2069000, 2649000, 5149000, 1399000, 799000, 1499000, 1577000, 2900000, 7240000, 2384000, 2899000, 6318000, 1479000, 2120000, 3482000, 3779000, 4900000, 1649000, 1699000, 2299001, 6100000, 1518000, 2588000, 2100000, 1849000, 2540000, 3799000, 779000, 3710000, 813000, 3288000, 919000, 3739000, 688000, 2929000, 1019000, 2700000, 1075000, 4797000, 1519000, 1225000, 2215000, 4049000, 8161000, 2349000, 3275000, 1248000, 1386000, 269999, 269999, 1827000, 8900000, 779000, 2900000, 2080000, 3298000, 12990000, 4487000, 2248000, 745000, 3097000, 3780000, 298000, 2561245, 4235000, 1425000, 2250000, 727000, 2198000, 4606000, 2487000, 1330000, 4084000, 890000, 3007000, 2750000, 3630000, 2913000, 3482000, 4098000, 3350000, 2998000, 4342000, 2900000, 5800000, 2025000, 937000, 2293000, 1078000, 5800000, 2697000, 334000, 1197000, 3100000, 7645000, 3100000, 2027000, 8800000, 3707000, 775000, 13509000, 1875000, 9879000, 8300000, 2536471, 1806000, 3059000, 3490000, 999000, 10000000, 2301120, 1100000, 1750000, 9690000, 2720000, 6950000, 3750000, 14200000, 2448000, 2345000, 5440000, 3850000, 1327000, 2477000, 3248000, 2857000, 3749000, 15518000, 770000, 2549000, 3493000, 2248000, 4580000, 1199000, 1279000, 7027000, 7700000, 3551040, 4749000, 2512000, 8550000, 420000, 3849000, 520002, 999000, 15898000, 4240000, 3590000, 3093000, 4999000, 2455000, 3236237, 3025000, 3847000, 979000, 3770000, 2627000, 597000, 3129000, 16000000, 7300000, 18850000, 2490000, 3424000, 1398000, 4827000, 2100000, 3999000, 1438000, 3897000, 1529000, 3789000, 2430000, 2533000, 1630000, 3549000, 2195000, 2020000, 459000, 2790000, 2740000, 599000, 7340000, 14966000, 1226000, 4860000, 3249000, 3199000, 3499000, 2932000, 2590000, 16000000, 1164900, 965000, 3699000, 3699000, 1560000, 4690600, 1950000, 1995000, 5498000, 8850000, 3149000, 1265000, 2937000, 1050000, 3649000, 4555000, 1724000, 1950000, 4979000, 3160000, 1609000, 4250000, 3232000, 2877000, 1050000, 2998000, 8209000, 5800000, 1167000, 3394000, 4768000, 4529000, 4748000, 1584000, 3994000, 289000, 12400000, 1910400, 6999000, 6999000, 1740000, 935000, 885000, 2641000, 974000, 2699000, 2398000, 1336680, 2719680, 2324000, 2998000, 2961000, 2799000, 7608136, 797760, 4690932, 5295000, 7960002, 3051000, 897000, 1360000, 7999000, 910000, 3609000, 3126440, 1352000, 774000, 2452000, 998000, 1000000, 1330000, 3710000, 9400000, 4000000, 5229000, 5199000, 1345000, 2340000, 2017000, 3835000, 2950000, 3878000, 3675000, 2550000, 1585000, 890000, 987000, 4598000, 3400000, 539000, 4775000, 7890000, 3269900, 2390000, 1000000, 1495000, 19918000, 10200000, 1797000, 2347000, 4099000, 3849900, 2992000, 950000, 4248000, 360000, 1850000, 6000000, 4149000, 1677000, 2500000, 2428000, 2195000, 1157000, 5787000, 4279000, 1215000, 4100000, 5090000, 7990000, 1350000, 1270000, 2150000, 3215000, 2900000, 4625000, 2390000, 2390000, 475000, 1595000, 2550000, 1100000, 3099000, 7975000, 1106000, 3416916, 457000, 4000000, 2225000, 11790000, 1545000, 2510000, 3700000, 948177, 5900000, 2700000, 450000, 3990000, 2379000, 3349000, 5340000, 2220000, 1300000, 1419000, 3181000, 2850000, 5717000, 5549000, 2933000, 3998000, 2725000, 850000, 1515000, 8132000, 1230000, 3349000, 979000, 5414000, 5414000, 2470000, 4838000, 1200000, 1716000, 3198000, 1310000, 14920000, 3300000, 5297000, 1431000, 799000, 1700000, 1868000, 630000, 2798000, 5349000, 2717000, 14549000, 1500000, 6498000, 1259000, 3199000, 1511055, 925000, 2862000, 4228000, 2748000, 2599000, 2150000, 850000, 1870000, 2899000, 3100000, 299000, 1450000, 1584000, 3500000, 5250000, 1577000, 9029000, 2480000, 1530000, 5898000, 2022000, 1150000, 1890000, 2425000, 1597000, 4100000, 2585000, 3263040, 2400000, 1099000, 1899000, 5320000, 3792000, 1235000, 2500000, 115000, 4019000, 14649000, 930000, 2425000, 4410000, 2085000, 4099001, 2792000, 970000, 3376000, 1410000, 4263000, 1150000, 1595000, 3017000, 6398000, 4675860, 1180000, 7549000, 1200000, 790000, 3757000, 1474000, 2173500, 2130000, 2999000, 1244900, 4600000, 1280000, 1748000, 3399000, 500000, 7548000, 1072000, 2800000, 4450000, 4012000, 3674000, 2160000, 1950000, 27100000, 1525000, 1980000, 3299000, 400000, 2849000, 2550000, 700000, 4590000, 3578000, 819000, 3198000, 250000, 1700000, 1190000, 385000, 4146000, 1597000, 3199000, 829900, 4950000, 1730000, 4000000, 4400000, 470000, 3598000, 6250000, 3448000, 300000, 1150000, 2745000, 769900, 8150000, 600000, 26000000, 2735000, 6390000, 4400000, 3949000, 3050000, 2189000, 2219000, 2105000, 2499000, 2400000, 1900000, 1750000, 1300000, 2870000, 2999000, 3874000, 135000, 2599000, 210000, 3149000, 2570000, 3789000, 1869000, 2019000, 1997000, 1698000, 2558000, 8100000, 4216000, 2500000, 2999000, 3249000, 2258000, 2449000, 6290000, 2649000, 1132110, 490000, 650000, 1820000, 1429000, 1200000, 2698000, 1595000, 1440000, 4550000, 435000, 155000, 1078000, 1760000, 1090000, 8300000, 1699000, 115000, 3600000, 1058000, 5390000, 1650000, 3997000, 940000, 1098000, 1580000, 3030000, 1599000, 2749000, 965000, 814000, 5550000, 814000, 1141440, 2000000, 5650000, 1390000, 1630000, 1349000, 809000, 1570000, 180000, 12298000, 2384000, 11900000, 675000, 749000, 3898000, 1249000, 4088000, 3290000, 2900000, 946000, 3990000, 3848000, 1350000, 3500000, 480000, 1489000, 3278000, 1590000, 1637000, 3098000, 4150000, 842000, 1790000, 135000, 435000, 1110000, 1250000, 2000000, 399999, 1360000, 3950000, 3099900, 3386000, 480000, 1748000, 5450000, 1317000, 350000, 2400000, 3999000, 1500000, 1895000, 2295000, 5198000, 7498000, 2948000, 1250000, 394000, 1550000, 2980000, 5000000, 1899000, 5199000, 3400000, 2598000, 1338000, 1200000, 12350000, 3559900, 1900000, 6690000, 1360000, 12500000, 1840000, 450000, 3900000, 50000, 1849000, 1519000, 1698000, 3650000, 15398000, 2550000, 508000, 1650000, 800000, 3990000, 4010000, 2598000, 4628000, 1648000, 850000, 1700000, 780000, 3198000, 1748000, 7000000, 1250000, 2500000, 920000, 5000000, 5990000, 8698000, 11699900, 2500000, 1900000, 2458000, 1328000, 2400000, 1029000, 360000, 5990000, 2500000, 1998000, 2140000, 7500000, 1950000, 4050000, 3078000, 1699000, 2349000, 5810000, 19999000, 1680000, 2180000, 1660000, 900000, 1800000, 1938000, 2900000, 1750000, 15000000, 14881000, 1430000, 3600000, 880000, 5748000, 3828000, 1290000, 3480000, 1450000, 1089000, 5290000, 545000, 8490000, 1350000, 950000, 3200000, 3047000, 4299000, 495000, 2849000, 8330000, 1499000, 3200000, 5550000, 2098000, 3898000, 3670000, 3600000, 1690000, 7729000, 1314000, 1314000, 1190000, 3999999, 3868000, 4164000, 600000, 1684000, 550000, 3300000, 2775000, 4795000, 1950000, 2398000, 3098000, 1350000, 7968000, 2899000, 2400000, 590000, 2650000, 1525000, 900000, 2249000, 1830000, 4899000, 1749000, 9000000, 2154000, 6000000, 989000, 4385000, 1749000, 1695000, 1870000, 1650000, 250000, 1360000, 4500000, 990000, 1465000, 5300000, 2990000, 200000, 980000, 225000, 600000, 984000, 2400000, 4900000, 850000, 1080000, 850000, 530000, 3000000, 1700000, 2900000], \"xaxis\": \"x\", \"yaxis\": \"y\"}],                        {\"barmode\": \"relative\", \"legend\": {\"tracegroupgap\": 0}, \"template\": {\"data\": {\"bar\": [{\"error_x\": {\"color\": \"#2a3f5f\"}, \"error_y\": {\"color\": \"#2a3f5f\"}, \"marker\": {\"line\": {\"color\": \"#E5ECF6\", \"width\": 0.5}}, \"type\": \"bar\"}], \"barpolar\": [{\"marker\": {\"line\": {\"color\": \"#E5ECF6\", \"width\": 0.5}}, \"type\": \"barpolar\"}], \"carpet\": [{\"aaxis\": {\"endlinecolor\": \"#2a3f5f\", \"gridcolor\": \"white\", \"linecolor\": \"white\", \"minorgridcolor\": \"white\", \"startlinecolor\": \"#2a3f5f\"}, \"baxis\": {\"endlinecolor\": \"#2a3f5f\", \"gridcolor\": \"white\", \"linecolor\": \"white\", \"minorgridcolor\": \"white\", \"startlinecolor\": \"#2a3f5f\"}, \"type\": \"carpet\"}], \"choropleth\": [{\"colorbar\": {\"outlinewidth\": 0, \"ticks\": \"\"}, \"type\": \"choropleth\"}], \"contour\": [{\"colorbar\": {\"outlinewidth\": 0, \"ticks\": \"\"}, \"colorscale\": [[0.0, \"#0d0887\"], [0.1111111111111111, \"#46039f\"], [0.2222222222222222, \"#7201a8\"], [0.3333333333333333, \"#9c179e\"], [0.4444444444444444, \"#bd3786\"], [0.5555555555555556, \"#d8576b\"], [0.6666666666666666, \"#ed7953\"], [0.7777777777777778, \"#fb9f3a\"], [0.8888888888888888, \"#fdca26\"], [1.0, \"#f0f921\"]], \"type\": \"contour\"}], \"contourcarpet\": [{\"colorbar\": {\"outlinewidth\": 0, \"ticks\": \"\"}, \"type\": \"contourcarpet\"}], \"heatmap\": [{\"colorbar\": {\"outlinewidth\": 0, \"ticks\": \"\"}, \"colorscale\": [[0.0, \"#0d0887\"], [0.1111111111111111, \"#46039f\"], [0.2222222222222222, \"#7201a8\"], [0.3333333333333333, \"#9c179e\"], [0.4444444444444444, \"#bd3786\"], [0.5555555555555556, \"#d8576b\"], [0.6666666666666666, \"#ed7953\"], [0.7777777777777778, \"#fb9f3a\"], [0.8888888888888888, \"#fdca26\"], [1.0, \"#f0f921\"]], \"type\": \"heatmap\"}], \"heatmapgl\": [{\"colorbar\": {\"outlinewidth\": 0, \"ticks\": \"\"}, \"colorscale\": [[0.0, \"#0d0887\"], [0.1111111111111111, \"#46039f\"], [0.2222222222222222, \"#7201a8\"], [0.3333333333333333, \"#9c179e\"], [0.4444444444444444, \"#bd3786\"], [0.5555555555555556, \"#d8576b\"], [0.6666666666666666, \"#ed7953\"], [0.7777777777777778, \"#fb9f3a\"], [0.8888888888888888, \"#fdca26\"], [1.0, \"#f0f921\"]], \"type\": \"heatmapgl\"}], \"histogram\": [{\"marker\": {\"colorbar\": {\"outlinewidth\": 0, \"ticks\": \"\"}}, \"type\": \"histogram\"}], \"histogram2d\": [{\"colorbar\": {\"outlinewidth\": 0, \"ticks\": \"\"}, \"colorscale\": [[0.0, \"#0d0887\"], [0.1111111111111111, \"#46039f\"], [0.2222222222222222, \"#7201a8\"], [0.3333333333333333, \"#9c179e\"], [0.4444444444444444, \"#bd3786\"], [0.5555555555555556, \"#d8576b\"], [0.6666666666666666, \"#ed7953\"], [0.7777777777777778, \"#fb9f3a\"], [0.8888888888888888, \"#fdca26\"], [1.0, \"#f0f921\"]], \"type\": \"histogram2d\"}], \"histogram2dcontour\": [{\"colorbar\": {\"outlinewidth\": 0, \"ticks\": \"\"}, \"colorscale\": [[0.0, \"#0d0887\"], [0.1111111111111111, \"#46039f\"], [0.2222222222222222, \"#7201a8\"], [0.3333333333333333, \"#9c179e\"], [0.4444444444444444, \"#bd3786\"], [0.5555555555555556, \"#d8576b\"], [0.6666666666666666, \"#ed7953\"], [0.7777777777777778, \"#fb9f3a\"], [0.8888888888888888, \"#fdca26\"], [1.0, \"#f0f921\"]], \"type\": \"histogram2dcontour\"}], \"mesh3d\": [{\"colorbar\": {\"outlinewidth\": 0, \"ticks\": \"\"}, \"type\": \"mesh3d\"}], \"parcoords\": [{\"line\": {\"colorbar\": {\"outlinewidth\": 0, \"ticks\": \"\"}}, \"type\": \"parcoords\"}], \"pie\": [{\"automargin\": true, \"type\": \"pie\"}], \"scatter\": [{\"marker\": {\"colorbar\": {\"outlinewidth\": 0, \"ticks\": \"\"}}, \"type\": \"scatter\"}], \"scatter3d\": [{\"line\": {\"colorbar\": {\"outlinewidth\": 0, \"ticks\": \"\"}}, \"marker\": {\"colorbar\": {\"outlinewidth\": 0, \"ticks\": \"\"}}, \"type\": \"scatter3d\"}], \"scattercarpet\": [{\"marker\": {\"colorbar\": {\"outlinewidth\": 0, \"ticks\": \"\"}}, \"type\": \"scattercarpet\"}], \"scattergeo\": [{\"marker\": {\"colorbar\": {\"outlinewidth\": 0, \"ticks\": \"\"}}, \"type\": \"scattergeo\"}], \"scattergl\": [{\"marker\": {\"colorbar\": {\"outlinewidth\": 0, \"ticks\": \"\"}}, \"type\": \"scattergl\"}], \"scattermapbox\": [{\"marker\": {\"colorbar\": {\"outlinewidth\": 0, \"ticks\": \"\"}}, \"type\": \"scattermapbox\"}], \"scatterpolar\": [{\"marker\": {\"colorbar\": {\"outlinewidth\": 0, \"ticks\": \"\"}}, \"type\": \"scatterpolar\"}], \"scatterpolargl\": [{\"marker\": {\"colorbar\": {\"outlinewidth\": 0, \"ticks\": \"\"}}, \"type\": \"scatterpolargl\"}], \"scatterternary\": [{\"marker\": {\"colorbar\": {\"outlinewidth\": 0, \"ticks\": \"\"}}, \"type\": \"scatterternary\"}], \"surface\": [{\"colorbar\": {\"outlinewidth\": 0, \"ticks\": \"\"}, \"colorscale\": [[0.0, \"#0d0887\"], [0.1111111111111111, \"#46039f\"], [0.2222222222222222, \"#7201a8\"], [0.3333333333333333, \"#9c179e\"], [0.4444444444444444, \"#bd3786\"], [0.5555555555555556, \"#d8576b\"], [0.6666666666666666, \"#ed7953\"], [0.7777777777777778, \"#fb9f3a\"], [0.8888888888888888, \"#fdca26\"], [1.0, \"#f0f921\"]], \"type\": \"surface\"}], \"table\": [{\"cells\": {\"fill\": {\"color\": \"#EBF0F8\"}, \"line\": {\"color\": \"white\"}}, \"header\": {\"fill\": {\"color\": \"#C8D4E3\"}, \"line\": {\"color\": \"white\"}}, \"type\": \"table\"}]}, \"layout\": {\"annotationdefaults\": {\"arrowcolor\": \"#2a3f5f\", \"arrowhead\": 0, \"arrowwidth\": 1}, \"autotypenumbers\": \"strict\", \"coloraxis\": {\"colorbar\": {\"outlinewidth\": 0, \"ticks\": \"\"}}, \"colorscale\": {\"diverging\": [[0, \"#8e0152\"], [0.1, \"#c51b7d\"], [0.2, \"#de77ae\"], [0.3, \"#f1b6da\"], [0.4, \"#fde0ef\"], [0.5, \"#f7f7f7\"], [0.6, \"#e6f5d0\"], [0.7, \"#b8e186\"], [0.8, \"#7fbc41\"], [0.9, \"#4d9221\"], [1, \"#276419\"]], \"sequential\": [[0.0, \"#0d0887\"], [0.1111111111111111, \"#46039f\"], [0.2222222222222222, \"#7201a8\"], [0.3333333333333333, \"#9c179e\"], [0.4444444444444444, \"#bd3786\"], [0.5555555555555556, \"#d8576b\"], [0.6666666666666666, \"#ed7953\"], [0.7777777777777778, \"#fb9f3a\"], [0.8888888888888888, \"#fdca26\"], [1.0, \"#f0f921\"]], \"sequentialminus\": [[0.0, \"#0d0887\"], [0.1111111111111111, \"#46039f\"], [0.2222222222222222, \"#7201a8\"], [0.3333333333333333, \"#9c179e\"], [0.4444444444444444, \"#bd3786\"], [0.5555555555555556, \"#d8576b\"], [0.6666666666666666, \"#ed7953\"], [0.7777777777777778, \"#fb9f3a\"], [0.8888888888888888, \"#fdca26\"], [1.0, \"#f0f921\"]]}, \"colorway\": [\"#636efa\", \"#EF553B\", \"#00cc96\", \"#ab63fa\", \"#FFA15A\", \"#19d3f3\", \"#FF6692\", \"#B6E880\", \"#FF97FF\", \"#FECB52\"], \"font\": {\"color\": \"#2a3f5f\"}, \"geo\": {\"bgcolor\": \"white\", \"lakecolor\": \"white\", \"landcolor\": \"#E5ECF6\", \"showlakes\": true, \"showland\": true, \"subunitcolor\": \"white\"}, \"hoverlabel\": {\"align\": \"left\"}, \"hovermode\": \"closest\", \"mapbox\": {\"style\": \"light\"}, \"paper_bgcolor\": \"white\", \"plot_bgcolor\": \"#E5ECF6\", \"polar\": {\"angularaxis\": {\"gridcolor\": \"white\", \"linecolor\": \"white\", \"ticks\": \"\"}, \"bgcolor\": \"#E5ECF6\", \"radialaxis\": {\"gridcolor\": \"white\", \"linecolor\": \"white\", \"ticks\": \"\"}}, \"scene\": {\"xaxis\": {\"backgroundcolor\": \"#E5ECF6\", \"gridcolor\": \"white\", \"gridwidth\": 2, \"linecolor\": \"white\", \"showbackground\": true, \"ticks\": \"\", \"zerolinecolor\": \"white\"}, \"yaxis\": {\"backgroundcolor\": \"#E5ECF6\", \"gridcolor\": \"white\", \"gridwidth\": 2, \"linecolor\": \"white\", \"showbackground\": true, \"ticks\": \"\", \"zerolinecolor\": \"white\"}, \"zaxis\": {\"backgroundcolor\": \"#E5ECF6\", \"gridcolor\": \"white\", \"gridwidth\": 2, \"linecolor\": \"white\", \"showbackground\": true, \"ticks\": \"\", \"zerolinecolor\": \"white\"}}, \"shapedefaults\": {\"line\": {\"color\": \"#2a3f5f\"}}, \"ternary\": {\"aaxis\": {\"gridcolor\": \"white\", \"linecolor\": \"white\", \"ticks\": \"\"}, \"baxis\": {\"gridcolor\": \"white\", \"linecolor\": \"white\", \"ticks\": \"\"}, \"bgcolor\": \"#E5ECF6\", \"caxis\": {\"gridcolor\": \"white\", \"linecolor\": \"white\", \"ticks\": \"\"}}, \"title\": {\"x\": 0.05}, \"xaxis\": {\"automargin\": true, \"gridcolor\": \"white\", \"linecolor\": \"white\", \"ticks\": \"\", \"title\": {\"standoff\": 15}, \"zerolinecolor\": \"white\", \"zerolinewidth\": 2}, \"yaxis\": {\"automargin\": true, \"gridcolor\": \"white\", \"linecolor\": \"white\", \"ticks\": \"\", \"title\": {\"standoff\": 15}, \"zerolinecolor\": \"white\", \"zerolinewidth\": 2}}}, \"title\": {\"text\": \"\\u0413\\u0438\\u0441\\u0442\\u043e\\u0433\\u0440\\u0430\\u043c\\u043c\\u0430 \\u0440\\u0430\\u0441\\u043f\\u0440\\u0435\\u0434\\u0435\\u043b\\u0435\\u043d\\u0438\\u044f \\u0430\\u0432\\u0442\\u043e \\u043f\\u043e \\u0446\\u0435\\u043d\\u0435\"}, \"xaxis\": {\"anchor\": \"y\", \"domain\": [0.0, 1.0], \"title\": {\"text\": \"\\u0426\\u0435\\u043d\\u0430\"}}, \"yaxis\": {\"anchor\": \"x\", \"domain\": [0.0, 1.0], \"title\": {\"text\": \"count\"}}},                        {\"responsive\": true}                    ).then(function(){\n",
       "                            \n",
       "var gd = document.getElementById('ea060cd6-7cf2-471e-a9e8-17c9840eef17');\n",
       "var x = new MutationObserver(function (mutations, observer) {{\n",
       "        var display = window.getComputedStyle(gd).display;\n",
       "        if (!display || display === 'none') {{\n",
       "            console.log([gd, 'removed!']);\n",
       "            Plotly.purge(gd);\n",
       "            observer.disconnect();\n",
       "        }}\n",
       "}});\n",
       "\n",
       "// Listen for the removal of the full notebook cells\n",
       "var notebookContainer = gd.closest('#notebook-container');\n",
       "if (notebookContainer) {{\n",
       "    x.observe(notebookContainer, {childList: true});\n",
       "}}\n",
       "\n",
       "// Listen for the clearing of the current output cell\n",
       "var outputEl = gd.closest('.output');\n",
       "if (outputEl) {{\n",
       "    x.observe(outputEl, {childList: true});\n",
       "}}\n",
       "\n",
       "                        })                };                });            </script>        </div>"
      ]
     },
     "metadata": {},
     "output_type": "display_data"
    }
   ],
   "source": [
    "# наша основная библиотека для визуализаций\n",
    "import matplotlib.pyplot as plt  \n",
    "import pandas as pd \n",
    "import numpy as np\n",
    "\n",
    "# магическая функция, чтобы графики отображались в блокноте под ячейками\n",
    "%matplotlib inline  \n",
    "\n",
    "import plotly.express as px\n",
    "fig = px.histogram(df, x=\"Цена\",  title = 'Гистограмма распределения авто по цене')\n",
    "\n",
    "fig.show()\n"
   ]
  },
  {
   "cell_type": "markdown",
   "metadata": {},
   "source": [
    "Анализ:\n",
    "В основном на рынке автомобилей представлены машины в ценовом диапозоне до 10 млн руб. \n",
    "А чаще всего встречаются авто не дороже 5 млн. руб."
   ]
  },
  {
   "cell_type": "markdown",
   "metadata": {},
   "source": [
    "График 2. Гистограмма распределения по кузову"
   ]
  },
  {
   "cell_type": "code",
   "execution_count": 26,
   "metadata": {},
   "outputs": [
    {
     "data": {
      "text/html": [
       "<div>\n",
       "<style scoped>\n",
       "    .dataframe tbody tr th:only-of-type {\n",
       "        vertical-align: middle;\n",
       "    }\n",
       "\n",
       "    .dataframe tbody tr th {\n",
       "        vertical-align: top;\n",
       "    }\n",
       "\n",
       "    .dataframe thead th {\n",
       "        text-align: right;\n",
       "    }\n",
       "</style>\n",
       "<table border=\"1\" class=\"dataframe\">\n",
       "  <thead>\n",
       "    <tr style=\"text-align: right;\">\n",
       "      <th></th>\n",
       "      <th>седан</th>\n",
       "      <th>лифтбек</th>\n",
       "      <th>минивэн</th>\n",
       "      <th>купе-хардтоп</th>\n",
       "      <th>купе</th>\n",
       "      <th>внедорожник 5 дв.</th>\n",
       "      <th>хэтчбек 5 дв.</th>\n",
       "      <th>универсал 5 дв.</th>\n",
       "      <th>хэтчбек 3 дв.</th>\n",
       "      <th>родстер</th>\n",
       "      <th>кабриолет</th>\n",
       "      <th>внедорожник 3 дв.</th>\n",
       "    </tr>\n",
       "  </thead>\n",
       "  <tbody>\n",
       "    <tr>\n",
       "      <th>0</th>\n",
       "      <td>0</td>\n",
       "      <td>1</td>\n",
       "      <td>2</td>\n",
       "      <td>3</td>\n",
       "      <td>4</td>\n",
       "      <td>5</td>\n",
       "      <td>6</td>\n",
       "      <td>7</td>\n",
       "      <td>8</td>\n",
       "      <td>9</td>\n",
       "      <td>10</td>\n",
       "      <td>11</td>\n",
       "    </tr>\n",
       "  </tbody>\n",
       "</table>\n",
       "</div>"
      ],
      "text/plain": [
       "   седан  лифтбек  минивэн  купе-хардтоп  купе  внедорожник 5 дв.  \\\n",
       "0      0        1        2             3     4                  5   \n",
       "\n",
       "   хэтчбек 5 дв.  универсал 5 дв.  хэтчбек 3 дв.  родстер  кабриолет  \\\n",
       "0              6                7              8        9         10   \n",
       "\n",
       "   внедорожник 3 дв.  \n",
       "0                 11  "
      ]
     },
     "execution_count": 26,
     "metadata": {},
     "output_type": "execute_result"
    }
   ],
   "source": [
    "\n",
    "a = np.zeros(shape=(1741,1))\n",
    "k = 0\n",
    "znach = dict()\n",
    "n = 0\n",
    "for i in df.values:\n",
    "    if i[7] in znach:\n",
    "        a[k] = znach[i[7]]\n",
    "    else:\n",
    "        znach[i[7]] = n\n",
    "        a[k] = n\n",
    "        n += 1\n",
    "    k += 1\n",
    "    if k == 1740:\n",
    "        break\n",
    "df['Кузов 1'] = a\n",
    "mf = pd.DataFrame(znach, index=[0])\n",
    "mf\n",
    "#ниже приведена таблица соответствия типа кузова номеру"
   ]
  },
  {
   "cell_type": "code",
   "execution_count": 27,
   "metadata": {},
   "outputs": [
    {
     "data": {
      "application/vnd.plotly.v1+json": {
       "config": {
        "plotlyServerURL": "https://plot.ly"
       },
       "data": [
        {
         "alignmentgroup": "True",
         "bingroup": "x",
         "hovertemplate": "Кузов 1=%{x}<br>count=%{y}<extra></extra>",
         "legendgroup": "",
         "marker": {
          "color": "#636efa"
         },
         "name": "",
         "offsetgroup": "",
         "orientation": "v",
         "showlegend": false,
         "type": "histogram",
         "x": [
          0,
          1,
          2,
          2,
          3,
          0,
          0,
          0,
          0,
          4,
          5,
          3,
          6,
          4,
          0,
          0,
          0,
          5,
          0,
          0,
          0,
          5,
          5,
          6,
          6,
          7,
          0,
          5,
          3,
          5,
          5,
          0,
          5,
          0,
          5,
          0,
          7,
          0,
          3,
          5,
          5,
          0,
          0,
          0,
          5,
          0,
          0,
          2,
          4,
          5,
          0,
          5,
          0,
          0,
          5,
          1,
          5,
          0,
          5,
          0,
          0,
          0,
          0,
          5,
          0,
          4,
          5,
          8,
          2,
          0,
          0,
          5,
          4,
          0,
          2,
          5,
          9,
          5,
          0,
          5,
          5,
          5,
          5,
          6,
          5,
          5,
          5,
          0,
          5,
          0,
          5,
          2,
          4,
          5,
          5,
          5,
          4,
          5,
          2,
          0,
          5,
          5,
          5,
          5,
          5,
          5,
          0,
          0,
          2,
          9,
          2,
          0,
          4,
          10,
          1,
          2,
          5,
          5,
          9,
          6,
          0,
          4,
          0,
          4,
          0,
          9,
          0,
          5,
          5,
          6,
          0,
          0,
          0,
          0,
          0,
          0,
          0,
          0,
          5,
          0,
          5,
          5,
          4,
          6,
          0,
          0,
          4,
          5,
          5,
          4,
          0,
          5,
          0,
          5,
          0,
          5,
          0,
          0,
          0,
          2,
          5,
          5,
          0,
          0,
          5,
          2,
          0,
          5,
          0,
          5,
          5,
          5,
          0,
          5,
          0,
          0,
          0,
          5,
          0,
          0,
          5,
          0,
          0,
          0,
          0,
          5,
          5,
          5,
          5,
          5,
          5,
          0,
          5,
          5,
          6,
          5,
          5,
          5,
          3,
          5,
          3,
          0,
          0,
          5,
          5,
          5,
          0,
          4,
          5,
          4,
          0,
          5,
          5,
          5,
          3,
          0,
          5,
          0,
          0,
          4,
          0,
          0,
          2,
          0,
          0,
          0,
          4,
          9,
          5,
          5,
          2,
          0,
          5,
          5,
          5,
          5,
          2,
          4,
          5,
          2,
          5,
          5,
          5,
          5,
          4,
          4,
          0,
          0,
          0,
          0,
          0,
          0,
          5,
          3,
          6,
          5,
          5,
          0,
          2,
          5,
          0,
          5,
          0,
          5,
          5,
          0,
          0,
          5,
          4,
          0,
          5,
          0,
          4,
          6,
          5,
          0,
          0,
          2,
          2,
          0,
          4,
          5,
          5,
          5,
          5,
          5,
          6,
          6,
          5,
          0,
          0,
          5,
          0,
          5,
          5,
          9,
          5,
          5,
          7,
          5,
          5,
          0,
          5,
          6,
          5,
          5,
          5,
          5,
          0,
          0,
          0,
          6,
          2,
          0,
          0,
          0,
          0,
          5,
          0,
          5,
          4,
          0,
          0,
          2,
          0,
          3,
          5,
          0,
          0,
          3,
          5,
          0,
          0,
          0,
          5,
          5,
          2,
          6,
          5,
          0,
          5,
          6,
          5,
          0,
          5,
          4,
          0,
          2,
          5,
          5,
          0,
          6,
          2,
          0,
          0,
          5,
          0,
          5,
          5,
          0,
          5,
          5,
          5,
          0,
          0,
          2,
          6,
          0,
          9,
          0,
          0,
          4,
          5,
          2,
          5,
          5,
          0,
          4,
          5,
          0,
          5,
          0,
          5,
          1,
          6,
          0,
          0,
          0,
          0,
          0,
          10,
          5,
          5,
          5,
          5,
          5,
          5,
          0,
          5,
          0,
          5,
          0,
          0,
          5,
          5,
          0,
          2,
          5,
          0,
          0,
          5,
          5,
          0,
          5,
          0,
          5,
          5,
          0,
          9,
          5,
          2,
          5,
          0,
          5,
          0,
          5,
          6,
          5,
          0,
          5,
          4,
          5,
          0,
          5,
          0,
          5,
          0,
          5,
          5,
          5,
          7,
          0,
          2,
          0,
          5,
          0,
          0,
          5,
          5,
          2,
          6,
          0,
          5,
          5,
          0,
          5,
          4,
          5,
          0,
          0,
          9,
          0,
          6,
          5,
          5,
          5,
          0,
          0,
          4,
          0,
          0,
          0,
          10,
          0,
          0,
          5,
          5,
          0,
          5,
          5,
          6,
          0,
          5,
          5,
          5,
          6,
          0,
          5,
          5,
          0,
          9,
          2,
          5,
          0,
          5,
          5,
          5,
          5,
          5,
          5,
          5,
          0,
          5,
          6,
          1,
          5,
          0,
          0,
          5,
          4,
          5,
          5,
          0,
          0,
          5,
          0,
          5,
          0,
          6,
          5,
          5,
          5,
          5,
          5,
          5,
          5,
          0,
          4,
          5,
          0,
          2,
          5,
          2,
          0,
          0,
          4,
          0,
          5,
          3,
          5,
          0,
          4,
          5,
          0,
          5,
          5,
          5,
          0,
          5,
          5,
          0,
          0,
          0,
          4,
          5,
          5,
          5,
          0,
          2,
          9,
          5,
          6,
          0,
          5,
          8,
          2,
          2,
          6,
          0,
          5,
          0,
          6,
          5,
          5,
          5,
          0,
          5,
          0,
          4,
          5,
          5,
          5,
          0,
          5,
          4,
          0,
          0,
          0,
          5,
          5,
          0,
          0,
          5,
          0,
          0,
          5,
          5,
          0,
          0,
          5,
          2,
          0,
          2,
          0,
          0,
          5,
          0,
          5,
          3,
          5,
          2,
          0,
          2,
          0,
          4,
          5,
          11,
          5,
          2,
          5,
          0,
          5,
          2,
          0,
          0,
          4,
          5,
          0,
          5,
          2,
          3,
          0,
          3,
          0,
          5,
          0,
          5,
          5,
          5,
          6,
          5,
          5,
          5,
          2,
          0,
          0,
          5,
          5,
          0,
          6,
          9,
          5,
          5,
          5,
          7,
          2,
          0,
          5,
          0,
          6,
          5,
          0,
          5,
          5,
          6,
          0,
          2,
          5,
          0,
          2,
          5,
          5,
          5,
          2,
          5,
          0,
          5,
          5,
          0,
          5,
          0,
          5,
          7,
          0,
          5,
          5,
          4,
          0,
          5,
          0,
          2,
          0,
          0,
          2,
          0,
          0,
          5,
          8,
          6,
          6,
          4,
          5,
          0,
          2,
          5,
          6,
          6,
          5,
          9,
          4,
          9,
          0,
          0,
          0,
          0,
          5,
          5,
          3,
          5,
          0,
          0,
          3,
          5,
          0,
          5,
          0,
          0,
          0,
          4,
          0,
          0,
          2,
          5,
          0,
          5,
          5,
          4,
          5,
          9,
          5,
          5,
          5,
          0,
          5,
          0,
          5,
          0,
          5,
          3,
          5,
          3,
          5,
          5,
          5,
          6,
          5,
          5,
          4,
          4,
          0,
          6,
          0,
          5,
          5,
          0,
          0,
          0,
          0,
          0,
          5,
          0,
          5,
          0,
          0,
          6,
          5,
          2,
          2,
          5,
          6,
          0,
          0,
          5,
          5,
          0,
          0,
          5,
          5,
          2,
          4,
          6,
          5,
          1,
          5,
          0,
          6,
          0,
          0,
          0,
          0,
          5,
          6,
          0,
          5,
          0,
          5,
          0,
          5,
          5,
          0,
          5,
          9,
          5,
          6,
          6,
          0,
          5,
          3,
          0,
          5,
          5,
          0,
          0,
          5,
          5,
          5,
          1,
          5,
          5,
          5,
          0,
          5,
          0,
          5,
          0,
          5,
          5,
          5,
          5,
          5,
          5,
          0,
          6,
          0,
          0,
          5,
          0,
          5,
          5,
          5,
          0,
          5,
          0,
          5,
          0,
          0,
          2,
          7,
          3,
          5,
          5,
          5,
          0,
          5,
          0,
          6,
          5,
          5,
          5,
          6,
          0,
          3,
          5,
          5,
          0,
          0,
          5,
          0,
          0,
          5,
          0,
          0,
          0,
          5,
          0,
          0,
          5,
          9,
          5,
          4,
          0,
          3,
          5,
          0,
          5,
          5,
          5,
          0,
          5,
          5,
          0,
          5,
          4,
          5,
          0,
          5,
          5,
          5,
          4,
          0,
          5,
          0,
          0,
          4,
          0,
          5,
          5,
          0,
          5,
          0,
          5,
          5,
          5,
          0,
          0,
          5,
          0,
          9,
          0,
          0,
          5,
          0,
          0,
          7,
          0,
          4,
          5,
          3,
          5,
          5,
          5,
          0,
          0,
          5,
          0,
          0,
          0,
          4,
          0,
          0,
          4,
          5,
          5,
          5,
          9,
          0,
          5,
          5,
          5,
          0,
          4,
          0,
          0,
          3,
          3,
          5,
          5,
          5,
          5,
          4,
          2,
          6,
          5,
          5,
          9,
          6,
          5,
          0,
          5,
          0,
          5,
          5,
          5,
          5,
          4,
          0,
          5,
          6,
          5,
          5,
          5,
          0,
          0,
          0,
          5,
          5,
          5,
          5,
          4,
          5,
          0,
          5,
          5,
          2,
          6,
          3,
          6,
          6,
          5,
          5,
          5,
          0,
          5,
          5,
          0,
          0,
          0,
          5,
          5,
          4,
          5,
          0,
          5,
          0,
          5,
          0,
          5,
          5,
          4,
          0,
          4,
          0,
          0,
          0,
          5,
          0,
          0,
          0,
          5,
          5,
          5,
          4,
          5,
          5,
          6,
          5,
          3,
          5,
          5,
          6,
          0,
          5,
          5,
          4,
          0,
          5,
          5,
          5,
          5,
          5,
          0,
          1,
          5,
          0,
          5,
          5,
          0,
          5,
          5,
          6,
          5,
          5,
          0,
          0,
          0,
          10,
          6,
          5,
          5,
          5,
          5,
          5,
          4,
          0,
          0,
          5,
          5,
          0,
          5,
          5,
          5,
          5,
          5,
          5,
          4,
          5,
          5,
          5,
          4,
          5,
          5,
          6,
          0,
          5,
          5,
          5,
          5,
          5,
          0,
          5,
          5,
          0,
          0,
          5,
          5,
          6,
          2,
          4,
          0,
          5,
          0,
          5,
          0,
          4,
          0,
          5,
          0,
          5,
          3,
          5,
          0,
          4,
          5,
          5,
          5,
          5,
          6,
          0,
          0,
          4,
          5,
          0,
          0,
          5,
          5,
          5,
          0,
          5,
          0,
          4,
          5,
          6,
          5,
          5,
          0,
          5,
          5,
          0,
          0,
          5,
          0,
          0,
          7,
          0,
          0,
          0,
          0,
          3,
          4,
          5,
          6,
          9,
          5,
          5,
          2,
          0,
          5,
          5,
          4,
          2,
          5,
          0,
          5,
          6,
          5,
          0,
          4,
          0,
          0,
          0,
          0,
          0,
          6,
          5,
          3,
          4,
          5,
          6,
          5,
          0,
          0,
          5,
          0,
          1,
          0,
          7,
          2,
          5,
          0,
          0,
          5,
          0,
          5,
          4,
          0,
          0,
          0,
          5,
          0,
          5,
          0,
          5,
          5,
          2,
          5,
          5,
          0,
          0,
          0,
          5,
          5,
          4,
          0,
          0,
          3,
          0,
          0,
          5,
          5,
          6,
          0,
          1,
          5,
          5,
          0,
          0,
          5,
          4,
          0,
          5,
          5,
          5,
          0,
          0,
          5,
          0,
          5,
          5,
          5,
          3,
          9,
          5,
          0,
          4,
          5,
          4,
          6,
          0,
          5,
          2,
          0,
          5,
          5,
          5,
          5,
          5,
          0,
          0,
          0,
          3,
          2,
          4,
          5,
          5,
          3,
          0,
          0,
          0,
          0,
          5,
          0,
          0,
          0,
          3,
          4,
          0,
          5,
          5,
          0,
          0,
          0,
          5,
          0,
          0,
          5,
          0,
          0,
          4,
          5,
          5,
          5,
          0,
          0,
          5,
          0,
          5,
          0,
          5,
          5,
          0,
          0,
          3,
          0,
          5,
          7,
          5,
          0,
          5,
          5,
          0,
          0,
          0,
          5,
          0,
          5,
          0,
          5,
          9,
          0,
          0,
          5,
          0,
          6,
          5,
          5,
          0,
          5,
          5,
          6,
          6,
          0,
          5,
          0,
          3,
          5,
          5,
          4,
          5,
          5,
          5,
          5,
          0,
          3,
          0,
          5,
          5,
          5,
          5,
          5,
          5,
          4,
          0,
          0,
          0,
          5,
          0,
          0,
          0,
          5,
          5,
          6,
          5,
          5,
          0,
          5,
          0,
          2,
          5,
          3,
          5,
          0,
          5,
          5,
          5,
          0,
          5,
          5,
          5,
          6,
          4,
          5,
          5,
          5,
          5,
          0,
          5,
          0,
          2,
          5,
          5,
          0,
          6,
          5,
          5,
          5,
          6,
          5,
          0,
          0,
          7,
          0,
          5,
          9,
          0,
          5,
          0,
          5,
          5,
          5,
          0,
          0,
          7,
          0,
          9,
          5,
          5,
          5,
          5,
          0,
          0,
          2,
          5,
          0,
          5,
          5,
          5,
          5,
          0,
          2,
          5,
          0,
          0,
          9,
          5,
          5,
          5,
          0,
          2,
          5,
          5,
          0,
          5,
          5,
          3,
          0,
          0,
          5,
          5,
          5,
          0,
          0,
          0,
          5,
          0,
          5,
          5,
          0,
          5,
          3,
          0,
          5,
          2,
          5,
          4,
          5,
          5,
          5,
          4,
          5,
          5,
          0,
          5,
          0,
          5,
          5,
          0,
          6,
          5,
          5,
          5,
          0,
          5,
          5,
          0,
          0,
          0,
          0,
          5,
          6,
          5,
          0,
          4,
          0,
          0,
          5,
          0,
          6,
          5,
          6,
          6,
          0,
          6,
          4,
          0,
          0,
          5,
          0,
          0,
          5,
          5,
          5,
          5,
          0,
          0,
          5,
          0,
          5,
          3,
          0,
          0,
          2,
          0,
          4,
          0,
          0,
          0,
          0,
          7,
          0,
          5,
          5,
          0,
          0,
          6,
          0,
          0,
          0,
          0,
          0,
          7,
          9,
          5,
          5,
          5,
          7,
          0,
          5,
          5,
          5,
          0,
          0,
          5,
          2,
          3,
          5,
          0,
          1,
          5,
          3,
          6,
          5,
          5,
          0,
          0,
          5,
          5,
          0,
          0,
          0,
          0,
          5,
          0,
          0,
          5,
          5,
          0,
          0,
          5,
          0,
          5,
          5,
          5,
          2,
          5,
          0,
          6,
          6,
          0,
          0,
          5,
          0,
          5,
          5,
          0,
          5,
          0,
          5,
          2,
          0,
          0,
          5,
          5,
          0,
          0,
          0,
          5,
          2,
          0,
          0,
          3,
          5,
          3,
          7,
          5,
          0,
          6,
          0,
          4,
          5,
          5,
          0,
          0,
          5,
          0,
          5,
          0,
          0,
          0,
          0,
          0,
          0,
          5,
          0,
          5,
          5,
          0,
          5,
          6,
          2,
          5,
          0,
          5,
          5,
          0,
          5,
          9,
          4,
          5,
          6,
          0,
          0,
          5,
          0,
          0,
          0,
          5,
          0,
          0,
          2,
          4,
          5,
          5,
          5,
          5,
          5,
          5,
          2,
          5,
          5,
          5,
          5,
          0,
          0,
          0,
          0,
          0,
          5,
          5,
          5,
          5,
          5,
          5,
          5,
          9,
          0,
          2,
          0,
          0,
          0,
          5,
          5,
          0,
          7,
          2,
          6,
          0,
          0,
          3,
          5,
          0,
          2,
          0,
          0,
          0,
          7,
          5,
          5,
          0,
          5,
          0,
          0,
          0,
          3,
          0,
          0,
          3,
          5,
          0,
          9,
          0,
          0
         ],
         "xaxis": "x",
         "yaxis": "y"
        }
       ],
       "layout": {
        "barmode": "relative",
        "legend": {
         "tracegroupgap": 0
        },
        "template": {
         "data": {
          "bar": [
           {
            "error_x": {
             "color": "#2a3f5f"
            },
            "error_y": {
             "color": "#2a3f5f"
            },
            "marker": {
             "line": {
              "color": "#E5ECF6",
              "width": 0.5
             }
            },
            "type": "bar"
           }
          ],
          "barpolar": [
           {
            "marker": {
             "line": {
              "color": "#E5ECF6",
              "width": 0.5
             }
            },
            "type": "barpolar"
           }
          ],
          "carpet": [
           {
            "aaxis": {
             "endlinecolor": "#2a3f5f",
             "gridcolor": "white",
             "linecolor": "white",
             "minorgridcolor": "white",
             "startlinecolor": "#2a3f5f"
            },
            "baxis": {
             "endlinecolor": "#2a3f5f",
             "gridcolor": "white",
             "linecolor": "white",
             "minorgridcolor": "white",
             "startlinecolor": "#2a3f5f"
            },
            "type": "carpet"
           }
          ],
          "choropleth": [
           {
            "colorbar": {
             "outlinewidth": 0,
             "ticks": ""
            },
            "type": "choropleth"
           }
          ],
          "contour": [
           {
            "colorbar": {
             "outlinewidth": 0,
             "ticks": ""
            },
            "colorscale": [
             [
              0,
              "#0d0887"
             ],
             [
              0.1111111111111111,
              "#46039f"
             ],
             [
              0.2222222222222222,
              "#7201a8"
             ],
             [
              0.3333333333333333,
              "#9c179e"
             ],
             [
              0.4444444444444444,
              "#bd3786"
             ],
             [
              0.5555555555555556,
              "#d8576b"
             ],
             [
              0.6666666666666666,
              "#ed7953"
             ],
             [
              0.7777777777777778,
              "#fb9f3a"
             ],
             [
              0.8888888888888888,
              "#fdca26"
             ],
             [
              1,
              "#f0f921"
             ]
            ],
            "type": "contour"
           }
          ],
          "contourcarpet": [
           {
            "colorbar": {
             "outlinewidth": 0,
             "ticks": ""
            },
            "type": "contourcarpet"
           }
          ],
          "heatmap": [
           {
            "colorbar": {
             "outlinewidth": 0,
             "ticks": ""
            },
            "colorscale": [
             [
              0,
              "#0d0887"
             ],
             [
              0.1111111111111111,
              "#46039f"
             ],
             [
              0.2222222222222222,
              "#7201a8"
             ],
             [
              0.3333333333333333,
              "#9c179e"
             ],
             [
              0.4444444444444444,
              "#bd3786"
             ],
             [
              0.5555555555555556,
              "#d8576b"
             ],
             [
              0.6666666666666666,
              "#ed7953"
             ],
             [
              0.7777777777777778,
              "#fb9f3a"
             ],
             [
              0.8888888888888888,
              "#fdca26"
             ],
             [
              1,
              "#f0f921"
             ]
            ],
            "type": "heatmap"
           }
          ],
          "heatmapgl": [
           {
            "colorbar": {
             "outlinewidth": 0,
             "ticks": ""
            },
            "colorscale": [
             [
              0,
              "#0d0887"
             ],
             [
              0.1111111111111111,
              "#46039f"
             ],
             [
              0.2222222222222222,
              "#7201a8"
             ],
             [
              0.3333333333333333,
              "#9c179e"
             ],
             [
              0.4444444444444444,
              "#bd3786"
             ],
             [
              0.5555555555555556,
              "#d8576b"
             ],
             [
              0.6666666666666666,
              "#ed7953"
             ],
             [
              0.7777777777777778,
              "#fb9f3a"
             ],
             [
              0.8888888888888888,
              "#fdca26"
             ],
             [
              1,
              "#f0f921"
             ]
            ],
            "type": "heatmapgl"
           }
          ],
          "histogram": [
           {
            "marker": {
             "colorbar": {
              "outlinewidth": 0,
              "ticks": ""
             }
            },
            "type": "histogram"
           }
          ],
          "histogram2d": [
           {
            "colorbar": {
             "outlinewidth": 0,
             "ticks": ""
            },
            "colorscale": [
             [
              0,
              "#0d0887"
             ],
             [
              0.1111111111111111,
              "#46039f"
             ],
             [
              0.2222222222222222,
              "#7201a8"
             ],
             [
              0.3333333333333333,
              "#9c179e"
             ],
             [
              0.4444444444444444,
              "#bd3786"
             ],
             [
              0.5555555555555556,
              "#d8576b"
             ],
             [
              0.6666666666666666,
              "#ed7953"
             ],
             [
              0.7777777777777778,
              "#fb9f3a"
             ],
             [
              0.8888888888888888,
              "#fdca26"
             ],
             [
              1,
              "#f0f921"
             ]
            ],
            "type": "histogram2d"
           }
          ],
          "histogram2dcontour": [
           {
            "colorbar": {
             "outlinewidth": 0,
             "ticks": ""
            },
            "colorscale": [
             [
              0,
              "#0d0887"
             ],
             [
              0.1111111111111111,
              "#46039f"
             ],
             [
              0.2222222222222222,
              "#7201a8"
             ],
             [
              0.3333333333333333,
              "#9c179e"
             ],
             [
              0.4444444444444444,
              "#bd3786"
             ],
             [
              0.5555555555555556,
              "#d8576b"
             ],
             [
              0.6666666666666666,
              "#ed7953"
             ],
             [
              0.7777777777777778,
              "#fb9f3a"
             ],
             [
              0.8888888888888888,
              "#fdca26"
             ],
             [
              1,
              "#f0f921"
             ]
            ],
            "type": "histogram2dcontour"
           }
          ],
          "mesh3d": [
           {
            "colorbar": {
             "outlinewidth": 0,
             "ticks": ""
            },
            "type": "mesh3d"
           }
          ],
          "parcoords": [
           {
            "line": {
             "colorbar": {
              "outlinewidth": 0,
              "ticks": ""
             }
            },
            "type": "parcoords"
           }
          ],
          "pie": [
           {
            "automargin": true,
            "type": "pie"
           }
          ],
          "scatter": [
           {
            "marker": {
             "colorbar": {
              "outlinewidth": 0,
              "ticks": ""
             }
            },
            "type": "scatter"
           }
          ],
          "scatter3d": [
           {
            "line": {
             "colorbar": {
              "outlinewidth": 0,
              "ticks": ""
             }
            },
            "marker": {
             "colorbar": {
              "outlinewidth": 0,
              "ticks": ""
             }
            },
            "type": "scatter3d"
           }
          ],
          "scattercarpet": [
           {
            "marker": {
             "colorbar": {
              "outlinewidth": 0,
              "ticks": ""
             }
            },
            "type": "scattercarpet"
           }
          ],
          "scattergeo": [
           {
            "marker": {
             "colorbar": {
              "outlinewidth": 0,
              "ticks": ""
             }
            },
            "type": "scattergeo"
           }
          ],
          "scattergl": [
           {
            "marker": {
             "colorbar": {
              "outlinewidth": 0,
              "ticks": ""
             }
            },
            "type": "scattergl"
           }
          ],
          "scattermapbox": [
           {
            "marker": {
             "colorbar": {
              "outlinewidth": 0,
              "ticks": ""
             }
            },
            "type": "scattermapbox"
           }
          ],
          "scatterpolar": [
           {
            "marker": {
             "colorbar": {
              "outlinewidth": 0,
              "ticks": ""
             }
            },
            "type": "scatterpolar"
           }
          ],
          "scatterpolargl": [
           {
            "marker": {
             "colorbar": {
              "outlinewidth": 0,
              "ticks": ""
             }
            },
            "type": "scatterpolargl"
           }
          ],
          "scatterternary": [
           {
            "marker": {
             "colorbar": {
              "outlinewidth": 0,
              "ticks": ""
             }
            },
            "type": "scatterternary"
           }
          ],
          "surface": [
           {
            "colorbar": {
             "outlinewidth": 0,
             "ticks": ""
            },
            "colorscale": [
             [
              0,
              "#0d0887"
             ],
             [
              0.1111111111111111,
              "#46039f"
             ],
             [
              0.2222222222222222,
              "#7201a8"
             ],
             [
              0.3333333333333333,
              "#9c179e"
             ],
             [
              0.4444444444444444,
              "#bd3786"
             ],
             [
              0.5555555555555556,
              "#d8576b"
             ],
             [
              0.6666666666666666,
              "#ed7953"
             ],
             [
              0.7777777777777778,
              "#fb9f3a"
             ],
             [
              0.8888888888888888,
              "#fdca26"
             ],
             [
              1,
              "#f0f921"
             ]
            ],
            "type": "surface"
           }
          ],
          "table": [
           {
            "cells": {
             "fill": {
              "color": "#EBF0F8"
             },
             "line": {
              "color": "white"
             }
            },
            "header": {
             "fill": {
              "color": "#C8D4E3"
             },
             "line": {
              "color": "white"
             }
            },
            "type": "table"
           }
          ]
         },
         "layout": {
          "annotationdefaults": {
           "arrowcolor": "#2a3f5f",
           "arrowhead": 0,
           "arrowwidth": 1
          },
          "autotypenumbers": "strict",
          "coloraxis": {
           "colorbar": {
            "outlinewidth": 0,
            "ticks": ""
           }
          },
          "colorscale": {
           "diverging": [
            [
             0,
             "#8e0152"
            ],
            [
             0.1,
             "#c51b7d"
            ],
            [
             0.2,
             "#de77ae"
            ],
            [
             0.3,
             "#f1b6da"
            ],
            [
             0.4,
             "#fde0ef"
            ],
            [
             0.5,
             "#f7f7f7"
            ],
            [
             0.6,
             "#e6f5d0"
            ],
            [
             0.7,
             "#b8e186"
            ],
            [
             0.8,
             "#7fbc41"
            ],
            [
             0.9,
             "#4d9221"
            ],
            [
             1,
             "#276419"
            ]
           ],
           "sequential": [
            [
             0,
             "#0d0887"
            ],
            [
             0.1111111111111111,
             "#46039f"
            ],
            [
             0.2222222222222222,
             "#7201a8"
            ],
            [
             0.3333333333333333,
             "#9c179e"
            ],
            [
             0.4444444444444444,
             "#bd3786"
            ],
            [
             0.5555555555555556,
             "#d8576b"
            ],
            [
             0.6666666666666666,
             "#ed7953"
            ],
            [
             0.7777777777777778,
             "#fb9f3a"
            ],
            [
             0.8888888888888888,
             "#fdca26"
            ],
            [
             1,
             "#f0f921"
            ]
           ],
           "sequentialminus": [
            [
             0,
             "#0d0887"
            ],
            [
             0.1111111111111111,
             "#46039f"
            ],
            [
             0.2222222222222222,
             "#7201a8"
            ],
            [
             0.3333333333333333,
             "#9c179e"
            ],
            [
             0.4444444444444444,
             "#bd3786"
            ],
            [
             0.5555555555555556,
             "#d8576b"
            ],
            [
             0.6666666666666666,
             "#ed7953"
            ],
            [
             0.7777777777777778,
             "#fb9f3a"
            ],
            [
             0.8888888888888888,
             "#fdca26"
            ],
            [
             1,
             "#f0f921"
            ]
           ]
          },
          "colorway": [
           "#636efa",
           "#EF553B",
           "#00cc96",
           "#ab63fa",
           "#FFA15A",
           "#19d3f3",
           "#FF6692",
           "#B6E880",
           "#FF97FF",
           "#FECB52"
          ],
          "font": {
           "color": "#2a3f5f"
          },
          "geo": {
           "bgcolor": "white",
           "lakecolor": "white",
           "landcolor": "#E5ECF6",
           "showlakes": true,
           "showland": true,
           "subunitcolor": "white"
          },
          "hoverlabel": {
           "align": "left"
          },
          "hovermode": "closest",
          "mapbox": {
           "style": "light"
          },
          "paper_bgcolor": "white",
          "plot_bgcolor": "#E5ECF6",
          "polar": {
           "angularaxis": {
            "gridcolor": "white",
            "linecolor": "white",
            "ticks": ""
           },
           "bgcolor": "#E5ECF6",
           "radialaxis": {
            "gridcolor": "white",
            "linecolor": "white",
            "ticks": ""
           }
          },
          "scene": {
           "xaxis": {
            "backgroundcolor": "#E5ECF6",
            "gridcolor": "white",
            "gridwidth": 2,
            "linecolor": "white",
            "showbackground": true,
            "ticks": "",
            "zerolinecolor": "white"
           },
           "yaxis": {
            "backgroundcolor": "#E5ECF6",
            "gridcolor": "white",
            "gridwidth": 2,
            "linecolor": "white",
            "showbackground": true,
            "ticks": "",
            "zerolinecolor": "white"
           },
           "zaxis": {
            "backgroundcolor": "#E5ECF6",
            "gridcolor": "white",
            "gridwidth": 2,
            "linecolor": "white",
            "showbackground": true,
            "ticks": "",
            "zerolinecolor": "white"
           }
          },
          "shapedefaults": {
           "line": {
            "color": "#2a3f5f"
           }
          },
          "ternary": {
           "aaxis": {
            "gridcolor": "white",
            "linecolor": "white",
            "ticks": ""
           },
           "baxis": {
            "gridcolor": "white",
            "linecolor": "white",
            "ticks": ""
           },
           "bgcolor": "#E5ECF6",
           "caxis": {
            "gridcolor": "white",
            "linecolor": "white",
            "ticks": ""
           }
          },
          "title": {
           "x": 0.05
          },
          "xaxis": {
           "automargin": true,
           "gridcolor": "white",
           "linecolor": "white",
           "ticks": "",
           "title": {
            "standoff": 15
           },
           "zerolinecolor": "white",
           "zerolinewidth": 2
          },
          "yaxis": {
           "automargin": true,
           "gridcolor": "white",
           "linecolor": "white",
           "ticks": "",
           "title": {
            "standoff": 15
           },
           "zerolinecolor": "white",
           "zerolinewidth": 2
          }
         }
        },
        "title": {
         "text": "Гистограмма распределения типов кузова авто"
        },
        "xaxis": {
         "anchor": "y",
         "domain": [
          0,
          1
         ],
         "title": {
          "text": "Кузов 1"
         }
        },
        "yaxis": {
         "anchor": "x",
         "domain": [
          0,
          1
         ],
         "title": {
          "text": "count"
         }
        }
       }
      },
      "text/html": [
       "<div>                            <div id=\"ad6f5781-c61b-4c05-9b22-f84a6764539e\" class=\"plotly-graph-div\" style=\"height:525px; width:100%;\"></div>            <script type=\"text/javascript\">                require([\"plotly\"], function(Plotly) {                    window.PLOTLYENV=window.PLOTLYENV || {};                                    if (document.getElementById(\"ad6f5781-c61b-4c05-9b22-f84a6764539e\")) {                    Plotly.newPlot(                        \"ad6f5781-c61b-4c05-9b22-f84a6764539e\",                        [{\"alignmentgroup\": \"True\", \"bingroup\": \"x\", \"hovertemplate\": \"\\u041a\\u0443\\u0437\\u043e\\u0432 1=%{x}<br>count=%{y}<extra></extra>\", \"legendgroup\": \"\", \"marker\": {\"color\": \"#636efa\"}, \"name\": \"\", \"offsetgroup\": \"\", \"orientation\": \"v\", \"showlegend\": false, \"type\": \"histogram\", \"x\": [0.0, 1.0, 2.0, 2.0, 3.0, 0.0, 0.0, 0.0, 0.0, 4.0, 5.0, 3.0, 6.0, 4.0, 0.0, 0.0, 0.0, 5.0, 0.0, 0.0, 0.0, 5.0, 5.0, 6.0, 6.0, 7.0, 0.0, 5.0, 3.0, 5.0, 5.0, 0.0, 5.0, 0.0, 5.0, 0.0, 7.0, 0.0, 3.0, 5.0, 5.0, 0.0, 0.0, 0.0, 5.0, 0.0, 0.0, 2.0, 4.0, 5.0, 0.0, 5.0, 0.0, 0.0, 5.0, 1.0, 5.0, 0.0, 5.0, 0.0, 0.0, 0.0, 0.0, 5.0, 0.0, 4.0, 5.0, 8.0, 2.0, 0.0, 0.0, 5.0, 4.0, 0.0, 2.0, 5.0, 9.0, 5.0, 0.0, 5.0, 5.0, 5.0, 5.0, 6.0, 5.0, 5.0, 5.0, 0.0, 5.0, 0.0, 5.0, 2.0, 4.0, 5.0, 5.0, 5.0, 4.0, 5.0, 2.0, 0.0, 5.0, 5.0, 5.0, 5.0, 5.0, 5.0, 0.0, 0.0, 2.0, 9.0, 2.0, 0.0, 4.0, 10.0, 1.0, 2.0, 5.0, 5.0, 9.0, 6.0, 0.0, 4.0, 0.0, 4.0, 0.0, 9.0, 0.0, 5.0, 5.0, 6.0, 0.0, 0.0, 0.0, 0.0, 0.0, 0.0, 0.0, 0.0, 5.0, 0.0, 5.0, 5.0, 4.0, 6.0, 0.0, 0.0, 4.0, 5.0, 5.0, 4.0, 0.0, 5.0, 0.0, 5.0, 0.0, 5.0, 0.0, 0.0, 0.0, 2.0, 5.0, 5.0, 0.0, 0.0, 5.0, 2.0, 0.0, 5.0, 0.0, 5.0, 5.0, 5.0, 0.0, 5.0, 0.0, 0.0, 0.0, 5.0, 0.0, 0.0, 5.0, 0.0, 0.0, 0.0, 0.0, 5.0, 5.0, 5.0, 5.0, 5.0, 5.0, 0.0, 5.0, 5.0, 6.0, 5.0, 5.0, 5.0, 3.0, 5.0, 3.0, 0.0, 0.0, 5.0, 5.0, 5.0, 0.0, 4.0, 5.0, 4.0, 0.0, 5.0, 5.0, 5.0, 3.0, 0.0, 5.0, 0.0, 0.0, 4.0, 0.0, 0.0, 2.0, 0.0, 0.0, 0.0, 4.0, 9.0, 5.0, 5.0, 2.0, 0.0, 5.0, 5.0, 5.0, 5.0, 2.0, 4.0, 5.0, 2.0, 5.0, 5.0, 5.0, 5.0, 4.0, 4.0, 0.0, 0.0, 0.0, 0.0, 0.0, 0.0, 5.0, 3.0, 6.0, 5.0, 5.0, 0.0, 2.0, 5.0, 0.0, 5.0, 0.0, 5.0, 5.0, 0.0, 0.0, 5.0, 4.0, 0.0, 5.0, 0.0, 4.0, 6.0, 5.0, 0.0, 0.0, 2.0, 2.0, 0.0, 4.0, 5.0, 5.0, 5.0, 5.0, 5.0, 6.0, 6.0, 5.0, 0.0, 0.0, 5.0, 0.0, 5.0, 5.0, 9.0, 5.0, 5.0, 7.0, 5.0, 5.0, 0.0, 5.0, 6.0, 5.0, 5.0, 5.0, 5.0, 0.0, 0.0, 0.0, 6.0, 2.0, 0.0, 0.0, 0.0, 0.0, 5.0, 0.0, 5.0, 4.0, 0.0, 0.0, 2.0, 0.0, 3.0, 5.0, 0.0, 0.0, 3.0, 5.0, 0.0, 0.0, 0.0, 5.0, 5.0, 2.0, 6.0, 5.0, 0.0, 5.0, 6.0, 5.0, 0.0, 5.0, 4.0, 0.0, 2.0, 5.0, 5.0, 0.0, 6.0, 2.0, 0.0, 0.0, 5.0, 0.0, 5.0, 5.0, 0.0, 5.0, 5.0, 5.0, 0.0, 0.0, 2.0, 6.0, 0.0, 9.0, 0.0, 0.0, 4.0, 5.0, 2.0, 5.0, 5.0, 0.0, 4.0, 5.0, 0.0, 5.0, 0.0, 5.0, 1.0, 6.0, 0.0, 0.0, 0.0, 0.0, 0.0, 10.0, 5.0, 5.0, 5.0, 5.0, 5.0, 5.0, 0.0, 5.0, 0.0, 5.0, 0.0, 0.0, 5.0, 5.0, 0.0, 2.0, 5.0, 0.0, 0.0, 5.0, 5.0, 0.0, 5.0, 0.0, 5.0, 5.0, 0.0, 9.0, 5.0, 2.0, 5.0, 0.0, 5.0, 0.0, 5.0, 6.0, 5.0, 0.0, 5.0, 4.0, 5.0, 0.0, 5.0, 0.0, 5.0, 0.0, 5.0, 5.0, 5.0, 7.0, 0.0, 2.0, 0.0, 5.0, 0.0, 0.0, 5.0, 5.0, 2.0, 6.0, 0.0, 5.0, 5.0, 0.0, 5.0, 4.0, 5.0, 0.0, 0.0, 9.0, 0.0, 6.0, 5.0, 5.0, 5.0, 0.0, 0.0, 4.0, 0.0, 0.0, 0.0, 10.0, 0.0, 0.0, 5.0, 5.0, 0.0, 5.0, 5.0, 6.0, 0.0, 5.0, 5.0, 5.0, 6.0, 0.0, 5.0, 5.0, 0.0, 9.0, 2.0, 5.0, 0.0, 5.0, 5.0, 5.0, 5.0, 5.0, 5.0, 5.0, 0.0, 5.0, 6.0, 1.0, 5.0, 0.0, 0.0, 5.0, 4.0, 5.0, 5.0, 0.0, 0.0, 5.0, 0.0, 5.0, 0.0, 6.0, 5.0, 5.0, 5.0, 5.0, 5.0, 5.0, 5.0, 0.0, 4.0, 5.0, 0.0, 2.0, 5.0, 2.0, 0.0, 0.0, 4.0, 0.0, 5.0, 3.0, 5.0, 0.0, 4.0, 5.0, 0.0, 5.0, 5.0, 5.0, 0.0, 5.0, 5.0, 0.0, 0.0, 0.0, 4.0, 5.0, 5.0, 5.0, 0.0, 2.0, 9.0, 5.0, 6.0, 0.0, 5.0, 8.0, 2.0, 2.0, 6.0, 0.0, 5.0, 0.0, 6.0, 5.0, 5.0, 5.0, 0.0, 5.0, 0.0, 4.0, 5.0, 5.0, 5.0, 0.0, 5.0, 4.0, 0.0, 0.0, 0.0, 5.0, 5.0, 0.0, 0.0, 5.0, 0.0, 0.0, 5.0, 5.0, 0.0, 0.0, 5.0, 2.0, 0.0, 2.0, 0.0, 0.0, 5.0, 0.0, 5.0, 3.0, 5.0, 2.0, 0.0, 2.0, 0.0, 4.0, 5.0, 11.0, 5.0, 2.0, 5.0, 0.0, 5.0, 2.0, 0.0, 0.0, 4.0, 5.0, 0.0, 5.0, 2.0, 3.0, 0.0, 3.0, 0.0, 5.0, 0.0, 5.0, 5.0, 5.0, 6.0, 5.0, 5.0, 5.0, 2.0, 0.0, 0.0, 5.0, 5.0, 0.0, 6.0, 9.0, 5.0, 5.0, 5.0, 7.0, 2.0, 0.0, 5.0, 0.0, 6.0, 5.0, 0.0, 5.0, 5.0, 6.0, 0.0, 2.0, 5.0, 0.0, 2.0, 5.0, 5.0, 5.0, 2.0, 5.0, 0.0, 5.0, 5.0, 0.0, 5.0, 0.0, 5.0, 7.0, 0.0, 5.0, 5.0, 4.0, 0.0, 5.0, 0.0, 2.0, 0.0, 0.0, 2.0, 0.0, 0.0, 5.0, 8.0, 6.0, 6.0, 4.0, 5.0, 0.0, 2.0, 5.0, 6.0, 6.0, 5.0, 9.0, 4.0, 9.0, 0.0, 0.0, 0.0, 0.0, 5.0, 5.0, 3.0, 5.0, 0.0, 0.0, 3.0, 5.0, 0.0, 5.0, 0.0, 0.0, 0.0, 4.0, 0.0, 0.0, 2.0, 5.0, 0.0, 5.0, 5.0, 4.0, 5.0, 9.0, 5.0, 5.0, 5.0, 0.0, 5.0, 0.0, 5.0, 0.0, 5.0, 3.0, 5.0, 3.0, 5.0, 5.0, 5.0, 6.0, 5.0, 5.0, 4.0, 4.0, 0.0, 6.0, 0.0, 5.0, 5.0, 0.0, 0.0, 0.0, 0.0, 0.0, 5.0, 0.0, 5.0, 0.0, 0.0, 6.0, 5.0, 2.0, 2.0, 5.0, 6.0, 0.0, 0.0, 5.0, 5.0, 0.0, 0.0, 5.0, 5.0, 2.0, 4.0, 6.0, 5.0, 1.0, 5.0, 0.0, 6.0, 0.0, 0.0, 0.0, 0.0, 5.0, 6.0, 0.0, 5.0, 0.0, 5.0, 0.0, 5.0, 5.0, 0.0, 5.0, 9.0, 5.0, 6.0, 6.0, 0.0, 5.0, 3.0, 0.0, 5.0, 5.0, 0.0, 0.0, 5.0, 5.0, 5.0, 1.0, 5.0, 5.0, 5.0, 0.0, 5.0, 0.0, 5.0, 0.0, 5.0, 5.0, 5.0, 5.0, 5.0, 5.0, 0.0, 6.0, 0.0, 0.0, 5.0, 0.0, 5.0, 5.0, 5.0, 0.0, 5.0, 0.0, 5.0, 0.0, 0.0, 2.0, 7.0, 3.0, 5.0, 5.0, 5.0, 0.0, 5.0, 0.0, 6.0, 5.0, 5.0, 5.0, 6.0, 0.0, 3.0, 5.0, 5.0, 0.0, 0.0, 5.0, 0.0, 0.0, 5.0, 0.0, 0.0, 0.0, 5.0, 0.0, 0.0, 5.0, 9.0, 5.0, 4.0, 0.0, 3.0, 5.0, 0.0, 5.0, 5.0, 5.0, 0.0, 5.0, 5.0, 0.0, 5.0, 4.0, 5.0, 0.0, 5.0, 5.0, 5.0, 4.0, 0.0, 5.0, 0.0, 0.0, 4.0, 0.0, 5.0, 5.0, 0.0, 5.0, 0.0, 5.0, 5.0, 5.0, 0.0, 0.0, 5.0, 0.0, 9.0, 0.0, 0.0, 5.0, 0.0, 0.0, 7.0, 0.0, 4.0, 5.0, 3.0, 5.0, 5.0, 5.0, 0.0, 0.0, 5.0, 0.0, 0.0, 0.0, 4.0, 0.0, 0.0, 4.0, 5.0, 5.0, 5.0, 9.0, 0.0, 5.0, 5.0, 5.0, 0.0, 4.0, 0.0, 0.0, 3.0, 3.0, 5.0, 5.0, 5.0, 5.0, 4.0, 2.0, 6.0, 5.0, 5.0, 9.0, 6.0, 5.0, 0.0, 5.0, 0.0, 5.0, 5.0, 5.0, 5.0, 4.0, 0.0, 5.0, 6.0, 5.0, 5.0, 5.0, 0.0, 0.0, 0.0, 5.0, 5.0, 5.0, 5.0, 4.0, 5.0, 0.0, 5.0, 5.0, 2.0, 6.0, 3.0, 6.0, 6.0, 5.0, 5.0, 5.0, 0.0, 5.0, 5.0, 0.0, 0.0, 0.0, 5.0, 5.0, 4.0, 5.0, 0.0, 5.0, 0.0, 5.0, 0.0, 5.0, 5.0, 4.0, 0.0, 4.0, 0.0, 0.0, 0.0, 5.0, 0.0, 0.0, 0.0, 5.0, 5.0, 5.0, 4.0, 5.0, 5.0, 6.0, 5.0, 3.0, 5.0, 5.0, 6.0, 0.0, 5.0, 5.0, 4.0, 0.0, 5.0, 5.0, 5.0, 5.0, 5.0, 0.0, 1.0, 5.0, 0.0, 5.0, 5.0, 0.0, 5.0, 5.0, 6.0, 5.0, 5.0, 0.0, 0.0, 0.0, 10.0, 6.0, 5.0, 5.0, 5.0, 5.0, 5.0, 4.0, 0.0, 0.0, 5.0, 5.0, 0.0, 5.0, 5.0, 5.0, 5.0, 5.0, 5.0, 4.0, 5.0, 5.0, 5.0, 4.0, 5.0, 5.0, 6.0, 0.0, 5.0, 5.0, 5.0, 5.0, 5.0, 0.0, 5.0, 5.0, 0.0, 0.0, 5.0, 5.0, 6.0, 2.0, 4.0, 0.0, 5.0, 0.0, 5.0, 0.0, 4.0, 0.0, 5.0, 0.0, 5.0, 3.0, 5.0, 0.0, 4.0, 5.0, 5.0, 5.0, 5.0, 6.0, 0.0, 0.0, 4.0, 5.0, 0.0, 0.0, 5.0, 5.0, 5.0, 0.0, 5.0, 0.0, 4.0, 5.0, 6.0, 5.0, 5.0, 0.0, 5.0, 5.0, 0.0, 0.0, 5.0, 0.0, 0.0, 7.0, 0.0, 0.0, 0.0, 0.0, 3.0, 4.0, 5.0, 6.0, 9.0, 5.0, 5.0, 2.0, 0.0, 5.0, 5.0, 4.0, 2.0, 5.0, 0.0, 5.0, 6.0, 5.0, 0.0, 4.0, 0.0, 0.0, 0.0, 0.0, 0.0, 6.0, 5.0, 3.0, 4.0, 5.0, 6.0, 5.0, 0.0, 0.0, 5.0, 0.0, 1.0, 0.0, 7.0, 2.0, 5.0, 0.0, 0.0, 5.0, 0.0, 5.0, 4.0, 0.0, 0.0, 0.0, 5.0, 0.0, 5.0, 0.0, 5.0, 5.0, 2.0, 5.0, 5.0, 0.0, 0.0, 0.0, 5.0, 5.0, 4.0, 0.0, 0.0, 3.0, 0.0, 0.0, 5.0, 5.0, 6.0, 0.0, 1.0, 5.0, 5.0, 0.0, 0.0, 5.0, 4.0, 0.0, 5.0, 5.0, 5.0, 0.0, 0.0, 5.0, 0.0, 5.0, 5.0, 5.0, 3.0, 9.0, 5.0, 0.0, 4.0, 5.0, 4.0, 6.0, 0.0, 5.0, 2.0, 0.0, 5.0, 5.0, 5.0, 5.0, 5.0, 0.0, 0.0, 0.0, 3.0, 2.0, 4.0, 5.0, 5.0, 3.0, 0.0, 0.0, 0.0, 0.0, 5.0, 0.0, 0.0, 0.0, 3.0, 4.0, 0.0, 5.0, 5.0, 0.0, 0.0, 0.0, 5.0, 0.0, 0.0, 5.0, 0.0, 0.0, 4.0, 5.0, 5.0, 5.0, 0.0, 0.0, 5.0, 0.0, 5.0, 0.0, 5.0, 5.0, 0.0, 0.0, 3.0, 0.0, 5.0, 7.0, 5.0, 0.0, 5.0, 5.0, 0.0, 0.0, 0.0, 5.0, 0.0, 5.0, 0.0, 5.0, 9.0, 0.0, 0.0, 5.0, 0.0, 6.0, 5.0, 5.0, 0.0, 5.0, 5.0, 6.0, 6.0, 0.0, 5.0, 0.0, 3.0, 5.0, 5.0, 4.0, 5.0, 5.0, 5.0, 5.0, 0.0, 3.0, 0.0, 5.0, 5.0, 5.0, 5.0, 5.0, 5.0, 4.0, 0.0, 0.0, 0.0, 5.0, 0.0, 0.0, 0.0, 5.0, 5.0, 6.0, 5.0, 5.0, 0.0, 5.0, 0.0, 2.0, 5.0, 3.0, 5.0, 0.0, 5.0, 5.0, 5.0, 0.0, 5.0, 5.0, 5.0, 6.0, 4.0, 5.0, 5.0, 5.0, 5.0, 0.0, 5.0, 0.0, 2.0, 5.0, 5.0, 0.0, 6.0, 5.0, 5.0, 5.0, 6.0, 5.0, 0.0, 0.0, 7.0, 0.0, 5.0, 9.0, 0.0, 5.0, 0.0, 5.0, 5.0, 5.0, 0.0, 0.0, 7.0, 0.0, 9.0, 5.0, 5.0, 5.0, 5.0, 0.0, 0.0, 2.0, 5.0, 0.0, 5.0, 5.0, 5.0, 5.0, 0.0, 2.0, 5.0, 0.0, 0.0, 9.0, 5.0, 5.0, 5.0, 0.0, 2.0, 5.0, 5.0, 0.0, 5.0, 5.0, 3.0, 0.0, 0.0, 5.0, 5.0, 5.0, 0.0, 0.0, 0.0, 5.0, 0.0, 5.0, 5.0, 0.0, 5.0, 3.0, 0.0, 5.0, 2.0, 5.0, 4.0, 5.0, 5.0, 5.0, 4.0, 5.0, 5.0, 0.0, 5.0, 0.0, 5.0, 5.0, 0.0, 6.0, 5.0, 5.0, 5.0, 0.0, 5.0, 5.0, 0.0, 0.0, 0.0, 0.0, 5.0, 6.0, 5.0, 0.0, 4.0, 0.0, 0.0, 5.0, 0.0, 6.0, 5.0, 6.0, 6.0, 0.0, 6.0, 4.0, 0.0, 0.0, 5.0, 0.0, 0.0, 5.0, 5.0, 5.0, 5.0, 0.0, 0.0, 5.0, 0.0, 5.0, 3.0, 0.0, 0.0, 2.0, 0.0, 4.0, 0.0, 0.0, 0.0, 0.0, 7.0, 0.0, 5.0, 5.0, 0.0, 0.0, 6.0, 0.0, 0.0, 0.0, 0.0, 0.0, 7.0, 9.0, 5.0, 5.0, 5.0, 7.0, 0.0, 5.0, 5.0, 5.0, 0.0, 0.0, 5.0, 2.0, 3.0, 5.0, 0.0, 1.0, 5.0, 3.0, 6.0, 5.0, 5.0, 0.0, 0.0, 5.0, 5.0, 0.0, 0.0, 0.0, 0.0, 5.0, 0.0, 0.0, 5.0, 5.0, 0.0, 0.0, 5.0, 0.0, 5.0, 5.0, 5.0, 2.0, 5.0, 0.0, 6.0, 6.0, 0.0, 0.0, 5.0, 0.0, 5.0, 5.0, 0.0, 5.0, 0.0, 5.0, 2.0, 0.0, 0.0, 5.0, 5.0, 0.0, 0.0, 0.0, 5.0, 2.0, 0.0, 0.0, 3.0, 5.0, 3.0, 7.0, 5.0, 0.0, 6.0, 0.0, 4.0, 5.0, 5.0, 0.0, 0.0, 5.0, 0.0, 5.0, 0.0, 0.0, 0.0, 0.0, 0.0, 0.0, 5.0, 0.0, 5.0, 5.0, 0.0, 5.0, 6.0, 2.0, 5.0, 0.0, 5.0, 5.0, 0.0, 5.0, 9.0, 4.0, 5.0, 6.0, 0.0, 0.0, 5.0, 0.0, 0.0, 0.0, 5.0, 0.0, 0.0, 2.0, 4.0, 5.0, 5.0, 5.0, 5.0, 5.0, 5.0, 2.0, 5.0, 5.0, 5.0, 5.0, 0.0, 0.0, 0.0, 0.0, 0.0, 5.0, 5.0, 5.0, 5.0, 5.0, 5.0, 5.0, 9.0, 0.0, 2.0, 0.0, 0.0, 0.0, 5.0, 5.0, 0.0, 7.0, 2.0, 6.0, 0.0, 0.0, 3.0, 5.0, 0.0, 2.0, 0.0, 0.0, 0.0, 7.0, 5.0, 5.0, 0.0, 5.0, 0.0, 0.0, 0.0, 3.0, 0.0, 0.0, 3.0, 5.0, 0.0, 9.0, 0.0, 0.0], \"xaxis\": \"x\", \"yaxis\": \"y\"}],                        {\"barmode\": \"relative\", \"legend\": {\"tracegroupgap\": 0}, \"template\": {\"data\": {\"bar\": [{\"error_x\": {\"color\": \"#2a3f5f\"}, \"error_y\": {\"color\": \"#2a3f5f\"}, \"marker\": {\"line\": {\"color\": \"#E5ECF6\", \"width\": 0.5}}, \"type\": \"bar\"}], \"barpolar\": [{\"marker\": {\"line\": {\"color\": \"#E5ECF6\", \"width\": 0.5}}, \"type\": \"barpolar\"}], \"carpet\": [{\"aaxis\": {\"endlinecolor\": \"#2a3f5f\", \"gridcolor\": \"white\", \"linecolor\": \"white\", \"minorgridcolor\": \"white\", \"startlinecolor\": \"#2a3f5f\"}, \"baxis\": {\"endlinecolor\": \"#2a3f5f\", \"gridcolor\": \"white\", \"linecolor\": \"white\", \"minorgridcolor\": \"white\", \"startlinecolor\": \"#2a3f5f\"}, \"type\": \"carpet\"}], \"choropleth\": [{\"colorbar\": {\"outlinewidth\": 0, \"ticks\": \"\"}, \"type\": \"choropleth\"}], \"contour\": [{\"colorbar\": {\"outlinewidth\": 0, \"ticks\": \"\"}, \"colorscale\": [[0.0, \"#0d0887\"], [0.1111111111111111, \"#46039f\"], [0.2222222222222222, \"#7201a8\"], [0.3333333333333333, \"#9c179e\"], [0.4444444444444444, \"#bd3786\"], [0.5555555555555556, \"#d8576b\"], [0.6666666666666666, \"#ed7953\"], [0.7777777777777778, \"#fb9f3a\"], [0.8888888888888888, \"#fdca26\"], [1.0, \"#f0f921\"]], \"type\": \"contour\"}], \"contourcarpet\": [{\"colorbar\": {\"outlinewidth\": 0, \"ticks\": \"\"}, \"type\": \"contourcarpet\"}], \"heatmap\": [{\"colorbar\": {\"outlinewidth\": 0, \"ticks\": \"\"}, \"colorscale\": [[0.0, \"#0d0887\"], [0.1111111111111111, \"#46039f\"], [0.2222222222222222, \"#7201a8\"], [0.3333333333333333, \"#9c179e\"], [0.4444444444444444, \"#bd3786\"], [0.5555555555555556, \"#d8576b\"], [0.6666666666666666, \"#ed7953\"], [0.7777777777777778, \"#fb9f3a\"], [0.8888888888888888, \"#fdca26\"], [1.0, \"#f0f921\"]], \"type\": \"heatmap\"}], \"heatmapgl\": [{\"colorbar\": {\"outlinewidth\": 0, \"ticks\": \"\"}, \"colorscale\": [[0.0, \"#0d0887\"], [0.1111111111111111, \"#46039f\"], [0.2222222222222222, \"#7201a8\"], [0.3333333333333333, \"#9c179e\"], [0.4444444444444444, \"#bd3786\"], [0.5555555555555556, \"#d8576b\"], [0.6666666666666666, \"#ed7953\"], [0.7777777777777778, \"#fb9f3a\"], [0.8888888888888888, \"#fdca26\"], [1.0, \"#f0f921\"]], \"type\": \"heatmapgl\"}], \"histogram\": [{\"marker\": {\"colorbar\": {\"outlinewidth\": 0, \"ticks\": \"\"}}, \"type\": \"histogram\"}], \"histogram2d\": [{\"colorbar\": {\"outlinewidth\": 0, \"ticks\": \"\"}, \"colorscale\": [[0.0, \"#0d0887\"], [0.1111111111111111, \"#46039f\"], [0.2222222222222222, \"#7201a8\"], [0.3333333333333333, \"#9c179e\"], [0.4444444444444444, \"#bd3786\"], [0.5555555555555556, \"#d8576b\"], [0.6666666666666666, \"#ed7953\"], [0.7777777777777778, \"#fb9f3a\"], [0.8888888888888888, \"#fdca26\"], [1.0, \"#f0f921\"]], \"type\": \"histogram2d\"}], \"histogram2dcontour\": [{\"colorbar\": {\"outlinewidth\": 0, \"ticks\": \"\"}, \"colorscale\": [[0.0, \"#0d0887\"], [0.1111111111111111, \"#46039f\"], [0.2222222222222222, \"#7201a8\"], [0.3333333333333333, \"#9c179e\"], [0.4444444444444444, \"#bd3786\"], [0.5555555555555556, \"#d8576b\"], [0.6666666666666666, \"#ed7953\"], [0.7777777777777778, \"#fb9f3a\"], [0.8888888888888888, \"#fdca26\"], [1.0, \"#f0f921\"]], \"type\": \"histogram2dcontour\"}], \"mesh3d\": [{\"colorbar\": {\"outlinewidth\": 0, \"ticks\": \"\"}, \"type\": \"mesh3d\"}], \"parcoords\": [{\"line\": {\"colorbar\": {\"outlinewidth\": 0, \"ticks\": \"\"}}, \"type\": \"parcoords\"}], \"pie\": [{\"automargin\": true, \"type\": \"pie\"}], \"scatter\": [{\"marker\": {\"colorbar\": {\"outlinewidth\": 0, \"ticks\": \"\"}}, \"type\": \"scatter\"}], \"scatter3d\": [{\"line\": {\"colorbar\": {\"outlinewidth\": 0, \"ticks\": \"\"}}, \"marker\": {\"colorbar\": {\"outlinewidth\": 0, \"ticks\": \"\"}}, \"type\": \"scatter3d\"}], \"scattercarpet\": [{\"marker\": {\"colorbar\": {\"outlinewidth\": 0, \"ticks\": \"\"}}, \"type\": \"scattercarpet\"}], \"scattergeo\": [{\"marker\": {\"colorbar\": {\"outlinewidth\": 0, \"ticks\": \"\"}}, \"type\": \"scattergeo\"}], \"scattergl\": [{\"marker\": {\"colorbar\": {\"outlinewidth\": 0, \"ticks\": \"\"}}, \"type\": \"scattergl\"}], \"scattermapbox\": [{\"marker\": {\"colorbar\": {\"outlinewidth\": 0, \"ticks\": \"\"}}, \"type\": \"scattermapbox\"}], \"scatterpolar\": [{\"marker\": {\"colorbar\": {\"outlinewidth\": 0, \"ticks\": \"\"}}, \"type\": \"scatterpolar\"}], \"scatterpolargl\": [{\"marker\": {\"colorbar\": {\"outlinewidth\": 0, \"ticks\": \"\"}}, \"type\": \"scatterpolargl\"}], \"scatterternary\": [{\"marker\": {\"colorbar\": {\"outlinewidth\": 0, \"ticks\": \"\"}}, \"type\": \"scatterternary\"}], \"surface\": [{\"colorbar\": {\"outlinewidth\": 0, \"ticks\": \"\"}, \"colorscale\": [[0.0, \"#0d0887\"], [0.1111111111111111, \"#46039f\"], [0.2222222222222222, \"#7201a8\"], [0.3333333333333333, \"#9c179e\"], [0.4444444444444444, \"#bd3786\"], [0.5555555555555556, \"#d8576b\"], [0.6666666666666666, \"#ed7953\"], [0.7777777777777778, \"#fb9f3a\"], [0.8888888888888888, \"#fdca26\"], [1.0, \"#f0f921\"]], \"type\": \"surface\"}], \"table\": [{\"cells\": {\"fill\": {\"color\": \"#EBF0F8\"}, \"line\": {\"color\": \"white\"}}, \"header\": {\"fill\": {\"color\": \"#C8D4E3\"}, \"line\": {\"color\": \"white\"}}, \"type\": \"table\"}]}, \"layout\": {\"annotationdefaults\": {\"arrowcolor\": \"#2a3f5f\", \"arrowhead\": 0, \"arrowwidth\": 1}, \"autotypenumbers\": \"strict\", \"coloraxis\": {\"colorbar\": {\"outlinewidth\": 0, \"ticks\": \"\"}}, \"colorscale\": {\"diverging\": [[0, \"#8e0152\"], [0.1, \"#c51b7d\"], [0.2, \"#de77ae\"], [0.3, \"#f1b6da\"], [0.4, \"#fde0ef\"], [0.5, \"#f7f7f7\"], [0.6, \"#e6f5d0\"], [0.7, \"#b8e186\"], [0.8, \"#7fbc41\"], [0.9, \"#4d9221\"], [1, \"#276419\"]], \"sequential\": [[0.0, \"#0d0887\"], [0.1111111111111111, \"#46039f\"], [0.2222222222222222, \"#7201a8\"], [0.3333333333333333, \"#9c179e\"], [0.4444444444444444, \"#bd3786\"], [0.5555555555555556, \"#d8576b\"], [0.6666666666666666, \"#ed7953\"], [0.7777777777777778, \"#fb9f3a\"], [0.8888888888888888, \"#fdca26\"], [1.0, \"#f0f921\"]], \"sequentialminus\": [[0.0, \"#0d0887\"], [0.1111111111111111, \"#46039f\"], [0.2222222222222222, \"#7201a8\"], [0.3333333333333333, \"#9c179e\"], [0.4444444444444444, \"#bd3786\"], [0.5555555555555556, \"#d8576b\"], [0.6666666666666666, \"#ed7953\"], [0.7777777777777778, \"#fb9f3a\"], [0.8888888888888888, \"#fdca26\"], [1.0, \"#f0f921\"]]}, \"colorway\": [\"#636efa\", \"#EF553B\", \"#00cc96\", \"#ab63fa\", \"#FFA15A\", \"#19d3f3\", \"#FF6692\", \"#B6E880\", \"#FF97FF\", \"#FECB52\"], \"font\": {\"color\": \"#2a3f5f\"}, \"geo\": {\"bgcolor\": \"white\", \"lakecolor\": \"white\", \"landcolor\": \"#E5ECF6\", \"showlakes\": true, \"showland\": true, \"subunitcolor\": \"white\"}, \"hoverlabel\": {\"align\": \"left\"}, \"hovermode\": \"closest\", \"mapbox\": {\"style\": \"light\"}, \"paper_bgcolor\": \"white\", \"plot_bgcolor\": \"#E5ECF6\", \"polar\": {\"angularaxis\": {\"gridcolor\": \"white\", \"linecolor\": \"white\", \"ticks\": \"\"}, \"bgcolor\": \"#E5ECF6\", \"radialaxis\": {\"gridcolor\": \"white\", \"linecolor\": \"white\", \"ticks\": \"\"}}, \"scene\": {\"xaxis\": {\"backgroundcolor\": \"#E5ECF6\", \"gridcolor\": \"white\", \"gridwidth\": 2, \"linecolor\": \"white\", \"showbackground\": true, \"ticks\": \"\", \"zerolinecolor\": \"white\"}, \"yaxis\": {\"backgroundcolor\": \"#E5ECF6\", \"gridcolor\": \"white\", \"gridwidth\": 2, \"linecolor\": \"white\", \"showbackground\": true, \"ticks\": \"\", \"zerolinecolor\": \"white\"}, \"zaxis\": {\"backgroundcolor\": \"#E5ECF6\", \"gridcolor\": \"white\", \"gridwidth\": 2, \"linecolor\": \"white\", \"showbackground\": true, \"ticks\": \"\", \"zerolinecolor\": \"white\"}}, \"shapedefaults\": {\"line\": {\"color\": \"#2a3f5f\"}}, \"ternary\": {\"aaxis\": {\"gridcolor\": \"white\", \"linecolor\": \"white\", \"ticks\": \"\"}, \"baxis\": {\"gridcolor\": \"white\", \"linecolor\": \"white\", \"ticks\": \"\"}, \"bgcolor\": \"#E5ECF6\", \"caxis\": {\"gridcolor\": \"white\", \"linecolor\": \"white\", \"ticks\": \"\"}}, \"title\": {\"x\": 0.05}, \"xaxis\": {\"automargin\": true, \"gridcolor\": \"white\", \"linecolor\": \"white\", \"ticks\": \"\", \"title\": {\"standoff\": 15}, \"zerolinecolor\": \"white\", \"zerolinewidth\": 2}, \"yaxis\": {\"automargin\": true, \"gridcolor\": \"white\", \"linecolor\": \"white\", \"ticks\": \"\", \"title\": {\"standoff\": 15}, \"zerolinecolor\": \"white\", \"zerolinewidth\": 2}}}, \"title\": {\"text\": \"\\u0413\\u0438\\u0441\\u0442\\u043e\\u0433\\u0440\\u0430\\u043c\\u043c\\u0430 \\u0440\\u0430\\u0441\\u043f\\u0440\\u0435\\u0434\\u0435\\u043b\\u0435\\u043d\\u0438\\u044f \\u0442\\u0438\\u043f\\u043e\\u0432 \\u043a\\u0443\\u0437\\u043e\\u0432\\u0430 \\u0430\\u0432\\u0442\\u043e\"}, \"xaxis\": {\"anchor\": \"y\", \"domain\": [0.0, 1.0], \"title\": {\"text\": \"\\u041a\\u0443\\u0437\\u043e\\u0432 1\"}}, \"yaxis\": {\"anchor\": \"x\", \"domain\": [0.0, 1.0], \"title\": {\"text\": \"count\"}}},                        {\"responsive\": true}                    ).then(function(){\n",
       "                            \n",
       "var gd = document.getElementById('ad6f5781-c61b-4c05-9b22-f84a6764539e');\n",
       "var x = new MutationObserver(function (mutations, observer) {{\n",
       "        var display = window.getComputedStyle(gd).display;\n",
       "        if (!display || display === 'none') {{\n",
       "            console.log([gd, 'removed!']);\n",
       "            Plotly.purge(gd);\n",
       "            observer.disconnect();\n",
       "        }}\n",
       "}});\n",
       "\n",
       "// Listen for the removal of the full notebook cells\n",
       "var notebookContainer = gd.closest('#notebook-container');\n",
       "if (notebookContainer) {{\n",
       "    x.observe(notebookContainer, {childList: true});\n",
       "}}\n",
       "\n",
       "// Listen for the clearing of the current output cell\n",
       "var outputEl = gd.closest('.output');\n",
       "if (outputEl) {{\n",
       "    x.observe(outputEl, {childList: true});\n",
       "}}\n",
       "\n",
       "                        })                };                });            </script>        </div>"
      ]
     },
     "metadata": {},
     "output_type": "display_data"
    }
   ],
   "source": [
    "import plotly.express as px\n",
    "fig = px.histogram(df, x=\"Кузов 1\", title = 'Гистограмма распределения типов кузова авто')\n",
    "fig.show()\n",
    "#Кузов 1 - цифровое обозначение типов кузова, представленных в таблице mf"
   ]
  },
  {
   "cell_type": "markdown",
   "metadata": {},
   "source": [
    "Аналитика:\n",
    "На гистограмме ниже видно, что в продаже чаще всего встречаются автомобили под номером 0 и 5, то есть седан и внедорожник 5 дв. соответственно. Причем отрыв от других типов кузовов довольно большой\n",
    "реже всего люди продают лифтбеки, хэтчеки 5 дв., кабриолеты и внедорожники 3 дв."
   ]
  },
  {
   "cell_type": "markdown",
   "metadata": {},
   "source": [
    "График 3. Распределение по совокупным преимуществам."
   ]
  },
  {
   "cell_type": "markdown",
   "metadata": {},
   "source": [
    "Для расчета данного нового признака возьмем значения категорий 'Безопасность', 'Защита от угона', 'Комфорт',\n",
    "'Мультимедиа', 'Обзор', 'Салон', 'Элементы экстерьера' и сложим их для каждого автомобиля. Тем самым мы получим общее количество особенностей, которыми обладает автомобиль по сумме всех категорий.\n",
    "На оснвое полученных значений построим гистограмму."
   ]
  },
  {
   "cell_type": "code",
   "execution_count": 28,
   "metadata": {},
   "outputs": [],
   "source": [
    "common_value = df['Комфорт'] + df['Обзор'] +  df['Безопасность']+ df['Защита от угона']+ df['Мультимедиа']+ df['Салон'] + df['Элементы экстерьера']"
   ]
  },
  {
   "cell_type": "code",
   "execution_count": 29,
   "metadata": {},
   "outputs": [],
   "source": [
    "df.insert(3,'Совокупные преимущества', common_value, True)"
   ]
  },
  {
   "cell_type": "code",
   "execution_count": 30,
   "metadata": {},
   "outputs": [
    {
     "data": {
      "image/png": "[encoded data removed]",
      "text/plain": [
       "<Figure size 432x288 with 1 Axes>"
      ]
     },
     "metadata": {
      "needs_background": "light"
     },
     "output_type": "display_data"
    }
   ],
   "source": [
    "data = df['Совокупные преимущества']\n",
    "plt.hist(data, color = 'LightBlue',  bins =20);\n",
    "plt.title('Гистограмма распределения автомобилей по совокупным преимуществам',fontsize = 15, loc = 'center'); #в данном случа loc ничего не поменял\n",
    "plt.xlabel('Особые характеристики', fontsize = 13);\n",
    "plt.ylabel('Количество автомобилей',fontsize = 13);\n",
    "plt.xticks(np.arange(0, df['Совокупные преимущества'].max(), 5));\n",
    "plt.xticks(rotation = 50);\n",
    "plt.yticks(np.arange(0, 250, 30));"
   ]
  },
  {
   "cell_type": "markdown",
   "metadata": {},
   "source": [
    "Достаточно много автомобилей (около 220) практичести не имеют преимуществ, которые описываются в объявлении по продаже авто словесно. Возможно, такой результат связан с тем, что в объявлении отсутствуют какие - либо качественные характерисити авто. На шаге 2 в подобных ситуациях пропуски заменялись нулевымри значениями.\n",
    "Тем не менее основная масса выборки имеют достаточное количесво преимуществ, которые раскрыти в описании. Локальным максимум является значение в 35 совокупных фишек авто, которые оказались в наличии у 170 машин.\n",
    "Примечательно, что в совокупности приблизительно у 30 автомобилей количество характеристик больше 90."
   ]
  },
  {
   "cell_type": "markdown",
   "metadata": {},
   "source": [
    "График 4. Гистограмма распределения по объему двигателя."
   ]
  },
  {
   "cell_type": "code",
   "execution_count": 31,
   "metadata": {},
   "outputs": [
    {
     "data": {
      "image/png": "[encoded data removed]",
      "text/plain": [
       "<Figure size 432x288 with 1 Axes>"
      ]
     },
     "metadata": {
      "needs_background": "light"
     },
     "output_type": "display_data"
    }
   ],
   "source": [
    "data = df['Объем двигателя']\n",
    "plt.hist(data, color = 'LightBlue',  bins =20);\n",
    "plt.title('Гистограмма распределения автомобилей по объему двигателя',fontsize = 15, loc = 'center'); #в данном случа loc ничего не поменял\n",
    "plt.xlabel('Объем двигателя', fontsize = 13);\n",
    "plt.ylabel('Количество автомобилей',fontsize = 13);\n",
    "plt.xticks(np.arange(0, df['Объем двигателя'].max(), 0.5));\n",
    "plt.xticks(rotation = 50);\n",
    "plt.yticks(np.arange(0, 450, 40));"
   ]
  },
  {
   "cell_type": "markdown",
   "metadata": {},
   "source": [
    "Более 440 автомобилей имеют трехлитровые двигатели. На втором месте по популярности - двухлитровые. Приблизительно у 30 машин стоят двигатели объемом 6 литров"
   ]
  },
  {
   "cell_type": "code",
   "execution_count": 32,
   "metadata": {},
   "outputs": [
    {
     "data": {
      "text/plain": [
       "[22.228604250430788,\n",
       " 18.724870763928777,\n",
       " 10.22400919012062,\n",
       " 7.696726019529006,\n",
       " 6.777713957495692,\n",
       " 6.547960941987363,\n",
       " 5.11200459506031,\n",
       " 4.192992533026995,\n",
       " 3.848363009764503,\n",
       " 3.676048248133257,\n",
       " 2.010338885697875,\n",
       " 1.2062033314187248,\n",
       " 1.1487650775416427,\n",
       " 1.0338885697874785,\n",
       " 0.9190120620333142,\n",
       " 0.8615738081562321,\n",
       " 0.80413555427915,\n",
       " 0.6892590465249857,\n",
       " 0.6318207926479035,\n",
       " 0.4595060310166571,\n",
       " 0.2871912693854107,\n",
       " 0.2871912693854107,\n",
       " 0.22975301550832855,\n",
       " 0.11487650775416428,\n",
       " 0.11487650775416428,\n",
       " 0.05743825387708214,\n",
       " 0.05743825387708214,\n",
       " 0.05743825387708214]"
      ]
     },
     "execution_count": 32,
     "metadata": {},
     "output_type": "execute_result"
    }
   ],
   "source": [
    "sorted(df['Объем двигателя'].value_counts(normalize = True) * 100, reverse = True)"
   ]
  },
  {
   "cell_type": "markdown",
   "metadata": {},
   "source": [
    "Двигатели объемом 2 и 3 литра стоят на 40% автомобилей."
   ]
  },
  {
   "cell_type": "markdown",
   "metadata": {},
   "source": [
    "График 5. Распределение по доле налога в стоимости."
   ]
  },
  {
   "cell_type": "markdown",
   "metadata": {},
   "source": [
    "Для построения графика также придется прибегнуть к дополнительным расчетам.Фактически мы создаем новый признак. Для его расчета  поделим налог на ТС на его цену продаджи. Тем самым мы узнаем, какой процент от стоимости машины будущий владелец будет ежегодно выплачивать государству."
   ]
  },
  {
   "cell_type": "code",
   "execution_count": 33,
   "metadata": {},
   "outputs": [],
   "source": [
    "tax_in_price = df['Налог']/ df['Цена'] * 100"
   ]
  },
  {
   "cell_type": "code",
   "execution_count": 34,
   "metadata": {},
   "outputs": [
    {
     "data": {
      "image/png": "[encoded data removed]",
      "text/plain": [
       "<Figure size 432x288 with 1 Axes>"
      ]
     },
     "metadata": {
      "needs_background": "light"
     },
     "output_type": "display_data"
    }
   ],
   "source": [
    "data = tax_in_price\n",
    "plt.hist(data, color = 'LightBlue',  bins =20);\n",
    "plt.title('Распределение автомобилей по доле налога в цене',fontsize = 15, loc = 'center'); #в данном случа loc ничего не поменял\n",
    "plt.xlabel('Доля налога в цене продажи', fontsize = 13);\n",
    "plt.ylabel('Количество автомобилей',fontsize = 13);\n",
    "plt.xticks(np.arange(0, tax_in_price.max(), 0.9));\n",
    "plt.xticks(rotation = 60);"
   ]
  },
  {
   "cell_type": "code",
   "execution_count": 35,
   "metadata": {},
   "outputs": [
    {
     "data": {
      "text/plain": [
       "[5.637931034482759,\n",
       " 5.7272727272727275,\n",
       " 5.849246231155779,\n",
       " 5.884615384615385,\n",
       " 5.930232558139535,\n",
       " 6.044444444444444,\n",
       " 6.044444444444444,\n",
       " 6.126315789473684,\n",
       " 6.145318713097963,\n",
       " 6.276923076923077,\n",
       " 6.30407911001236,\n",
       " 6.382978723404255,\n",
       " 6.4,\n",
       " 6.605714285714286,\n",
       " 6.628701594533029,\n",
       " 6.689655172413793,\n",
       " 6.689655172413793,\n",
       " 6.7105263157894735,\n",
       " 6.800000000000001,\n",
       " 6.845637583892618,\n",
       " 6.847058823529411,\n",
       " 7.2749999999999995,\n",
       " 7.285714285714286,\n",
       " 7.285714285714286,\n",
       " 7.461538461538461,\n",
       " 7.470000000000001,\n",
       " 7.559423301727497,\n",
       " 7.6499999999999995,\n",
       " 8.143322475570033,\n",
       " 8.16,\n",
       " 8.434782608695652,\n",
       " 8.5,\n",
       " 8.5,\n",
       " 8.6625,\n",
       " 8.742857142857142,\n",
       " 9.5625,\n",
       " 9.748743718592964,\n",
       " 9.781512605042018,\n",
       " 15.440000000000001,\n",
       " 16.74,\n",
       " 22.666666666666664]"
      ]
     },
     "execution_count": 35,
     "metadata": {},
     "output_type": "execute_result"
    }
   ],
   "source": [
    "sorted(tax_in_price)[1700:1741]"
   ]
  },
  {
   "cell_type": "code",
   "execution_count": 36,
   "metadata": {},
   "outputs": [
    {
     "data": {
      "text/plain": [
       "Не требует ремонта    1741\n",
       "Name: Состояние, dtype: int64"
      ]
     },
     "execution_count": 36,
     "metadata": {},
     "output_type": "execute_result"
    }
   ],
   "source": [
    "df['Состояние'].value_counts()"
   ]
  },
  {
   "cell_type": "markdown",
   "metadata": {},
   "source": [
    "В подавляющем большинстве случаев доля транспортного налога в цене продажи минимальна и составляет не более 5%. Однако в единичных случаях доля колеблется от 8 до 9%, у трех авто она составляет 15, 16 и 22%. Данные аномальные отклонения для этих авто могут быть связаны с демпингованием цены, или с тем, что машина продается в неисправном состоянии(хотя согласно категории \"Состояние\" ни одна из машин не требует ремонта). Также подобные отклонения могут быть связаны с тем, что продавец намеренно занижает цену с целью привлечения внимания покупателей и их обращения к продавцу за уточнениями.\n",
    "\n"
   ]
  },
  {
   "cell_type": "markdown",
   "metadata": {},
   "source": [
    "График 6. Матрица корреляции."
   ]
  },
  {
   "cell_type": "code",
   "execution_count": 37,
   "metadata": {},
   "outputs": [
    {
     "data": {
      "image/png": "[encoded data removed]",
      "text/plain": [
       "<Figure size 432x288 with 2 Axes>"
      ]
     },
     "metadata": {
      "needs_background": "light"
     },
     "output_type": "display_data"
    }
   ],
   "source": [
    "p1 = np.zeros(shape=(1741,1))\n",
    "p2 = np.zeros(shape=(1741,1))\n",
    "p3 = np.zeros(shape=(1741,1))\n",
    "n0 = np.zeros(shape=(1741,1))\n",
    "n1 = np.zeros(shape=(1741,1))\n",
    "n2 = np.zeros(shape=(1741,1))\n",
    "n3 = np.zeros(shape=(1741,1))\n",
    "n4 = np.zeros(shape=(1741,1))\n",
    "k = 0\n",
    "n = 0\n",
    "for i in df.values:\n",
    "    if i[27] == 'Бюджетный сегмент':\n",
    "        p1[k] = 1\n",
    "    elif i[27] == 'Средняя цена':\n",
    "        p2[k] = 1\n",
    "    else:\n",
    "        p3[k] = 1\n",
    "    if i[4] == 0:\n",
    "        n0[k] = 1\n",
    "    elif i[4] == 1:\n",
    "        n1[k] = 1\n",
    "    elif i[4] == 2:\n",
    "        n2[k] = 1\n",
    "    elif i[4] == 3:\n",
    "        n3[k] = 1\n",
    "    else:\n",
    "        n4[k] = 1\n",
    "    k += 1\n",
    "    if k == 1740:\n",
    "        break\n",
    "df['Низкая цена'] = p1\n",
    "df['Средняя цена'] = p2\n",
    "df['Повышенная цена'] = p3\n",
    "df['Новизна 0'] = n0\n",
    "df['Новизна 1'] = n1\n",
    "df['Новизна 2'] = n2\n",
    "df['Новизна 3'] = n3\n",
    "df['Новизна 4'] = n4\n",
    "\n",
    "import seaborn as sns\n",
    "sns.heatmap(df[[x for x in df.columns if 'цена' in x or 'Новизна 0' in x or 'Новизна 1' in x or 'Новизна 2' in x or 'Новизна 3' in x or 'Новизна 4' in x]].corr(), annot = True);\n",
    "plt.title('Матрица корреляции');"
   ]
  },
  {
   "cell_type": "markdown",
   "metadata": {},
   "source": [
    "С помощью данного графика проанализируем зависимость цены от года выпуска, который оценивается критерием новизны, рассчитанным ранее."
   ]
  },
  {
   "cell_type": "markdown",
   "metadata": {},
   "source": [
    "Аналитика:\n",
    "1. Повышенная цена в основном появляется на самых новых моделях автомобилей (степень новизны 4); корреляция составляет 0,58, что соответствует средней корреляции по общему правилу.\n",
    "2. Средняя цена чаще всего выставляется на модели со степенью новизны 3, однако даже они больше относятся в бюджетному сегменту (корреляции равны 0,15 и 0,29 соответственно).\n",
    "3. К бюджетному сегменту относятся автомобили со степенью новизны от 0 до 3 включительно, а среди них преобладают."
   ]
  },
  {
   "cell_type": "markdown",
   "metadata": {},
   "source": [
    "График 7(совокупность 3 графиков). Исследование зависимости цены от пробега с разбиением выборки на ценовые диапазоны."
   ]
  },
  {
   "cell_type": "code",
   "execution_count": 38,
   "metadata": {},
   "outputs": [],
   "source": [
    "d1 = dict()\n",
    "d2 = dict()\n",
    "d3 = dict()\n",
    "d1['Авто'] = []\n",
    "d1['Пробег'] = []\n",
    "d1['Цена'] = []\n",
    "d2['Авто'] = []\n",
    "d2['Пробег'] = []\n",
    "d2['Цена'] = []\n",
    "d3['Авто'] = []\n",
    "d3['Пробег'] = []\n",
    "d3['Цена'] = []\n",
    "for row in df.itertuples(index=False, name='Cars'):\n",
    "    lst = list(row)\n",
    "    if 'Бюджетный сегмент' in lst:\n",
    "        d1['Авто'].append(lst[0])\n",
    "        d1['Пробег'].append(lst[7])\n",
    "        d1['Цена'].append(lst[1])\n",
    "    elif 'Средняя цена' in lst:\n",
    "        d2['Авто'].append(lst[0])\n",
    "        d2['Пробег'].append(lst[7])\n",
    "        d2['Цена'].append(lst[1])\n",
    "    else:\n",
    "        if lst[1] < 5000000:\n",
    "            d3['Авто'].append(lst[0])\n",
    "            d3['Пробег'].append(lst[7])\n",
    "            d3['Цена'].append(lst[1])\n",
    "df1 = pd.DataFrame(d1)\n",
    "df2 = pd.DataFrame(d2)\n",
    "df3 = pd.DataFrame(d3)"
   ]
  },
  {
   "cell_type": "code",
   "execution_count": 39,
   "metadata": {
    "scrolled": false
   },
   "outputs": [
    {
     "data": {
      "image/png": "[encoded data removed]",
      "text/plain": [
       "<Figure size 432x288 with 1 Axes>"
      ]
     },
     "metadata": {
      "needs_background": "light"
     },
     "output_type": "display_data"
    }
   ],
   "source": [
    "ax = sns.scatterplot(data=df1, x='Цена', y='Пробег');\n",
    "ax.set_title('Зависимость цены от пробега в дешевом сегменте');"
   ]
  },
  {
   "cell_type": "markdown",
   "metadata": {},
   "source": [
    "Аналитика: первый график представляет из себя прямую зависимость \"Цена-пробег\" с некоторыми отклонениями. То есть чем больше пробег, тем меньше цена. Получается такое диагонально расположенное\n",
    "корреляционное полес отрицательным углом наклона."
   ]
  },
  {
   "cell_type": "code",
   "execution_count": 40,
   "metadata": {},
   "outputs": [
    {
     "data": {
      "image/png": "[encoded data removed]",
      "text/plain": [
       "<Figure size 432x288 with 1 Axes>"
      ]
     },
     "metadata": {
      "needs_background": "light"
     },
     "output_type": "display_data"
    }
   ],
   "source": [
    "ax = sns.scatterplot(data=df2, x='Цена', y='Пробег');\n",
    "ax.set_title('Зависимость цены от пробега в среднем сегменте');"
   ]
  },
  {
   "cell_type": "markdown",
   "metadata": {},
   "source": [
    "Аналитика:второй график отражает средний сегмент, и видно, что значения разбросаны по всем осям и не наблюдается какой-либо тенденции. \n",
    "Однако нужно заметить, что пробег в среднем сегменте в основном ниже 175 тыс. км., в то время как в дешевом сегменте этот показатель достигает 500 тыс. км. \n",
    "К тому же, стоит отметить, что средний сегмент это граница между дешевым сегментом и дорогим, следовательно, по оси икс могут быть представлены, например, \n",
    "машины не повышенного класса с маленькими пробегоми машины класса люкс, но с большим пробегом."
   ]
  },
  {
   "cell_type": "code",
   "execution_count": 41,
   "metadata": {},
   "outputs": [
    {
     "data": {
      "image/png": "[encoded data removed]",
      "text/plain": [
       "<Figure size 432x288 with 1 Axes>"
      ]
     },
     "metadata": {
      "needs_background": "light"
     },
     "output_type": "display_data"
    }
   ],
   "source": [
    "ax = sns.scatterplot(data=df3, x='Цена', y='Пробег');\n",
    "ax.set_title('Зависимость цены от пробега в дорогом сегменте');"
   ]
  },
  {
   "cell_type": "markdown",
   "metadata": {},
   "source": [
    "Аналитика:третий график - график зависимости цены от пробега для дорогостоящих машин. Корреляционное поле смещено в начало осей абсцисс и ординат сильнее, чем для среднего сегмента. \n",
    "В принципе здесь так же, как и в среднем сегменте наблюдается сильный разброс значений пробега для одной и той же цены.\n",
    "Таким образом можно сделать вывод, что предположение: \"Чем больше пробег, тем меньше цена\" - больше актуально для недорогих машин."
   ]
  },
  {
   "cell_type": "markdown",
   "metadata": {},
   "source": [
    "# Шаг 5."
   ]
  },
  {
   "cell_type": "code",
   "execution_count": 42,
   "metadata": {},
   "outputs": [
    {
     "name": "stdout",
     "output_type": "stream",
     "text": [
      "3388472.8908808976\n"
     ]
    }
   ],
   "source": [
    "# стандартное отклонение цены (квадратный корень из дисперсии); грубо говоря - это разброс цены\n",
    "\n",
    "import statistics\n",
    "\n",
    "print(statistics.pstdev(df['Цена'], mu=None))"
   ]
  },
  {
   "cell_type": "code",
   "execution_count": 43,
   "metadata": {},
   "outputs": [
    {
     "name": "stdout",
     "output_type": "stream",
     "text": [
      "Название авто:\n",
      "Mercedes-Benz E-Класс V (W213, S213, C238)\n",
      "Кузов:\n",
      "внедорожник 5 дв.\n",
      "Цена:\n",
      "1250000\n",
      "Пробег:\n",
      "70000 200000 300000\n",
      "Литровая мощность двигателя:\n",
      "60.2191104984401\n"
     ]
    }
   ],
   "source": [
    "# усреднённый портрет автомобиля на рынке\n",
    "\n",
    "print('Название авто:')\n",
    "print(*df['Название авто'].mode())\n",
    "print('Кузов:')\n",
    "print(*df['Кузов'].mode())\n",
    "print('Цена:') \n",
    "print(*df['Цена'].mode())\n",
    "print('Пробег:')\n",
    "print(*df['Пробег'].mode())\n",
    "print('Литровая мощность двигателя:')\n",
    "print(*df['Литровая мощность двигателя'].mode())"
   ]
  },
  {
   "cell_type": "code",
   "execution_count": 44,
   "metadata": {},
   "outputs": [
    {
     "data": {
      "text/html": [
       "<div>\n",
       "<style scoped>\n",
       "    .dataframe tbody tr th:only-of-type {\n",
       "        vertical-align: middle;\n",
       "    }\n",
       "\n",
       "    .dataframe tbody tr th {\n",
       "        vertical-align: top;\n",
       "    }\n",
       "\n",
       "    .dataframe thead th {\n",
       "        text-align: right;\n",
       "    }\n",
       "</style>\n",
       "<table border=\"1\" class=\"dataframe\">\n",
       "  <thead>\n",
       "    <tr style=\"text-align: right;\">\n",
       "      <th></th>\n",
       "      <th>Цена</th>\n",
       "      <th>Год выпуска</th>\n",
       "      <th>Совокупные преимущества</th>\n",
       "      <th>Новизна</th>\n",
       "      <th>Пробег</th>\n",
       "      <th>Объем двигателя</th>\n",
       "      <th>Мощность двигателя</th>\n",
       "      <th>Налог</th>\n",
       "      <th>Безопасность</th>\n",
       "      <th>Защита от угона</th>\n",
       "      <th>...</th>\n",
       "      <th>Литровая мощность двигателя</th>\n",
       "      <th>Кузов 1</th>\n",
       "      <th>Низкая цена</th>\n",
       "      <th>Средняя цена</th>\n",
       "      <th>Повышенная цена</th>\n",
       "      <th>Новизна 0</th>\n",
       "      <th>Новизна 1</th>\n",
       "      <th>Новизна 2</th>\n",
       "      <th>Новизна 3</th>\n",
       "      <th>Новизна 4</th>\n",
       "    </tr>\n",
       "  </thead>\n",
       "  <tbody>\n",
       "    <tr>\n",
       "      <th>count</th>\n",
       "      <td>1.741000e+03</td>\n",
       "      <td>1741.000000</td>\n",
       "      <td>1741.000000</td>\n",
       "      <td>1741.000000</td>\n",
       "      <td>1741.000000</td>\n",
       "      <td>1741.000000</td>\n",
       "      <td>1741.000000</td>\n",
       "      <td>1741.000000</td>\n",
       "      <td>1741.000000</td>\n",
       "      <td>1741.000000</td>\n",
       "      <td>...</td>\n",
       "      <td>1741.000000</td>\n",
       "      <td>1741.000000</td>\n",
       "      <td>1741.000000</td>\n",
       "      <td>1741.000000</td>\n",
       "      <td>1741.000000</td>\n",
       "      <td>1741.000000</td>\n",
       "      <td>1741.000000</td>\n",
       "      <td>1741.000000</td>\n",
       "      <td>1741.000000</td>\n",
       "      <td>1741.000000</td>\n",
       "    </tr>\n",
       "    <tr>\n",
       "      <th>mean</th>\n",
       "      <td>3.380268e+06</td>\n",
       "      <td>2014.049971</td>\n",
       "      <td>38.206203</td>\n",
       "      <td>3.349225</td>\n",
       "      <td>99184.383688</td>\n",
       "      <td>2.899828</td>\n",
       "      <td>273.414130</td>\n",
       "      <td>33563.287191</td>\n",
       "      <td>7.785181</td>\n",
       "      <td>2.124641</td>\n",
       "      <td>...</td>\n",
       "      <td>68.717074</td>\n",
       "      <td>3.090752</td>\n",
       "      <td>0.278576</td>\n",
       "      <td>0.201034</td>\n",
       "      <td>0.519816</td>\n",
       "      <td>0.028145</td>\n",
       "      <td>0.029294</td>\n",
       "      <td>0.083285</td>\n",
       "      <td>0.283171</td>\n",
       "      <td>0.575531</td>\n",
       "    </tr>\n",
       "    <tr>\n",
       "      <th>std</th>\n",
       "      <td>3.389446e+06</td>\n",
       "      <td>5.619683</td>\n",
       "      <td>23.067953</td>\n",
       "      <td>0.952815</td>\n",
       "      <td>78317.645505</td>\n",
       "      <td>1.216720</td>\n",
       "      <td>127.328646</td>\n",
       "      <td>39276.903078</td>\n",
       "      <td>5.250050</td>\n",
       "      <td>1.375055</td>\n",
       "      <td>...</td>\n",
       "      <td>14.282350</td>\n",
       "      <td>2.547442</td>\n",
       "      <td>0.448427</td>\n",
       "      <td>0.400888</td>\n",
       "      <td>0.499751</td>\n",
       "      <td>0.165434</td>\n",
       "      <td>0.168676</td>\n",
       "      <td>0.276393</td>\n",
       "      <td>0.450668</td>\n",
       "      <td>0.494404</td>\n",
       "    </tr>\n",
       "    <tr>\n",
       "      <th>min</th>\n",
       "      <td>5.000000e+04</td>\n",
       "      <td>1959.000000</td>\n",
       "      <td>0.000000</td>\n",
       "      <td>0.000000</td>\n",
       "      <td>1.000000</td>\n",
       "      <td>1.300000</td>\n",
       "      <td>72.000000</td>\n",
       "      <td>864.000000</td>\n",
       "      <td>0.000000</td>\n",
       "      <td>0.000000</td>\n",
       "      <td>...</td>\n",
       "      <td>26.119132</td>\n",
       "      <td>0.000000</td>\n",
       "      <td>0.000000</td>\n",
       "      <td>0.000000</td>\n",
       "      <td>0.000000</td>\n",
       "      <td>0.000000</td>\n",
       "      <td>0.000000</td>\n",
       "      <td>0.000000</td>\n",
       "      <td>0.000000</td>\n",
       "      <td>0.000000</td>\n",
       "    </tr>\n",
       "    <tr>\n",
       "      <th>25%</th>\n",
       "      <td>1.399000e+06</td>\n",
       "      <td>2012.000000</td>\n",
       "      <td>23.000000</td>\n",
       "      <td>3.000000</td>\n",
       "      <td>41000.000000</td>\n",
       "      <td>2.000000</td>\n",
       "      <td>184.000000</td>\n",
       "      <td>9200.000000</td>\n",
       "      <td>4.000000</td>\n",
       "      <td>1.000000</td>\n",
       "      <td>...</td>\n",
       "      <td>60.219110</td>\n",
       "      <td>0.000000</td>\n",
       "      <td>0.000000</td>\n",
       "      <td>0.000000</td>\n",
       "      <td>0.000000</td>\n",
       "      <td>0.000000</td>\n",
       "      <td>0.000000</td>\n",
       "      <td>0.000000</td>\n",
       "      <td>0.000000</td>\n",
       "      <td>0.000000</td>\n",
       "    </tr>\n",
       "    <tr>\n",
       "      <th>50%</th>\n",
       "      <td>2.588000e+06</td>\n",
       "      <td>2015.000000</td>\n",
       "      <td>38.000000</td>\n",
       "      <td>4.000000</td>\n",
       "      <td>80226.000000</td>\n",
       "      <td>2.900000</td>\n",
       "      <td>245.000000</td>\n",
       "      <td>18375.000000</td>\n",
       "      <td>8.000000</td>\n",
       "      <td>2.000000</td>\n",
       "      <td>...</td>\n",
       "      <td>67.150251</td>\n",
       "      <td>5.000000</td>\n",
       "      <td>0.000000</td>\n",
       "      <td>0.000000</td>\n",
       "      <td>1.000000</td>\n",
       "      <td>0.000000</td>\n",
       "      <td>0.000000</td>\n",
       "      <td>0.000000</td>\n",
       "      <td>0.000000</td>\n",
       "      <td>1.000000</td>\n",
       "    </tr>\n",
       "    <tr>\n",
       "      <th>75%</th>\n",
       "      <td>3.999000e+06</td>\n",
       "      <td>2018.000000</td>\n",
       "      <td>55.000000</td>\n",
       "      <td>4.000000</td>\n",
       "      <td>141000.000000</td>\n",
       "      <td>3.500000</td>\n",
       "      <td>333.000000</td>\n",
       "      <td>49950.000000</td>\n",
       "      <td>12.000000</td>\n",
       "      <td>3.000000</td>\n",
       "      <td>...</td>\n",
       "      <td>76.543568</td>\n",
       "      <td>5.000000</td>\n",
       "      <td>1.000000</td>\n",
       "      <td>0.000000</td>\n",
       "      <td>1.000000</td>\n",
       "      <td>0.000000</td>\n",
       "      <td>0.000000</td>\n",
       "      <td>0.000000</td>\n",
       "      <td>1.000000</td>\n",
       "      <td>1.000000</td>\n",
       "    </tr>\n",
       "    <tr>\n",
       "      <th>max</th>\n",
       "      <td>5.000000e+07</td>\n",
       "      <td>2021.000000</td>\n",
       "      <td>106.000000</td>\n",
       "      <td>4.000000</td>\n",
       "      <td>530000.000000</td>\n",
       "      <td>6.200000</td>\n",
       "      <td>639.000000</td>\n",
       "      <td>283500.000000</td>\n",
       "      <td>23.000000</td>\n",
       "      <td>5.000000</td>\n",
       "      <td>...</td>\n",
       "      <td>152.724371</td>\n",
       "      <td>11.000000</td>\n",
       "      <td>1.000000</td>\n",
       "      <td>1.000000</td>\n",
       "      <td>1.000000</td>\n",
       "      <td>1.000000</td>\n",
       "      <td>1.000000</td>\n",
       "      <td>1.000000</td>\n",
       "      <td>1.000000</td>\n",
       "      <td>1.000000</td>\n",
       "    </tr>\n",
       "  </tbody>\n",
       "</table>\n",
       "<p>8 rows × 26 columns</p>\n",
       "</div>"
      ],
      "text/plain": [
       "               Цена  Год выпуска  Совокупные преимущества      Новизна  \\\n",
       "count  1.741000e+03  1741.000000              1741.000000  1741.000000   \n",
       "mean   3.380268e+06  2014.049971                38.206203     3.349225   \n",
       "std    3.389446e+06     5.619683                23.067953     0.952815   \n",
       "min    5.000000e+04  1959.000000                 0.000000     0.000000   \n",
       "25%    1.399000e+06  2012.000000                23.000000     3.000000   \n",
       "50%    2.588000e+06  2015.000000                38.000000     4.000000   \n",
       "75%    3.999000e+06  2018.000000                55.000000     4.000000   \n",
       "max    5.000000e+07  2021.000000               106.000000     4.000000   \n",
       "\n",
       "              Пробег  Объем двигателя  Мощность двигателя          Налог  \\\n",
       "count    1741.000000      1741.000000         1741.000000    1741.000000   \n",
       "mean    99184.383688         2.899828          273.414130   33563.287191   \n",
       "std     78317.645505         1.216720          127.328646   39276.903078   \n",
       "min         1.000000         1.300000           72.000000     864.000000   \n",
       "25%     41000.000000         2.000000          184.000000    9200.000000   \n",
       "50%     80226.000000         2.900000          245.000000   18375.000000   \n",
       "75%    141000.000000         3.500000          333.000000   49950.000000   \n",
       "max    530000.000000         6.200000          639.000000  283500.000000   \n",
       "\n",
       "       Безопасность  Защита от угона  ...  Литровая мощность двигателя  \\\n",
       "count   1741.000000      1741.000000  ...                  1741.000000   \n",
       "mean       7.785181         2.124641  ...                    68.717074   \n",
       "std        5.250050         1.375055  ...                    14.282350   \n",
       "min        0.000000         0.000000  ...                    26.119132   \n",
       "25%        4.000000         1.000000  ...                    60.219110   \n",
       "50%        8.000000         2.000000  ...                    67.150251   \n",
       "75%       12.000000         3.000000  ...                    76.543568   \n",
       "max       23.000000         5.000000  ...                   152.724371   \n",
       "\n",
       "           Кузов 1  Низкая цена  Средняя цена  Повышенная цена    Новизна 0  \\\n",
       "count  1741.000000  1741.000000   1741.000000      1741.000000  1741.000000   \n",
       "mean      3.090752     0.278576      0.201034         0.519816     0.028145   \n",
       "std       2.547442     0.448427      0.400888         0.499751     0.165434   \n",
       "min       0.000000     0.000000      0.000000         0.000000     0.000000   \n",
       "25%       0.000000     0.000000      0.000000         0.000000     0.000000   \n",
       "50%       5.000000     0.000000      0.000000         1.000000     0.000000   \n",
       "75%       5.000000     1.000000      0.000000         1.000000     0.000000   \n",
       "max      11.000000     1.000000      1.000000         1.000000     1.000000   \n",
       "\n",
       "         Новизна 1    Новизна 2    Новизна 3    Новизна 4  \n",
       "count  1741.000000  1741.000000  1741.000000  1741.000000  \n",
       "mean      0.029294     0.083285     0.283171     0.575531  \n",
       "std       0.168676     0.276393     0.450668     0.494404  \n",
       "min       0.000000     0.000000     0.000000     0.000000  \n",
       "25%       0.000000     0.000000     0.000000     0.000000  \n",
       "50%       0.000000     0.000000     0.000000     1.000000  \n",
       "75%       0.000000     0.000000     1.000000     1.000000  \n",
       "max       1.000000     1.000000     1.000000     1.000000  \n",
       "\n",
       "[8 rows x 26 columns]"
      ]
     },
     "execution_count": 44,
     "metadata": {},
     "output_type": "execute_result"
    }
   ],
   "source": [
    "df.describe()\n",
    "#Благодаря данным представленным ниже мы можем выяснить несколько фактов о машинах, продаваемых на авто.ру\n",
    "#Минимальная цена продажи равна 500 тыс. руб, а самая дорогая машина на данном сайте стоит 50 млн руб.\n",
    "#Заметим, что максимальный пробег составляет аж !530 000 км! Известно, что среднестатистический водитель проезжает в год 15-20 тыс.км.\n",
    "#Делим 530 на 15, и получаем примерно 35 лет! - интересный факт\n"
   ]
  },
  {
   "cell_type": "code",
   "execution_count": 45,
   "metadata": {},
   "outputs": [
    {
     "data": {
      "text/html": [
       "<div>\n",
       "<style scoped>\n",
       "    .dataframe tbody tr th:only-of-type {\n",
       "        vertical-align: middle;\n",
       "    }\n",
       "\n",
       "    .dataframe tbody tr th {\n",
       "        vertical-align: top;\n",
       "    }\n",
       "\n",
       "    .dataframe thead tr th {\n",
       "        text-align: left;\n",
       "    }\n",
       "\n",
       "    .dataframe thead tr:last-of-type th {\n",
       "        text-align: right;\n",
       "    }\n",
       "</style>\n",
       "<table border=\"1\" class=\"dataframe\">\n",
       "  <thead>\n",
       "    <tr>\n",
       "      <th></th>\n",
       "      <th colspan=\"3\" halign=\"left\">Цена</th>\n",
       "      <th colspan=\"3\" halign=\"left\">Пробег</th>\n",
       "      <th colspan=\"3\" halign=\"left\">Стандартный налог на продажу</th>\n",
       "    </tr>\n",
       "    <tr>\n",
       "      <th></th>\n",
       "      <th>min</th>\n",
       "      <th>mean</th>\n",
       "      <th>max</th>\n",
       "      <th>min</th>\n",
       "      <th>mean</th>\n",
       "      <th>max</th>\n",
       "      <th>min</th>\n",
       "      <th>mean</th>\n",
       "      <th>max</th>\n",
       "    </tr>\n",
       "    <tr>\n",
       "      <th>Дороговизна</th>\n",
       "      <th></th>\n",
       "      <th></th>\n",
       "      <th></th>\n",
       "      <th></th>\n",
       "      <th></th>\n",
       "      <th></th>\n",
       "      <th></th>\n",
       "      <th></th>\n",
       "      <th></th>\n",
       "    </tr>\n",
       "  </thead>\n",
       "  <tbody>\n",
       "    <tr>\n",
       "      <th>Бюджетный сегмент</th>\n",
       "      <td>50000</td>\n",
       "      <td>9.631822e+05</td>\n",
       "      <td>1500000</td>\n",
       "      <td>12222</td>\n",
       "      <td>173696.882474</td>\n",
       "      <td>530000</td>\n",
       "      <td>6500</td>\n",
       "      <td>125213.672165</td>\n",
       "      <td>195000</td>\n",
       "    </tr>\n",
       "    <tr>\n",
       "      <th>Повышенная стоимость</th>\n",
       "      <td>2510000</td>\n",
       "      <td>5.215667e+06</td>\n",
       "      <td>50000000</td>\n",
       "      <td>1</td>\n",
       "      <td>59162.667770</td>\n",
       "      <td>294000</td>\n",
       "      <td>326300</td>\n",
       "      <td>678036.628035</td>\n",
       "      <td>6500000</td>\n",
       "    </tr>\n",
       "    <tr>\n",
       "      <th>Средняя цена</th>\n",
       "      <td>1508000</td>\n",
       "      <td>1.978596e+06</td>\n",
       "      <td>2500000</td>\n",
       "      <td>4000</td>\n",
       "      <td>99530.420000</td>\n",
       "      <td>292840</td>\n",
       "      <td>196040</td>\n",
       "      <td>257217.511429</td>\n",
       "      <td>325000</td>\n",
       "    </tr>\n",
       "  </tbody>\n",
       "</table>\n",
       "</div>"
      ],
      "text/plain": [
       "                         Цена                         Пробег                 \\\n",
       "                          min          mean       max    min           mean   \n",
       "Дороговизна                                                                   \n",
       "Бюджетный сегмент       50000  9.631822e+05   1500000  12222  173696.882474   \n",
       "Повышенная стоимость  2510000  5.215667e+06  50000000      1   59162.667770   \n",
       "Средняя цена          1508000  1.978596e+06   2500000   4000   99530.420000   \n",
       "\n",
       "                             Стандартный налог на продажу                 \\\n",
       "                         max                          min           mean   \n",
       "Дороговизна                                                                \n",
       "Бюджетный сегмент     530000                         6500  125213.672165   \n",
       "Повышенная стоимость  294000                       326300  678036.628035   \n",
       "Средняя цена          292840                       196040  257217.511429   \n",
       "\n",
       "                               \n",
       "                          max  \n",
       "Дороговизна                    \n",
       "Бюджетный сегмент      195000  \n",
       "Повышенная стоимость  6500000  \n",
       "Средняя цена           325000  "
      ]
     },
     "execution_count": 45,
     "metadata": {},
     "output_type": "execute_result"
    }
   ],
   "source": [
    "group = df.groupby('Дороговизна')[['Цена', 'Пробег', 'Стандартный налог на продажу']].agg(['min', 'mean', 'max'])\n",
    "group\n",
    "#Ниже представлена таблица с группировкой по дороговизне (=>3 класса), где указаны минимум, среднее значение и максимум по 3 характеристикам (цена, пробег,  стандартный налог на продажу)\n",
    "#Выше мы уже указали минимум и максимум цен, которые вообще присутствуют на сайте\n",
    "#Здесь же мы предположили при составлении таблицы и вывели, что средний сегмент авто колеблется от 1,5 млн до 2,5 млн руб\n",
    "#Согласно статистике по автомобилям в России https://cenamashin.ru/statistika/russia/avg_price#:~:text=Массовый%20сегмент%20-%20цена%20нового,от%203%20000%20000%20₽\n",
    "#Мы были почти правы. У них только немного смещена граница с 2,5 до 3 млн. руб."
   ]
  },
  {
   "cell_type": "code",
   "execution_count": 46,
   "metadata": {
    "scrolled": true
   },
   "outputs": [
    {
     "data": {
      "image/png": "[encoded data removed]",
      "text/plain": [
       "<Figure size 432x288 with 1 Axes>"
      ]
     },
     "metadata": {
      "needs_background": "light"
     },
     "output_type": "display_data"
    }
   ],
   "source": [
    "import matplotlib.pyplot as plt\n",
    "import pandas as pd\n",
    "from mpl_toolkits.mplot3d import Axes3D\n",
    "\n",
    "fig = plt.figure()\n",
    "ax = fig.add_subplot(111, projection = '3d')\n",
    "\n",
    "x = df['Объем двигателя']\n",
    "y = df['Цена']\n",
    "z = df['Пробег']\n",
    "\n",
    "ax.scatter(x, y, z)\n",
    "ax.set_xlabel(\"Объем двигателя\")\n",
    "ax.set_ylabel(\"Цена\")\n",
    "ax.set_zlabel(\"Пробег\")\n",
    "\n",
    "plt.show()\n",
    "#Кроме зависимости цена-пробег мы добавили еще и зависимость от объема двигателя\n",
    "#В итоге, чем больше объем двигателя, тем больше цена авто"
   ]
  }
 ],
 "metadata": {
  "kernelspec": {
   "display_name": "Python 3",
   "language": "python",
   "name": "python3"
  },
  "language_info": {
   "codemirror_mode": {
    "name": "ipython",
    "version": 3
   },
   "file_extension": ".py",
   "mimetype": "text/x-python",
   "name": "python",
   "nbconvert_exporter": "python",
   "pygments_lexer": "ipython3",
   "version": "3.8.5"
  }
 },
 "nbformat": 4,
 "nbformat_minor": 4
}
